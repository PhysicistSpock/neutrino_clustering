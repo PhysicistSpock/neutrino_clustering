{
 "cells": [
  {
   "cell_type": "code",
   "execution_count": 1,
   "metadata": {},
   "outputs": [],
   "source": [
    "from shared.preface import *\n",
    "import shared.functions as fct\n",
    "import shared.my_units as my\n",
    "import shared.control_center as CC"
   ]
  },
  {
   "cell_type": "markdown",
   "metadata": {},
   "source": [
    "## Exploring snapshot_0036"
   ]
  },
  {
   "cell_type": "code",
   "execution_count": null,
   "metadata": {},
   "outputs": [],
   "source": [
    "# print(os.getcwd())\n",
    "\n",
    "f = h5py.File('/home/fabian/ownCloud/sim_data/snapshot_0036.hdf5')\n",
    "\n",
    "def printname(name):\n",
    "    print(name)\n",
    "\n",
    "# f.visit(printname)\n",
    "print(f.keys())"
   ]
  },
  {
   "cell_type": "code",
   "execution_count": null,
   "metadata": {},
   "outputs": [],
   "source": [
    "dset = f['DMParticles/Coordinates']\n",
    "\n",
    "# dset.visit(printname)\n",
    "\n",
    "print(dset.shape)"
   ]
  },
  {
   "cell_type": "markdown",
   "metadata": {},
   "source": [
    "## Visualize DM mass distribution"
   ]
  },
  {
   "cell_type": "code",
   "execution_count": null,
   "metadata": {},
   "outputs": [],
   "source": [
    "from swiftsimio import load\n",
    "from swiftsimio.visualisation.projection import project_pixel_grid\n",
    "from swiftsimio.visualisation.smoothing_length_generation import generate_smoothing_lengths\n",
    "\n",
    "data = load('/home/fabian/ownCloud/sim_data/snapshot_0036.hdf5')\n",
    "\n",
    "# Generate smoothing lengths for the dark matter\n",
    "data.dark_matter.smoothing_length = generate_smoothing_lengths(\n",
    "    data.dark_matter.coordinates,\n",
    "    data.metadata.boxsize,\n",
    "    kernel_gamma=1.8,\n",
    "    neighbours=57,\n",
    "    speedup_fac=2,\n",
    "    dimension=3,\n",
    ")\n",
    "\n",
    "# Project the dark matter mass\n",
    "dm_mass = project_pixel_grid(\n",
    "    # Note here that we pass in the dark matter dataset not the whole\n",
    "    # data object, to specify what particle type we wish to visualise\n",
    "    data=data.dark_matter,\n",
    "    boxsize=data.metadata.boxsize,\n",
    "    resolution=1024,\n",
    "    project=\"masses\",\n",
    "    parallel=True,\n",
    "    region=None\n",
    ")"
   ]
  },
  {
   "cell_type": "code",
   "execution_count": null,
   "metadata": {},
   "outputs": [],
   "source": [
    "from matplotlib.pyplot import imsave\n",
    "from matplotlib.colors import LogNorm\n",
    "\n",
    "# Everyone knows that dark matter is purple\n",
    "imsave(\"sim_data/dm_mass_map.png\", LogNorm()(dm_mass), cmap=\"inferno\")"
   ]
  },
  {
   "cell_type": "markdown",
   "metadata": {},
   "source": [
    "## Calculate halo mass function (HMF)"
   ]
  },
  {
   "cell_type": "code",
   "execution_count": 37,
   "metadata": {},
   "outputs": [
    {
     "name": "stdout",
     "output_type": "stream",
     "text": [
      "(6414,)\n",
      "(44,) [ 104  350 1258 1395  970  705  436  301  197  132   78   44   43   16\n",
      "   23]\n"
     ]
    }
   ],
   "source": [
    "from colossus.cosmology import cosmology\n",
    "cosmology.setCosmology('planck13');\n",
    "from colossus.lss import mass_function\n",
    "\n",
    "def HMF(halo):\n",
    "\n",
    "    dlogm = 0.2\n",
    "    bins = 10 ** (np.arange(6, 15, dlogm))\n",
    "    V = 12 ** 3 # Mpc\n",
    "\n",
    "    # Load the data\n",
    "    g = h5py.File('/home/fabian/ownCloud/sim_data/subhalo_0036.properties', 'r')\n",
    "    mass = g[\"Mass_200crit\"][:] * 1e10  # convert to Msun\n",
    "    print(mass.shape)\n",
    "\n",
    "    if halo == 'subhalo':\n",
    "        subtype = g[\"Structuretype\"][:]\n",
    "        subhalo = subtype > 10\n",
    "        mass = mass[subhalo]\n",
    "\n",
    "    binnedmass, massrange = np.histogram(mass, bins=bins)\n",
    "    print(binnedmass.shape, binnedmass[10:25])\n",
    "\n",
    "    massnlarger = np.zeros(len(binnedmass))\n",
    "    for i in range(0, len(massnlarger)):\n",
    "        massnlarger[i] = np.sum(binnedmass[i:])\n",
    "\n",
    "    f = h5py.File('/home/fabian/ownCloud/sim_data/snapshot_0036.hdf5', 'r')\n",
    "    cosmo = f[\"Cosmology\"]\n",
    "    redshift = cosmo.attrs[\"Redshift\"][0]\n",
    "    mass = f[\"PartType1/Masses\"][:]\n",
    "    mass = mass[0] * 1e10 # convert to Msun\n",
    "    limit = 100 * mass\n",
    "\n",
    "    # Determine the HMF #? why do these lines of code generate the HMF?\n",
    "    errormassn = massnlarger ** 0.5\n",
    "    numbden = massnlarger / V\n",
    "    numbdenerr = errormassn / V\n",
    "    massplot = (massrange[:-1] + massrange[1:]) / 2\n",
    "    dernumbden = -np.diff(numbden) / np.diff(np.log10(massplot))\n",
    "    dererr = 2 ** 0.5 / dlogm * (numbdenerr[:-1] + numbdenerr[1:]) / 2\n",
    "\n",
    "    M = (massplot[:-1] + massplot[1:]) / 2.\n",
    "    dndM = dernumbden\n",
    "    error = dererr\n",
    "\n",
    "    return M, dndM, error, limit, redshift\n",
    "\n",
    "\n",
    "def make_HMF():\n",
    "\n",
    "    M, dndM, error, limit, redshift = HMF('halo')\n",
    "\n",
    "    plt.plot(M, dndM, label=\"snapshot of z=0\",lw=2,color='tab:green')\n",
    "    # plt.fill_between(M, dndM - error, dndM + error, alpha=0.4,color='tab:green')\n",
    "\n",
    "    h = 0.67\n",
    "    M = 10 ** np.arange(7, 16, 0.2)\n",
    "\n",
    "    # Tinker version.\n",
    "    mfunc = mass_function.massFunction(\n",
    "        M / h, redshift, mdef='200c', model='tinker08', q_out='dndlnM'\n",
    "        )\n",
    "\n",
    "    # Sim version.\n",
    "    plt.loglog(M, mfunc / h**3, '-', label='Tinker+08', color='black', zorder=1)\n",
    "\n",
    "    # plt.ylim(1e-7, 1e0)\n",
    "    # plt.xlim(10 ** 9, 10 ** 15)\n",
    "    # plt.axvline(x=limit, linestyle=\"--\", lw=1, color=\"grey\")\n",
    "\n",
    "    plt.xlabel(\"M${}_{200,\\mathrm{crit}}$ ($M_\\odot$)\")\n",
    "    plt.ylabel(\"dn/d($\\log$10(M${}_{200}$) (Mpc$^{-3}$)\")\n",
    "    plt.legend(loc='upper right' ,prop={'size': 10})\n",
    "    plt.grid(\"True\")\n",
    "    plt.savefig('sim_data/HMF_0036.pdf', bbox_inches='tight')#, dpi=200)\n",
    "    plt.close()\n",
    "\n",
    "    # M, dndM, error, limit, redshift = HMF('subhalo')\n",
    "\n",
    "    # plt.figure()\n",
    "    # ax = plt.subplot(1,1,1)\n",
    "    # plt.grid(\"True\")\n",
    "\n",
    "    # plt.plot(M, dndM, label=\"SWIFT\",lw=2,color='tab:blue')\n",
    "    # plt.fill_between(M, dndM - error, dndM + error, alpha=0.4,color='tab:blue')\n",
    "\n",
    "    # plt.xscale(\"log\")\n",
    "    # # plt.ylim(1e-7, 1e0)\n",
    "    # # plt.xlim(10 ** 9, 10 ** 15)\n",
    "    # plt.axvline(x=limit, linestyle=\"--\", lw=1, color=\"grey\")\n",
    "\n",
    "    # h = 0.67\n",
    "    # M = np.arange(7, 16, 0.2)\n",
    "    # M = 10**M\n",
    "    # mfunc = mass_function.massFunction(M / h, redshift, mdef = '200c', model = 'tinker08', q_out = 'dndlnM')\n",
    "    # plt.plot(M, mfunc / h**3, '-', label = 'Tinker et al. (2008)',color='black',zorder=1)\n",
    "\n",
    "    # plt.xlabel(\"M${}_{200,\\mathrm{crit}}$ ($M_\\odot$)\")\n",
    "    # plt.ylabel(\"(Subhalo) dn/d($\\log$10(M${}_{200}$) (Mpc$^{-3}$)\")\n",
    "    # ax.tick_params(direction='in',axis='both',which='both',pad=4.5)\n",
    "    # plt.yscale(\"log\")\n",
    "    # # plt.legend(loc=[0.45,0.8],labelspacing=0.2,handlelength=1.5,handletextpad=0.4,frameon=False)\n",
    "    # plt.legend()\n",
    "    # ax.tick_params(direction='in', axis='both', which='both', pad=4.5)\n",
    "    # plt.savefig('sim_data/SubHMF_0036.pdf')#, dpi=200)\n",
    "    # plt.close()\n",
    "\n",
    "make_HMF()"
   ]
  }
 ],
 "metadata": {
  "interpreter": {
   "hash": "f954fd519baabf9adc4c45dc1841670b54a153fe717f7fe4f74275668c90e9d2"
  },
  "kernelspec": {
   "display_name": "Python 3.9.7 64-bit ('NC_numba': conda)",
   "language": "python",
   "name": "python3"
  },
  "language_info": {
   "codemirror_mode": {
    "name": "ipython",
    "version": 3
   },
   "file_extension": ".py",
   "mimetype": "text/x-python",
   "name": "python",
   "nbconvert_exporter": "python",
   "pygments_lexer": "ipython3",
   "version": "3.9.7"
  },
  "orig_nbformat": 4
 },
 "nbformat": 4,
 "nbformat_minor": 2
}
