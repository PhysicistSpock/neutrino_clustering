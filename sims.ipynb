{
 "cells": [
  {
   "cell_type": "code",
   "execution_count": 1,
   "metadata": {},
   "outputs": [],
   "source": [
    "from shared.preface import *\n",
    "import shared.functions as fct\n",
    "import shared.my_units as my\n",
    "import shared.control_center as CC"
   ]
  },
  {
   "cell_type": "markdown",
   "metadata": {},
   "source": [
    "## Load snapshot_0036"
   ]
  },
  {
   "cell_type": "code",
   "execution_count": 25,
   "metadata": {},
   "outputs": [
    {
     "name": "stdout",
     "output_type": "stream",
     "text": [
      "<KeysViewHDF5 ['Cells', 'Code', 'Cosmology', 'DMParticles', 'GravityScheme', 'Header', 'InternalCodeUnits', 'Parameters', 'PartType1', 'PhysicalConstants', 'Policy', 'SIDMScheme', 'SubgridScheme', 'Units', 'UnusedParameters']>\n"
     ]
    }
   ],
   "source": [
    "# print(os.getcwd())\n",
    "\n",
    "f = h5py.File('/home/fabian/ownCloud/sim_data/snapshot_0036.hdf5')\n",
    "\n",
    "def printname(name):\n",
    "    print(name)\n",
    "\n",
    "# f.visit(printname)\n",
    "print(f.keys())"
   ]
  },
  {
   "cell_type": "code",
   "execution_count": 29,
   "metadata": {},
   "outputs": [
    {
     "name": "stdout",
     "output_type": "stream",
     "text": [
      "(6644672, 3)\n"
     ]
    }
   ],
   "source": [
    "dset = f['DMParticles/Coordinates']\n",
    "\n",
    "# dset.visit(printname)\n",
    "\n",
    "print(dset.shape)"
   ]
  },
  {
   "cell_type": "code",
   "execution_count": 32,
   "metadata": {},
   "outputs": [
    {
     "name": "stdout",
     "output_type": "stream",
     "text": [
      "Could not find gas gamma, assuming 5./3.\n"
     ]
    }
   ],
   "source": [
    "from swiftsimio import load\n",
    "from swiftsimio.visualisation.projection import project_pixel_grid\n",
    "from swiftsimio.visualisation.smoothing_length_generation import generate_smoothing_lengths\n",
    "\n",
    "data = load('/home/fabian/ownCloud/sim_data/snapshot_0036.hdf5')\n",
    "\n",
    "# Generate smoothing lengths for the dark matter\n",
    "data.dark_matter.smoothing_length = generate_smoothing_lengths(\n",
    "    data.dark_matter.coordinates,\n",
    "    data.metadata.boxsize,\n",
    "    kernel_gamma=1.8,\n",
    "    neighbours=57,\n",
    "    speedup_fac=2,\n",
    "    dimension=3,\n",
    ")\n",
    "\n",
    "# Project the dark matter mass\n",
    "dm_mass = project_pixel_grid(\n",
    "    # Note here that we pass in the dark matter dataset not the whole\n",
    "    # data object, to specify what particle type we wish to visualise\n",
    "    data=data.dark_matter,\n",
    "    boxsize=data.metadata.boxsize,\n",
    "    resolution=1024,\n",
    "    project=\"masses\",\n",
    "    parallel=True,\n",
    "    region=None\n",
    ")"
   ]
  },
  {
   "cell_type": "code",
   "execution_count": 34,
   "metadata": {},
   "outputs": [],
   "source": [
    "from matplotlib.pyplot import imsave\n",
    "from matplotlib.colors import LogNorm\n",
    "\n",
    "# Everyone knows that dark matter is purple\n",
    "imsave(\"sim_data/dm_mass_map.png\", LogNorm()(dm_mass), cmap=\"inferno\")"
   ]
  }
 ],
 "metadata": {
  "interpreter": {
   "hash": "f954fd519baabf9adc4c45dc1841670b54a153fe717f7fe4f74275668c90e9d2"
  },
  "kernelspec": {
   "display_name": "Python 3.9.7 64-bit ('NC_numba': conda)",
   "language": "python",
   "name": "python3"
  },
  "language_info": {
   "codemirror_mode": {
    "name": "ipython",
    "version": 3
   },
   "file_extension": ".py",
   "mimetype": "text/x-python",
   "name": "python",
   "nbconvert_exporter": "python",
   "pygments_lexer": "ipython3",
   "version": "3.9.7"
  },
  "orig_nbformat": 4
 },
 "nbformat": 4,
 "nbformat_minor": 2
}
