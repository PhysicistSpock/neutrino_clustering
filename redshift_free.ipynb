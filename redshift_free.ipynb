{
 "cells": [
  {
   "cell_type": "code",
   "execution_count": 1,
   "metadata": {},
   "outputs": [],
   "source": [
    "from shared.preface import *\n",
    "import shared.functions as fct\n",
    "import shared.my_units as my\n",
    "import shared.control_center as CC"
   ]
  },
  {
   "cell_type": "code",
   "execution_count": 2,
   "metadata": {},
   "outputs": [
    {
     "name": "stdout",
     "output_type": "stream",
     "text": [
      "(67,) (67,)\n"
     ]
    },
    {
     "ename": "IndexError",
     "evalue": "index 0 is out of bounds for axis 0 with size 0",
     "output_type": "error",
     "traceback": [
      "\u001b[0;31m---------------------------------------------------------------------------\u001b[0m",
      "\u001b[0;31mIndexError\u001b[0m                                Traceback (most recent call last)",
      "\u001b[0;32m/tmp/ipykernel_32540/3886411046.py\u001b[0m in \u001b[0;36m<module>\u001b[0;34m\u001b[0m\n\u001b[1;32m     37\u001b[0m \u001b[0mmasses\u001b[0m \u001b[0;34m=\u001b[0m \u001b[0mnp\u001b[0m\u001b[0;34m.\u001b[0m\u001b[0marray\u001b[0m\u001b[0;34m(\u001b[0m\u001b[0;34m[\u001b[0m\u001b[0;36m0.01\u001b[0m\u001b[0;34m,\u001b[0m \u001b[0;36m0.05\u001b[0m\u001b[0;34m,\u001b[0m \u001b[0;36m0.1\u001b[0m\u001b[0;34m,\u001b[0m \u001b[0;36m0.3\u001b[0m\u001b[0;34m]\u001b[0m\u001b[0;34m)\u001b[0m\u001b[0;34m*\u001b[0m\u001b[0munit\u001b[0m\u001b[0;34m.\u001b[0m\u001b[0meV\u001b[0m\u001b[0;34m\u001b[0m\u001b[0;34m\u001b[0m\u001b[0m\n\u001b[1;32m     38\u001b[0m \u001b[0;32mfor\u001b[0m \u001b[0mj\u001b[0m\u001b[0;34m,\u001b[0m \u001b[0mm\u001b[0m \u001b[0;32min\u001b[0m \u001b[0menumerate\u001b[0m\u001b[0;34m(\u001b[0m\u001b[0mmasses\u001b[0m\u001b[0;34m)\u001b[0m\u001b[0;34m:\u001b[0m\u001b[0;34m\u001b[0m\u001b[0;34m\u001b[0m\u001b[0m\n\u001b[0;32m---> 39\u001b[0;31m     \u001b[0mn_nu_of_redshift\u001b[0m\u001b[0;34m(\u001b[0m\u001b[0mm\u001b[0m\u001b[0;34m)\u001b[0m\u001b[0;34m\u001b[0m\u001b[0;34m\u001b[0m\u001b[0m\n\u001b[0m\u001b[1;32m     40\u001b[0m \u001b[0;34m\u001b[0m\u001b[0m\n\u001b[1;32m     41\u001b[0m     \u001b[0mn\u001b[0m \u001b[0;34m=\u001b[0m \u001b[0mnp\u001b[0m\u001b[0;34m.\u001b[0m\u001b[0mload\u001b[0m\u001b[0;34m(\u001b[0m\u001b[0;34mf'neutrino_data/number_densities_at_z_{m.value}eV.npy'\u001b[0m\u001b[0;34m)\u001b[0m\u001b[0;34m/\u001b[0m\u001b[0mCC\u001b[0m\u001b[0;34m.\u001b[0m\u001b[0mN0\u001b[0m\u001b[0;34m\u001b[0m\u001b[0;34m\u001b[0m\u001b[0m\n",
      "\u001b[0;32m/tmp/ipykernel_32540/3886411046.py\u001b[0m in \u001b[0;36mn_nu_of_redshift\u001b[0;34m(m_eV)\u001b[0m\n\u001b[1;32m     27\u001b[0m \u001b[0;34m\u001b[0m\u001b[0m\n\u001b[1;32m     28\u001b[0m         \u001b[0;31m# Calculate number density.\u001b[0m\u001b[0;34m\u001b[0m\u001b[0;34m\u001b[0m\u001b[0m\n\u001b[0;32m---> 29\u001b[0;31m         \u001b[0mn_nus\u001b[0m\u001b[0;34m[\u001b[0m\u001b[0mi\u001b[0m\u001b[0;34m]\u001b[0m \u001b[0;34m=\u001b[0m \u001b[0mfct\u001b[0m\u001b[0;34m.\u001b[0m\u001b[0mnumber_density\u001b[0m\u001b[0;34m(\u001b[0m\u001b[0mp0\u001b[0m\u001b[0;34m,\u001b[0m \u001b[0mp1\u001b[0m\u001b[0;34m[\u001b[0m\u001b[0;34m:\u001b[0m\u001b[0mi\u001b[0m\u001b[0;34m]\u001b[0m\u001b[0;34m)\u001b[0m\u001b[0;34m.\u001b[0m\u001b[0mvalue\u001b[0m\u001b[0;34m\u001b[0m\u001b[0;34m\u001b[0m\u001b[0m\n\u001b[0m\u001b[1;32m     30\u001b[0m \u001b[0;34m\u001b[0m\u001b[0m\n\u001b[1;32m     31\u001b[0m     \u001b[0mnp\u001b[0m\u001b[0;34m.\u001b[0m\u001b[0msave\u001b[0m\u001b[0;34m(\u001b[0m\u001b[0;34mf'neutrino_data/number_densities_at_z_{m_eV.value}eV.npy'\u001b[0m\u001b[0;34m,\u001b[0m \u001b[0mn_nus\u001b[0m\u001b[0;34m)\u001b[0m\u001b[0;34m\u001b[0m\u001b[0;34m\u001b[0m\u001b[0m\n",
      "\u001b[0;32m~/my_github_projects/neutrino_clustering/shared/functions.py\u001b[0m in \u001b[0;36mnumber_density\u001b[0;34m(p0, p1)\u001b[0m\n\u001b[1;32m    381\u001b[0m     \u001b[0;31m#NOTE: trapz integral method needs sorted (ascending) arrays\u001b[0m\u001b[0;34m\u001b[0m\u001b[0;34m\u001b[0m\u001b[0m\n\u001b[1;32m    382\u001b[0m     \u001b[0mind\u001b[0m \u001b[0;34m=\u001b[0m \u001b[0mp0\u001b[0m\u001b[0;34m.\u001b[0m\u001b[0margsort\u001b[0m\u001b[0;34m(\u001b[0m\u001b[0;34m)\u001b[0m\u001b[0;34m\u001b[0m\u001b[0;34m\u001b[0m\u001b[0m\n\u001b[0;32m--> 383\u001b[0;31m     \u001b[0mp0_sort\u001b[0m\u001b[0;34m,\u001b[0m \u001b[0mp1_sort\u001b[0m \u001b[0;34m=\u001b[0m \u001b[0mp0\u001b[0m\u001b[0;34m[\u001b[0m\u001b[0mind\u001b[0m\u001b[0;34m]\u001b[0m\u001b[0;34m,\u001b[0m \u001b[0mp1\u001b[0m\u001b[0;34m[\u001b[0m\u001b[0mind\u001b[0m\u001b[0;34m]\u001b[0m\u001b[0;34m\u001b[0m\u001b[0;34m\u001b[0m\u001b[0m\n\u001b[0m\u001b[1;32m    384\u001b[0m \u001b[0;34m\u001b[0m\u001b[0m\n\u001b[1;32m    385\u001b[0m     \u001b[0;31m# Fermi-Dirac value with momentum at end of sim.\u001b[0m\u001b[0;34m\u001b[0m\u001b[0;34m\u001b[0m\u001b[0m\n",
      "\u001b[0;32m~/anaconda3/envs/NC_numba/lib/python3.9/site-packages/astropy/units/quantity.py\u001b[0m in \u001b[0;36m__getitem__\u001b[0;34m(self, key)\u001b[0m\n\u001b[1;32m   1039\u001b[0m     \u001b[0;32mdef\u001b[0m \u001b[0m__getitem__\u001b[0m\u001b[0;34m(\u001b[0m\u001b[0mself\u001b[0m\u001b[0;34m,\u001b[0m \u001b[0mkey\u001b[0m\u001b[0;34m)\u001b[0m\u001b[0;34m:\u001b[0m\u001b[0;34m\u001b[0m\u001b[0;34m\u001b[0m\u001b[0m\n\u001b[1;32m   1040\u001b[0m         \u001b[0;32mtry\u001b[0m\u001b[0;34m:\u001b[0m\u001b[0;34m\u001b[0m\u001b[0;34m\u001b[0m\u001b[0m\n\u001b[0;32m-> 1041\u001b[0;31m             \u001b[0mout\u001b[0m \u001b[0;34m=\u001b[0m \u001b[0msuper\u001b[0m\u001b[0;34m(\u001b[0m\u001b[0;34m)\u001b[0m\u001b[0;34m.\u001b[0m\u001b[0m__getitem__\u001b[0m\u001b[0;34m(\u001b[0m\u001b[0mkey\u001b[0m\u001b[0;34m)\u001b[0m\u001b[0;34m\u001b[0m\u001b[0;34m\u001b[0m\u001b[0m\n\u001b[0m\u001b[1;32m   1042\u001b[0m         \u001b[0;32mexcept\u001b[0m \u001b[0mIndexError\u001b[0m\u001b[0;34m:\u001b[0m\u001b[0;34m\u001b[0m\u001b[0;34m\u001b[0m\u001b[0m\n\u001b[1;32m   1043\u001b[0m             \u001b[0;31m# We want zero-dimensional Quantity objects to behave like scalars,\u001b[0m\u001b[0;34m\u001b[0m\u001b[0;34m\u001b[0m\u001b[0m\n",
      "\u001b[0;31mIndexError\u001b[0m: index 0 is out of bounds for axis 0 with size 0"
     ]
    },
    {
     "data": {
      "image/png": "[encoded data removed]",
      "text/plain": [
       "<Figure size 576x1008 with 1 Axes>"
      ]
     },
     "metadata": {
      "needs_background": "light"
     },
     "output_type": "display_data"
    }
   ],
   "source": [
    "from shared.preface import *\n",
    "import shared.functions as fct\n",
    "import shared.my_units as my\n",
    "import shared.control_center as CC\n",
    "\n",
    "# Load data, which function uses.\n",
    "u_all = fct.load_u_sim()\n",
    "u0, u1 = u_all[:,0,:], u_all[:,-1,:]\n",
    "v_kpc = fct.v_range_sim()\n",
    "\n",
    "def n_nu_of_redshift(m_eV):\n",
    "    \n",
    "    # Select velocities in correct momentum range for mass.\n",
    "    l, u = fct.v_limits(CC.LOWER, CC.UPPER, m_eV, 'kpc/s')\n",
    "    indices = np.where((l.value <= v_kpc) & (v_kpc <= u.value))[0]\n",
    "    u0_select, u1_select = u0[indices,:], u1[indices,:]\n",
    "\n",
    "    # Convert to momenta.\n",
    "    p0, _ = fct.u_to_p_eV(u0_select, m_eV)\n",
    "    p1, _ = fct.u_to_p_eV(u1_select, m_eV)\n",
    "    print(p0.shape, p1.shape)\n",
    "\n",
    "    zeds = CC.ZEDS\n",
    "\n",
    "    n_nus = np.zeros(len(zeds))\n",
    "    for i, _ in enumerate(zeds):\n",
    "\n",
    "        # Calculate number density.\n",
    "        n_nus[i] = fct.number_density(p0, p1[:i]).value\n",
    "\n",
    "    np.save(f'neutrino_data/number_densities_at_z_{m_eV.value}eV.npy', n_nus)\n",
    "\n",
    "\n",
    "# Plotting.\n",
    "fig, ax = plt.subplots(1,1, figsize=(8,14))\n",
    "\n",
    "masses = np.array([0.01, 0.05, 0.1, 0.3])*unit.eV\n",
    "for j, m in enumerate(masses):\n",
    "    n_nu_of_redshift(m)\n",
    "\n",
    "    n = np.load(f'neutrino_data/number_densities_at_z_{m.value}eV.npy')/CC.N0\n",
    "    print('Max:', np.max(n),'Mean:', np.mean(n))\n",
    "\n",
    "    ax.semilogy(CC.ZEDS, n-1)\n",
    "\n",
    "ax.set_title('Figure 4')\n",
    "ax.set_xlabel('z')\n",
    "ax.set_ylabel(r'$n_{\\nu} / n_{\\nu, 0}$')\n",
    "ax.set_ylim(1e-3, 1e1)\n",
    "\n",
    "ax.yaxis.set_major_formatter(ticker.FuncFormatter(fct.y_fmt))\n",
    "plt.savefig('check_plots/figure_4.pdf')\n",
    "plt.show()"
   ]
  },
  {
   "cell_type": "markdown",
   "metadata": {},
   "source": [
    "## Integrand for number density, momentum distr."
   ]
  },
  {
   "cell_type": "code",
   "execution_count": null,
   "metadata": {},
   "outputs": [],
   "source": [
    "# Load velocities of sim.\n",
    "u_all = fct.load_u_sim()\n",
    "u0, u1 = u_all[:,0,:], u_all[:,-1,:]\n",
    "\n",
    "# Position of earth w.r.t Milky Way NFW halo center.\n",
    "x1, x2, x3 = 8.5, 0., 0.\n",
    "x0 = np.array([x1, x2, x3])\n",
    "\n",
    "def momentum_shape(m_eV):\n",
    "\n",
    "    # Select velocities in correct momentum range for mass.\n",
    "    l, u = fct.v_limits(CC.LOWER, CC.UPPER, m_eV, 'kpc/s')\n",
    "    indices = np.where((l.value <= CC.V_KPC) & (CC.V_KPC <= u.value))[0]\n",
    "    u0_select, u1_select = u0[indices,:], u1[indices,:]\n",
    "\n",
    "    # Convert to momenta.\n",
    "    p0, y0 = fct.u_to_p_eV(u0_select, m_eV)\n",
    "    p1, _ = fct.u_to_p_eV(u1_select, m_eV)\n",
    "\n",
    "    # Sort.\n",
    "    order = p0.argsort()\n",
    "    p0_sort, p1_sort = p0[order], p1[order]\n",
    "\n",
    "    # Fermi-Dirac values with momentum at end of sim.\n",
    "    FDvals = fct.Fermi_Dirac(p1_sort)\n",
    "\n",
    "    return p0_sort.value, FDvals, y0[order]\n",
    "\n",
    "\n",
    "fig, axs = plt.subplots(2,2, figsize=(12,10))\n",
    "fig.suptitle(\n",
    "    'Integrand for number density (np.trapz)' \n",
    "    '\\n'\n",
    "    f'{CC.NR_OF_NEUTRINOS} neutrinos',\n",
    "    fontsize=18)\n",
    "\n",
    "masses = np.array([0.01, 0.05, 0.1, 0.3])*unit.eV\n",
    "for j, m in enumerate(masses):\n",
    "    p0_sort, FDvals, y0 = momentum_shape(m)\n",
    "    y = p0_sort**2. * FDvals\n",
    "    print(y0[0], y0[-1])\n",
    "\n",
    "    i = 0\n",
    "    if j in (2,3):\n",
    "        i = 1\n",
    "        j -= 2\n",
    "\n",
    "    yOG = np.linspace(CC.LOWER, CC.UPPER, len(y0))\n",
    "\n",
    "    axs[i,j].plot(yOG, y,)# lw=0.3)\n",
    "    axs[i,j].set_title(f'{m.value} eV')\n",
    "    axs[i,j].set_xlabel(r'Initial Momenta (magnitudes) / $T_{\\nu ,0}$')\n",
    "    axs[i,j].set_ylabel(r'$p^2 \\cdot$ FD(p)')\n",
    "\n",
    "    # Escape momenta.\n",
    "    _, y_esc = fct.escape_momentum(x0, 0., my.rho0_NFW, my.Mvir_NFW, m)\n",
    "    axs[i,j].axvline(y_esc, c='r', ls='-.')\n",
    "\n",
    "    axs[i,j].set_xlim(0,10)\n",
    "    axs[i,j].set_ylim(y[0],np.max(y))\n",
    "\n",
    "\n",
    "plt.savefig('check_plots/figure_4_momenta.pdf')\n",
    "plt.show()"
   ]
  }
 ],
 "metadata": {
  "interpreter": {
   "hash": "2fc11506ce542309680a5d7a18d7170bcceeadf7cd3c0301f21ef62d84cf3c72"
  },
  "kernelspec": {
   "display_name": "Python 3.9.7 64-bit ('neutrino_clustering': conda)",
   "name": "python3"
  },
  "language_info": {
   "codemirror_mode": {
    "name": "ipython",
    "version": 3
   },
   "file_extension": ".py",
   "mimetype": "text/x-python",
   "name": "python",
   "nbconvert_exporter": "python",
   "pygments_lexer": "ipython3",
   "version": "3.9.7"
  },
  "orig_nbformat": 4
 },
 "nbformat": 4,
 "nbformat_minor": 2
}
