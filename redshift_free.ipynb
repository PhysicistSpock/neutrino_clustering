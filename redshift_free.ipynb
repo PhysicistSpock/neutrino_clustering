{
 "cells": [
  {
   "cell_type": "code",
   "execution_count": null,
   "metadata": {},
   "outputs": [],
   "source": [
    "from shared.preface import *\n",
    "import shared.functions as fct\n",
    "import shared.my_units as my\n",
    "import shared.control_center as CC"
   ]
  },
  {
   "cell_type": "code",
   "execution_count": 2,
   "metadata": {},
   "outputs": [
    {
     "name": "stdout",
     "output_type": "stream",
     "text": [
      "Max: 1.0049123557416109 Mean: 1.004912355741611\n",
      "Max: 1.0033270863333354 Mean: 1.0033270863333354\n",
      "Max: 1.0033733848691708 Mean: 1.0033733848691708\n",
      "Max: 1.0030607192939758 Mean: 1.0030607192939756\n"
     ]
    },
    {
     "data": {
      "image/png": "[encoded data removed]",
      "text/plain": [
       "<Figure size 576x1008 with 1 Axes>"
      ]
     },
     "metadata": {
      "needs_background": "light"
     },
     "output_type": "display_data"
    }
   ],
   "source": [
    "from shared.preface import *\n",
    "import shared.functions as fct\n",
    "import shared.my_units as my\n",
    "import shared.control_center as CC\n",
    "\n",
    "# Load data, which function uses.\n",
    "u_all = fct.load_u_sim()\n",
    "\n",
    "def n_nu_of_redshift(m_eV):\n",
    "    \n",
    "    # Convert to momenta.\n",
    "    p_all, y_all = fct.u_to_p_eV(u_all, m_eV)\n",
    "\n",
    "    # Select correct momentum range.\n",
    "    indices = np.where((CC.LOWER <= y_all[:,0]) & (y_all[:,0] <= CC.UPPER))\n",
    "    p = p_all[indices]\n",
    "\n",
    "    zeds = CC.ZEDS\n",
    "\n",
    "    n_nus = np.zeros(len(zeds))\n",
    "    for i, _ in enumerate(zeds):\n",
    "\n",
    "        # Calculate number density.\n",
    "        n_nus[i] = fct.number_density(p[:,0], p[:,i]).value\n",
    "\n",
    "    np.save(f'neutrino_data/number_densities_at_z_{m_eV.value}eV.npy', n_nus)\n",
    "\n",
    "\n",
    "# Plotting.\n",
    "fig, ax = plt.subplots(1,1, figsize=(8,14))\n",
    "\n",
    "masses = np.array([0.01, 0.05, 0.1, 0.3])*unit.eV\n",
    "for j, m in enumerate(masses):\n",
    "    n_nu_of_redshift(m)\n",
    "\n",
    "    n = np.load(f'neutrino_data/number_densities_at_z_{m.value}eV.npy')/CC.N0\n",
    "    print('Max:', np.max(n),'Mean:', np.mean(n))\n",
    "\n",
    "    ax.semilogy(CC.ZEDS, n-1, label=f'{m.value}')\n",
    "\n",
    "ax.set_title('Figure 4')\n",
    "ax.set_xlabel('z')\n",
    "ax.set_ylabel(r'$n_{\\nu} / n_{\\nu, 0}$')\n",
    "ax.set_ylim(1e-3, 1e-2)\n",
    "ax.legend()\n",
    "\n",
    "ax.yaxis.set_major_formatter(ticker.FuncFormatter(fct.y_fmt))\n",
    "plt.savefig('check_plots/figure_4.pdf')\n",
    "plt.show()"
   ]
  },
  {
   "cell_type": "markdown",
   "metadata": {},
   "source": [
    "## Integrand for number density, momentum distr."
   ]
  },
  {
   "cell_type": "code",
   "execution_count": null,
   "metadata": {},
   "outputs": [],
   "source": [
    "# Load velocities of sim.\n",
    "u_all = fct.load_u_sim()\n",
    "\n",
    "# Position of earth w.r.t Milky Way NFW halo center.\n",
    "x1, x2, x3 = 8.5, 0., 0.\n",
    "x0 = np.array([x1, x2, x3])\n",
    "\n",
    "def momentum_shape(m_eV):\n",
    "\n",
    "    # Convert to momenta.\n",
    "    p_all, y_all = fct.u_to_p_eV(u_all, m_eV)\n",
    "\n",
    "    # Select correct momentum range.\n",
    "    indices = np.where((CC.LOWER <= y_all[:,0]) & (y_all[:,0] <= CC.UPPER))\n",
    "    p = p_all[indices]\n",
    "    y = y_all[indices]\n",
    "\n",
    "    p0, p1, y0 = p[:,0], p[:,-1], y[:,0]\n",
    "\n",
    "    # Sort.\n",
    "    order = p0.argsort()\n",
    "    p0_sort, p1_sort = p0[order], p1[order]\n",
    "\n",
    "    # Fermi-Dirac values with momentum at end of sim.\n",
    "    FDvals = fct.Fermi_Dirac(p1_sort)\n",
    "\n",
    "    FDvals0 = fct.Fermi_Dirac(p0_sort)\n",
    "\n",
    "    return p0_sort.value, FDvals, y0[order], FDvals0\n",
    "\n",
    "\n",
    "fig, axs = plt.subplots(2,2, figsize=(12,10))\n",
    "fig.suptitle(\n",
    "    'Integrand for number density (np.trapz)' \n",
    "    '\\n'\n",
    "    f'{CC.NR_OF_NEUTRINOS} neutrinos',\n",
    "    fontsize=18)\n",
    "\n",
    "masses = np.array([0.01, 0.05, 0.1, 0.3])*unit.eV\n",
    "for j, m in enumerate(masses):\n",
    "    p0_sort, FDvals, y0, FDvals0 = momentum_shape(m)\n",
    "    y = p0_sort**2. * FDvals\n",
    "    y_p0 = p0_sort**2. * FDvals0\n",
    "    print(y0[0], y0[-1])\n",
    "\n",
    "    i = 0\n",
    "    if j in (2,3):\n",
    "        i = 1\n",
    "        j -= 2\n",
    "\n",
    "    yOG = np.linspace(CC.LOWER, CC.UPPER, len(y0))\n",
    "\n",
    "    axs[i,j].semilogy(y0, y)\n",
    "    axs[i,j].semilogy(y0, y_p0)\n",
    "    axs[i,j].set_title(f'{m.value} eV')\n",
    "    axs[i,j].set_xlabel(r'Initial Momenta (magnitudes) / $T_{\\nu ,0}$')\n",
    "    axs[i,j].set_ylabel(r'$p^2 \\cdot$ FD(p)')\n",
    "\n",
    "    # Escape momenta.\n",
    "    _, y_esc = fct.escape_momentum(x0, 0., my.rho0_NFW, my.Mvir_NFW, m)\n",
    "    axs[i,j].axvline(y_esc, c='r', ls='-.')\n",
    "\n",
    "    # axs[i,j].set_xlim(0,10)\n",
    "    axs[i,j].set_ylim(y[0],np.max(y))\n",
    "\n",
    "\n",
    "plt.savefig('check_plots/figure_4_momenta.pdf')\n",
    "plt.show()"
   ]
  }
 ],
 "metadata": {
  "interpreter": {
   "hash": "2fc11506ce542309680a5d7a18d7170bcceeadf7cd3c0301f21ef62d84cf3c72"
  },
  "kernelspec": {
   "display_name": "Python 3.9.7 64-bit ('neutrino_clustering': conda)",
   "name": "python3"
  },
  "language_info": {
   "codemirror_mode": {
    "name": "ipython",
    "version": 3
   },
   "file_extension": ".py",
   "mimetype": "text/x-python",
   "name": "python",
   "nbconvert_exporter": "python",
   "pygments_lexer": "ipython3",
   "version": "3.9.7"
  },
  "orig_nbformat": 4
 },
 "nbformat": 4,
 "nbformat_minor": 2
}
