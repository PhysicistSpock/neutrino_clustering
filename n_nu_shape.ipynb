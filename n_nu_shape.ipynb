{
 "cells": [
  {
   "cell_type": "code",
   "execution_count": null,
   "metadata": {},
   "outputs": [],
   "source": [
    "from shared.preface import *\n",
    "import shared.functions as fct\n",
    "import shared.my_units as my\n",
    "import shared.control_center as CC"
   ]
  },
  {
   "cell_type": "markdown",
   "metadata": {},
   "source": [
    "# Calculating & Investigating final number density plot"
   ]
  },
  {
   "cell_type": "code",
   "execution_count": 1,
   "metadata": {},
   "outputs": [
    {
     "name": "stderr",
     "output_type": "stream",
     "text": [
      "/home/fabian/my_github_projects/neutrino_clustering/shared/functions.py:349: RuntimeWarning: overflow encountered in exp\n",
      "  f_of_p = 1/(np.exp(arg_of_exp)+1)\n"
     ]
    },
    {
     "data": {
      "image/png": "[encoded data removed]",
      "text/plain": [
       "<Figure size 576x576 with 1 Axes>"
      ]
     },
     "metadata": {
      "needs_background": "light"
     },
     "output_type": "display_data"
    },
    {
     "name": "stdout",
     "output_type": "stream",
     "text": [
      "Max value: 1.0087601456089024 0.00876014560890237\n"
     ]
    }
   ],
   "source": [
    "from shared.preface import *\n",
    "import shared.functions as fct\n",
    "import shared.my_units as my\n",
    "import shared.control_center as CC\n",
    "\n",
    "# Load data, which function uses.\n",
    "u_all = fct.load_u_sim()\n",
    "def number_density_1_mass(m_nu_eV, average=False):\n",
    "\n",
    "    n_nus = np.zeros(len(m_nu_eV))\n",
    "    for i, m_eV in enumerate(m_nu_eV):\n",
    "\n",
    "        # Get momenta.\n",
    "        p, _ = fct.u_to_p_eV(u_all, m_eV)\n",
    "\n",
    "        if average and m_eV.value >= 0.1:\n",
    "            # Calculate number density, values are averaged for z in [3.5, 4].\n",
    "            idx = np.array(np.where(CC.ZEDS >= 3.5)).flatten()\n",
    "\n",
    "            temp = np.zeros(len(idx))\n",
    "            for j,k in enumerate(idx):\n",
    "                val = fct.number_density(p[:,0], p[:,k]).value\n",
    "                temp[j] = val\n",
    "\n",
    "            n_nus[i] = np.mean(temp)\n",
    "\n",
    "        else:\n",
    "            n_nus[i] = fct.number_density(p[:,0], p[:,-1]).value\n",
    "\n",
    "    np.save('neutrino_data/number_densities.npy', n_nus)\n",
    "\n",
    "\n",
    "# 10 to 300 meV like in the paper\n",
    "masses = np.array([0.01, 0.05, 0.1, 0.3])*unit.eV\n",
    "mass_range_eV = np.geomspace(0.01, 0.3, 100)*unit.eV\n",
    "\n",
    "number_density_1_mass(mass_range_eV, average=True)\n",
    "n_nus = np.load('neutrino_data/number_densities.npy')/CC.N0\n",
    "\n",
    "# Plotting:\n",
    "fig, ax = plt.subplots(1,1, figsize=(8,8))\n",
    "\n",
    "ax.plot(mass_range_eV*1e3, (n_nus-1))\n",
    "x_ends = [1e1, 3*1e2]\n",
    "y_ends = [3*1e-3, 4]\n",
    "ax.scatter(x_ends, y_ends, s=12, marker='x', c='r')\n",
    "\n",
    "for m in masses:\n",
    "    ax.axvline(m.value*1e3, c='r', ls='-.')\n",
    "\n",
    "ax.set_xscale('log')\n",
    "ax.set_yscale('log')\n",
    "ax.set_title(f'NFW only - {CC.NR_OF_NEUTRINOS} neutrinos')\n",
    "ax.set_xlabel(r'$m_{\\nu}$ [meV]')\n",
    "ax.set_ylabel(r'$n_{\\nu} / n_{\\nu, 0}$')\n",
    "ax.set_ylim(1e-3, 1e-1)\n",
    "plt.grid(True, which=\"both\", ls=\"-\")\n",
    "\n",
    "ax.yaxis.set_major_formatter(ticker.FuncFormatter(fct.y_fmt))\n",
    "\n",
    "plt.savefig(f'check_plots/densities_{CC.NR_OF_NEUTRINOS}_nus.pdf')\n",
    "plt.show()\n",
    "\n",
    "print('Max value:', np.max(n_nus), np.max(n_nus-1))"
   ]
  },
  {
   "cell_type": "markdown",
   "metadata": {},
   "source": [
    "## Fermi-Dirac shape"
   ]
  },
  {
   "cell_type": "code",
   "execution_count": null,
   "metadata": {},
   "outputs": [],
   "source": [
    "# Load velocities of sim.\n",
    "u_all = fct.load_u_sim()\n",
    "u0, u1 = u_all[:,0,:], u_all[:,-1,:]\n",
    "\n",
    "# Position of earth w.r.t Milky Way NFW halo center.\n",
    "x1, x2, x3 = 8.5, 0., 0.\n",
    "x0 = np.array([x1, x2, x3])\n",
    "\n",
    "fig, axs = plt.subplots(2,2, figsize=(12,10))\n",
    "fig.suptitle(\n",
    "    'Mometum Phase-Space distributions' \n",
    "    '\\n'\n",
    "    f'({CC.NR_OF_NEUTRINOS} neutrinos)',\n",
    "    fontsize=18)\n",
    "\n",
    "masses = np.array([0.01, 0.05, 0.1, 0.3])*unit.eV\n",
    "for j, m in enumerate(masses):\n",
    "\n",
    "    k = j\n",
    "\n",
    "    # Get momenta.\n",
    "    p0, y0 = fct.u_to_p_eV(u0, m)\n",
    "    p1, y1 = fct.u_to_p_eV(u1, m)\n",
    "\n",
    "    # Sort.\n",
    "    order = p0.argsort()\n",
    "    p0_sort, p1_sort = p0[order], p1[order]\n",
    "    y0_sort, y1_sort = y0[order], y1[order]\n",
    "\n",
    "    i = 0\n",
    "    if j in (2,3):\n",
    "        i = 1\n",
    "        j -= 2\n",
    "    \n",
    "    # Escape momentum.\n",
    "    p_esc_eV, y_esc = fct.escape_momentum(x0, 0., my.rho0_NFW, my.Mvir_NFW, m)\n",
    "    axs[i,j].axvline(y_esc, c='k', ls='-.', label='y_esc')\n",
    "\n",
    "    # Original Fermi-Dirac distr.\n",
    "    pOG = np.geomspace(CC.LOWER*my.T_nu_eV, CC.UPPER*my.T_nu_eV, len(p0_sort))\n",
    "    FDvalsOG = fct.Fermi_Dirac(pOG)\n",
    "    yOG = (pOG/my.T_nu_eV).value\n",
    "\n",
    "    # Average values below escape momentum.\n",
    "    indices = np.argwhere(y1_sort <= y_esc)\n",
    "    p1_below_esc = p1_sort[indices]\n",
    "    # p1_sort[indices] = p_esc_eV\n",
    "\n",
    "\n",
    "    # Fermi-Dirac distr. of initial momentum (by using p1 momenta at z_back)\n",
    "    FDvals = fct.Fermi_Dirac(p1_sort)\n",
    "    # FDvals[indices] = np.mean(FDvals[indices])\n",
    "    # print(FDvals[:8])\n",
    "\n",
    "    print('Max FDval from sim:', np.max(FDvals))\n",
    "\n",
    "\n",
    "\n",
    "    axs[i,j].loglog(y0_sort, FDvals, label='Simulation', c='red', alpha=1)\n",
    "    axs[i,j].loglog(yOG, FDvalsOG, label='Fermi-Dirac', c='blue', alpha=0.6)\n",
    "    axs[i,j].set_title(f'{m.value} eV')\n",
    "    axs[i,j].set_ylabel('FD(p)')\n",
    "    axs[i,j].set_xlabel(r'$y = p / T_{\\nu,0}$')\n",
    "    axs[i,j].legend(loc='lower left')\n",
    "    # axs[i,j].set_ylim(1e-5, 1e0)\n",
    "\n",
    "\n",
    "    # if i==0 and j==0:\n",
    "    #     axs[i,j].set_xlim(4*1e-2,3*1e-1)\n",
    "    #     axs[i,j].set_ylim(1e-1,5*np.max(y0_sort))\n",
    "\n",
    "    # if i==1 and j==0:\n",
    "    #     axs[i,j].set_xlim(4*1e-1,8*1e0)\n",
    "    #     axs[i,j].set_ylim(1e-4,5*np.max(y0_sort))\n",
    "\n",
    "    # if i==1 and j==1:\n",
    "    #     axs[i,j].set_xlim(1e0,5*1e1)\n",
    "    #     axs[i,j].set_ylim(1e-9,5*np.max(y0_sort))\n",
    "\n",
    "\n",
    "plt.savefig('check_plots/fermi_dirac_distr.pdf')\n",
    "plt.show()"
   ]
  },
  {
   "cell_type": "markdown",
   "metadata": {},
   "source": [
    "## Initial and final momenta."
   ]
  },
  {
   "cell_type": "code",
   "execution_count": null,
   "metadata": {},
   "outputs": [],
   "source": [
    "# Load velocities of sim.\n",
    "u_all = fct.load_u_sim()\n",
    "u0, u1 = u_all[:,0,:], u_all[:,-1,:]\n",
    "\n",
    "# Position of earth w.r.t Milky Way NFW halo center.\n",
    "x1, x2, x3 = 8.5, 0., 0.\n",
    "x0 = np.array([x1, x2, x3])\n",
    "\n",
    "fig, axs = plt.subplots(2,2, figsize=(12,10))\n",
    "fig.suptitle(\n",
    "    'Initial and final momenta (sorted)' \n",
    "    '\\n'\n",
    "    f'({CC.NR_OF_NEUTRINOS} neutrinos)',\n",
    "    fontsize=18)\n",
    "\n",
    "masses = np.array([0.01, 0.05, 0.1, 0.3])*unit.eV\n",
    "for j, m in enumerate(masses):\n",
    "\n",
    "    # Get momenta.\n",
    "    p0, y0 = fct.u_to_p_eV(u0, m)\n",
    "    p1, y1 = fct.u_to_p_eV(u1, m)\n",
    "\n",
    "    # Sort.\n",
    "    order = p0.argsort()\n",
    "    p0_sort, p1_sort = p0[order], p1[order]\n",
    "    y0_sort, y1_sort = y0[order], y1[order]\n",
    "\n",
    "    i = 0\n",
    "    if j in (2,3):\n",
    "        i = 1\n",
    "        j -= 2\n",
    "    \n",
    "    # Escape momentum.\n",
    "    p_esc_eV, y_esc = fct.escape_momentum(x0, 0., my.rho0_NFW, my.Mvir_NFW, m)\n",
    "    axs[i,j].axhline(y_esc, c='k', ls='-.', label='y_esc')\n",
    "\n",
    "    # Average momenta below escape momentum.\n",
    "\n",
    "    x = np.arange(CC.NR_OF_NEUTRINOS)\n",
    "    axs[i,j].semilogy(x, y0_sort, label='initial momentum')\n",
    "    axs[i,j].semilogy(x, y1_sort, label='final momentum', alpha=0.6)\n",
    "    axs[i,j].set_title(f'{m.value} eV')\n",
    "    axs[i,j].set_xlabel('Neutrino number')\n",
    "    axs[i,j].set_ylabel(r'$p / T_{\\nu,0}$')\n",
    "    axs[i,j].legend(loc='lower right')\n",
    "\n",
    "plt.show()"
   ]
  }
 ],
 "metadata": {
  "interpreter": {
   "hash": "2fc11506ce542309680a5d7a18d7170bcceeadf7cd3c0301f21ef62d84cf3c72"
  },
  "kernelspec": {
   "display_name": "Python 3.9.7 64-bit ('neutrino_clustering': conda)",
   "name": "python3"
  },
  "language_info": {
   "codemirror_mode": {
    "name": "ipython",
    "version": 3
   },
   "file_extension": ".py",
   "mimetype": "text/x-python",
   "name": "python",
   "nbconvert_exporter": "python",
   "pygments_lexer": "ipython3",
   "version": "3.9.7"
  },
  "orig_nbformat": 4
 },
 "nbformat": 4,
 "nbformat_minor": 2
}
