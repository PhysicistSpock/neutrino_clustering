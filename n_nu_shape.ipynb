{
 "cells": [
  {
   "cell_type": "code",
   "execution_count": 1,
   "metadata": {},
   "outputs": [],
   "source": [
    "from shared.preface import *\n",
    "import shared.functions as fct\n",
    "import shared.my_units as my\n",
    "import shared.control_center as CC"
   ]
  },
  {
   "cell_type": "markdown",
   "metadata": {},
   "source": [
    "# Calculating & Investigating final number density plot"
   ]
  },
  {
   "cell_type": "code",
   "execution_count": 2,
   "metadata": {},
   "outputs": [
    {
     "data": {
      "image/png": "[encoded data removed]",
      "text/plain": [
       "<Figure size 576x432 with 1 Axes>"
      ]
     },
     "metadata": {
      "needs_background": "light"
     },
     "output_type": "display_data"
    },
    {
     "name": "stdout",
     "output_type": "stream",
     "text": [
      "Max value: 0.22759457737762742 0.0020320944408716733\n"
     ]
    }
   ],
   "source": [
    "def number_density_1_mass(m_sim_eV, m_nu_eV):\n",
    "\n",
    "    # load initial and final velocity\n",
    "    Ns = np.arange(CC.NR_OF_NEUTRINOS, dtype=int)  # Nr. of neutrinos\n",
    "    u0 = [np.load(f'neutrino_vectors/nu_{Nr+1}.npy')[0][3:6] for Nr in Ns]\n",
    "    u1 = [np.load(f'neutrino_vectors/nu_{Nr+1}.npy')[-1][3:6] for Nr in Ns]\n",
    "    u0, u1 = np.array(u0), np.array(u1)\n",
    "\n",
    "    n_nus = np.zeros(len(m_nu_eV))\n",
    "    for i, m_eV in enumerate(m_nu_eV):\n",
    "\n",
    "        # Get momenta.\n",
    "        p0, _ = fct.u_to_p_eV(u0, m_sim_eV, m_eV)\n",
    "        p1, _ = fct.u_to_p_eV(u1, m_sim_eV, m_eV)\n",
    "\n",
    "        # Calculate number density.\n",
    "        n_nus[i] = fct.number_density(p0, p1, CC.Z_STOP).value\n",
    "\n",
    "    np.save('neutrino_data/number_densities.npy', n_nus)\n",
    "\n",
    "\n",
    "\n",
    "# 10 to 300 meV like in the paper\n",
    "mass_range_eV = np.linspace(0.01, 0.3, 100)*unit.eV\n",
    "\n",
    "number_density_1_mass(CC.NU_MASS, mass_range_eV)\n",
    "n_nus = np.load('neutrino_data/number_densities.npy')\n",
    "\n",
    "neutrinos = CC.NR_OF_NEUTRINOS\n",
    "plt.figure(figsize=(8,6))\n",
    "plt.loglog(mass_range_eV*1e3, (n_nus/CC.N0))\n",
    "plt.title(f'NFW only - {neutrinos} neutrinos')\n",
    "plt.xlabel(r'$m_{\\nu}$ [meV]')\n",
    "plt.ylabel(r'$n_{\\nu} / n_{\\nu, 0}$')\n",
    "plt.grid(True, which=\"both\", ls=\"-\")\n",
    "plt.savefig(f'check_plots/densities_{neutrinos}_nus.pdf')\n",
    "plt.show()\n",
    "\n",
    "print('Max value:', np.max(n_nus), np.max(n_nus/CC.N0))"
   ]
  },
  {
   "cell_type": "markdown",
   "metadata": {},
   "source": [
    "## Momentum behaviour"
   ]
  },
  {
   "cell_type": "code",
   "execution_count": null,
   "metadata": {},
   "outputs": [],
   "source": [
    "# Amount of simulated neutrinos\n",
    "Ns = np.arange(CC.NR_OF_NEUTRINOS, dtype=int)\n",
    "\n",
    "# load initial and final velocity\n",
    "u0 = [np.load(f'neutrino_vectors/nu_{Nr+1}.npy')[0,3:6] for Nr in Ns]\n",
    "u1 = [np.load(f'neutrino_vectors/nu_{Nr+1}.npy')[-1,3:6] for Nr in Ns]\n",
    "\n",
    "# magnitude of velocities\n",
    "a0 = np.array([np.sqrt(np.sum(u**2)) for u in np.array(u0)])\n",
    "a1 = np.array([np.sqrt(np.sum(u**2)) for u in np.array(u1)])\n",
    "\n",
    "# 10 to 300 meV like in the paper\n",
    "mass_range_eV = np.linspace(0.01, 0.3, 3) * unit.eV\n",
    "\n",
    "\n",
    "mom = []\n",
    "for m_eV in mass_range_eV:\n",
    "\n",
    "    # calculate momenta\n",
    "    m = m_eV.to(unit.kg, unit.mass_energy()).value\n",
    "    p_unit = unit.kg*unit.kpc/unit.s\n",
    "    p0, p1 = a0 * m * p_unit, a1 * m * p_unit\n",
    "\n",
    "    # convert momenta from kg*kpc/s to eV\n",
    "    to_eV = 1/(5.3442883e-28)\n",
    "    p0 = p0.to(unit.kg*unit.m/unit.s).value * to_eV\n",
    "    p1 = p1.to(unit.kg*unit.m/unit.s).value * to_eV\n",
    "\n",
    "    # sort arrays\n",
    "    order = p0.argsort()\n",
    "    p0, p1 = p0[order], p1[order]\n",
    "    mom.append(p0)\n",
    "\n",
    "\n",
    "x = np.arange(len(p0))\n",
    "plt.semilogy(x, mom[0], label=f'm={mass_range_eV[0]} eV')\n",
    "plt.semilogy(x, mom[1], label=f'm={mass_range_eV[1]} eV')\n",
    "plt.semilogy(x, mom[2], label=f'm={mass_range_eV[2]} eV')\n",
    "plt.legend()\n",
    "plt.show()"
   ]
  },
  {
   "cell_type": "code",
   "execution_count": null,
   "metadata": {},
   "outputs": [],
   "source": [
    "# Amount of simulated neutrinos\n",
    "Ns = np.arange(CC.NR_OF_NEUTRINOS, dtype=int)\n",
    "\n",
    "# load initial and final velocity\n",
    "u0 = [np.load(f'neutrino_vectors/nu_{Nr+1}.npy')[0,3:6] for Nr in Ns]\n",
    "u1 = [np.load(f'neutrino_vectors/nu_{Nr+1}.npy')[-1,3:6] for Nr in Ns]\n",
    "\n",
    "# magnitude of velocities\n",
    "m0 = np.array([np.sqrt(np.sum(u**2)) for u in np.array(u0)])\n",
    "m1 = np.array([np.sqrt(np.sum(u**2)) for u in np.array(u1)])\n",
    "\n",
    "# calculate momenta\n",
    "m = CC.NU_MASS_KG.value\n",
    "p_unit = unit.kg*unit.kpc/unit.s\n",
    "p0, p1 = m0 * m * p_unit, m1 * m * p_unit\n",
    "\n",
    "# sort arrays\n",
    "order = p0.argsort()\n",
    "p0, p1 = p0[order], p1[order]\n",
    "\n",
    "# convert momenta from kg*kpc/s to eV\n",
    "to_eV = 1/(5.3442883e-28)\n",
    "p0 = p0.to(unit.kg*unit.m/unit.s).value * to_eV\n",
    "p1 = p1.to(unit.kg*unit.m/unit.s).value * to_eV\n",
    "\n",
    "x = np.arange(len(p0))\n",
    "\n",
    "plt.title('Neutrino momenta (ascended sorted)')\n",
    "plt.xlabel('Neutrino')\n",
    "plt.ylabel(r'p $\\left[ \\frac{kg \\cdot kpc}{s} \\right]$')\n",
    "plt.semilogy(x, p0, label='initial')\n",
    "plt.semilogy(x, p1, label='final', alpha=0.7)\n",
    "plt.legend()\n",
    "plt.savefig('check_plots/neutrino_momenta.pdf')\n",
    "plt.show()"
   ]
  },
  {
   "cell_type": "markdown",
   "metadata": {},
   "source": [
    "## Fermi-Dirac shape"
   ]
  },
  {
   "cell_type": "code",
   "execution_count": null,
   "metadata": {},
   "outputs": [],
   "source": [
    "# Original Fermi-Dirac distr.\n",
    "pOG = np.geomspace(0.01*my.T_nu_eV, 10*my.T_nu_eV, len(p0))\n",
    "FDvalsOG = fct.Fermi_Dirac(pOG)\n",
    "yOG = pOG/my.T_nu_eV.value\n",
    "\n",
    "# Fermi-Dirac distr. of initial momentum (by using p1 momenta at z_back)\n",
    "y0 = p0/my.T_nu_eV.value\n",
    "FDvals0 = fct.Fermi_Dirac(p1)\n",
    "\n",
    "# Fermi-Dirac distr. of final momentum\n",
    "y1 = p1/my.T_nu_eV.value\n",
    "FDvals1 = fct.Fermi_Dirac(p1)\n",
    "\n",
    "print(np.mean(FDvals0[0:5000]), np.mean(FDvals1[0:5000]))\n",
    "\n",
    "# plt.rcParams[\"figure.figsize\"] = (8,6)  # global\n",
    "plt.figure(figsize=(8,6))\n",
    "plt.loglog(y0, FDvals0, label='today', c='red')\n",
    "plt.loglog(y1, FDvals1, label='z_back', c='black', ls=':')\n",
    "plt.loglog(yOG, FDvalsOG, label='Fermi-Dirac', c='blue', alpha=0.4)\n",
    "plt.title('Fermi-Dirac distr. m=0.05 eV')\n",
    "plt.ylabel('f(y)')\n",
    "plt.xlabel('y=p/T_nu')\n",
    "plt.legend(loc='lower left')\n",
    "plt.savefig('check_plots/fermi_dirac_distr.pdf')\n",
    "plt.show()"
   ]
  },
  {
   "cell_type": "code",
   "execution_count": null,
   "metadata": {},
   "outputs": [],
   "source": [
    "def Fermi_Dirac_Ringwald_and_Wong(p):\n",
    "    # Plug into Fermi-Dirac distribution \n",
    "    arg_of_exp = p/my.T_nu_eV\n",
    "    f_of_p = 1 / (np.exp(arg_of_exp.value) + 1)\n",
    "\n",
    "    return f_of_p\n",
    "\n",
    "# Original Fermi-Dirac distr.\n",
    "pOG = np.geomspace(0.01*my.T_nu_eV, 13*my.T_nu_eV, len(p0))\n",
    "FDvalsOG = Fermi_Dirac_Ringwald_and_Wong(pOG)\n",
    "yOG = pOG/my.T_nu_eV.value\n",
    "\n",
    "plt.loglog(yOG, FDvalsOG, label='Fermi-Dirac')\n",
    "plt.title('Fermi-Dirac distr. of initial momentum')\n",
    "plt.ylabel('f(y)')\n",
    "plt.xlabel('y=p/T_nu')\n",
    "plt.legend(loc='lower left')\n",
    "plt.savefig('check_plots/fermi_dirac_distr.pdf')"
   ]
  }
 ],
 "metadata": {
  "interpreter": {
   "hash": "8a0d5d0f2e48edd2cdf812a3eedd1dc78c628b894b9ae93ffd6b09cf9a60bf81"
  },
  "kernelspec": {
   "display_name": "Python 3.9.7 64-bit ('neutrino_clustering': conda)",
   "name": "python3"
  },
  "language_info": {
   "codemirror_mode": {
    "name": "ipython",
    "version": 3
   },
   "file_extension": ".py",
   "mimetype": "text/x-python",
   "name": "python",
   "nbconvert_exporter": "python",
   "pygments_lexer": "ipython3",
   "version": "3.9.7"
  },
  "orig_nbformat": 4
 },
 "nbformat": 4,
 "nbformat_minor": 2
}
