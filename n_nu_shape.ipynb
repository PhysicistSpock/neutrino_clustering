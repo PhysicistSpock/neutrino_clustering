{
 "cells": [
  {
   "cell_type": "code",
   "execution_count": 1,
   "metadata": {},
   "outputs": [],
   "source": [
    "from shared.preface import *\n",
    "import shared.functions as fct\n",
    "import shared.my_units as my\n",
    "import shared.control_center as CC"
   ]
  },
  {
   "cell_type": "markdown",
   "metadata": {},
   "source": [
    "# Calculating & Investigating final number density plot"
   ]
  },
  {
   "cell_type": "code",
   "execution_count": 2,
   "metadata": {},
   "outputs": [
    {
     "data": {
      "image/png": "[encoded data removed]",
      "text/plain": [
       "<Figure size 576x576 with 1 Axes>"
      ]
     },
     "metadata": {
      "needs_background": "light"
     },
     "output_type": "display_data"
    },
    {
     "name": "stdout",
     "output_type": "stream",
     "text": [
      "Max value: 1.0087601465809943 0.009006787023044593\n"
     ]
    }
   ],
   "source": [
    "from shared.preface import *\n",
    "import shared.functions as fct\n",
    "import shared.my_units as my\n",
    "import shared.control_center as CC\n",
    "\n",
    "# Load data, which function uses.\n",
    "u_all = fct.load_u_sim()\n",
    "def number_density_1_mass(m_sim_eV, m_nu_eV, average=False):\n",
    "\n",
    "    n_nus = np.zeros(len(m_nu_eV))\n",
    "    for i, m_eV in enumerate(m_nu_eV):\n",
    "\n",
    "        # Get momenta.\n",
    "        p, _ = fct.u_to_p_eV(u_all, m_sim_eV, m_eV)\n",
    "\n",
    "        if average:\n",
    "            # Calculate number density, values are averaged for z in [3.5, 4].\n",
    "            idx = np.array(np.where(CC.ZEDS >= 3.5)).flatten()\n",
    "\n",
    "            temp = np.zeros(len(idx))\n",
    "            for j,k in enumerate(idx):\n",
    "                val = fct.number_density(p[:k,0], p[:k,-1]).value\n",
    "                temp[j] = val\n",
    "\n",
    "            n_nus[i] = np.mean(temp)\n",
    "\n",
    "        else:\n",
    "            n_nus[i] = fct.number_density(p[:,0], p[:,-1]).value\n",
    "\n",
    "    np.save('neutrino_data/number_densities.npy', n_nus)\n",
    "\n",
    "\n",
    "\n",
    "# 10 to 300 meV like in the paper\n",
    "mass_range_eV = np.geomspace(0.01, 0.3, 100)*unit.eV\n",
    "\n",
    "number_density_1_mass(CC.NU_MASS, mass_range_eV, average=True)\n",
    "n_nus = np.load('neutrino_data/number_densities.npy')/CC.N0\n",
    "\n",
    "# Plotting:\n",
    "fig, ax = plt.subplots(1,1, figsize=(8,8))\n",
    "\n",
    "ax.plot(mass_range_eV*1e3, (n_nus-1))\n",
    "x_ends = [1e1, 3*1e2]\n",
    "y_ends = [3*1e-3, 4]\n",
    "ax.scatter(x_ends, y_ends, s=12, marker='x', c='r')\n",
    "ax.set_xscale('log')\n",
    "ax.set_yscale('log')\n",
    "ax.set_title(f'NFW only - {CC.NR_OF_NEUTRINOS} neutrinos')\n",
    "ax.set_xlabel(r'$m_{\\nu}$ [meV]')\n",
    "ax.set_ylabel(r'$n_{\\nu} / n_{\\nu, 0}$')\n",
    "ax.set_ylim(1e-3, 1e1)\n",
    "plt.grid(True, which=\"both\", ls=\"-\")\n",
    "\n",
    "ax.yaxis.set_major_formatter(ticker.FuncFormatter(fct.y_fmt))\n",
    "\n",
    "plt.savefig(f'check_plots/densities_{CC.NR_OF_NEUTRINOS}_nus.pdf')\n",
    "plt.show()\n",
    "\n",
    "print('Max value:', np.max(n_nus), np.max(n_nus/CC.N0))"
   ]
  },
  {
   "cell_type": "markdown",
   "metadata": {},
   "source": [
    "## Fermi-Dirac shape"
   ]
  },
  {
   "cell_type": "code",
   "execution_count": 3,
   "metadata": {},
   "outputs": [
    {
     "ename": "NameError",
     "evalue": "name 'FDvals1' is not defined",
     "output_type": "error",
     "traceback": [
      "\u001b[0;31m---------------------------------------------------------------------------\u001b[0m",
      "\u001b[0;31mNameError\u001b[0m                                 Traceback (most recent call last)",
      "\u001b[0;32m/tmp/ipykernel_241486/311456871.py\u001b[0m in \u001b[0;36m<module>\u001b[0;34m\u001b[0m\n\u001b[1;32m     19\u001b[0m \u001b[0mFDvals0\u001b[0m \u001b[0;34m=\u001b[0m \u001b[0mfct\u001b[0m\u001b[0;34m.\u001b[0m\u001b[0mFermi_Dirac\u001b[0m\u001b[0;34m(\u001b[0m\u001b[0mp1_sort\u001b[0m\u001b[0;34m)\u001b[0m\u001b[0;34m\u001b[0m\u001b[0;34m\u001b[0m\u001b[0m\n\u001b[1;32m     20\u001b[0m \u001b[0;34m\u001b[0m\u001b[0m\n\u001b[0;32m---> 21\u001b[0;31m \u001b[0mprint\u001b[0m\u001b[0;34m(\u001b[0m\u001b[0mnp\u001b[0m\u001b[0;34m.\u001b[0m\u001b[0mmean\u001b[0m\u001b[0;34m(\u001b[0m\u001b[0mFDvals0\u001b[0m\u001b[0;34m[\u001b[0m\u001b[0;36m0\u001b[0m\u001b[0;34m:\u001b[0m\u001b[0;36m5000\u001b[0m\u001b[0;34m]\u001b[0m\u001b[0;34m)\u001b[0m\u001b[0;34m,\u001b[0m \u001b[0mnp\u001b[0m\u001b[0;34m.\u001b[0m\u001b[0mmean\u001b[0m\u001b[0;34m(\u001b[0m\u001b[0mFDvals1\u001b[0m\u001b[0;34m[\u001b[0m\u001b[0;36m0\u001b[0m\u001b[0;34m:\u001b[0m\u001b[0;36m5000\u001b[0m\u001b[0;34m]\u001b[0m\u001b[0;34m)\u001b[0m\u001b[0;34m)\u001b[0m\u001b[0;34m\u001b[0m\u001b[0;34m\u001b[0m\u001b[0m\n\u001b[0m\u001b[1;32m     22\u001b[0m \u001b[0;34m\u001b[0m\u001b[0m\n\u001b[1;32m     23\u001b[0m \u001b[0;31m# plt.rcParams[\"figure.figsize\"] = (8,6)  # global\u001b[0m\u001b[0;34m\u001b[0m\u001b[0;34m\u001b[0m\u001b[0m\n",
      "\u001b[0;31mNameError\u001b[0m: name 'FDvals1' is not defined"
     ]
    }
   ],
   "source": [
    "# Load velocities of sim.\n",
    "u_all = fct.load_u_sim()\n",
    "u0, u1 = u_all[:,0,:], u_all[:,-1,:]\n",
    "\n",
    "# Get momenta with of mass used in sim.\n",
    "p0, _ = fct.u_to_p_eV(u0, CC.NU_MASS, CC.NU_MASS)\n",
    "p1, _ = fct.u_to_p_eV(u1, CC.NU_MASS, CC.NU_MASS)\n",
    "\n",
    "# Sort.\n",
    "order = p0.argsort()\n",
    "p0_sort, p1_sort = p0[order], p1[order]\n",
    "\n",
    "# Original Fermi-Dirac distr.\n",
    "pOG = np.geomspace(CC.LOWER*my.T_nu_eV, CC.UPPER*my.T_nu_eV, len(p0_sort))\n",
    "FDvalsOG = fct.Fermi_Dirac(pOG)\n",
    "yOG = pOG/my.T_nu_eV.value\n",
    "\n",
    "# Fermi-Dirac distr. of initial momentum (by using p1 momenta at z_back)\n",
    "FDvals0 = fct.Fermi_Dirac(p1_sort)\n",
    "\n",
    "print(np.mean(FDvals0[0:5000]), np.mean(FDvals1[0:5000]))\n",
    "\n",
    "# plt.rcParams[\"figure.figsize\"] = (8,6)  # global\n",
    "plt.figure(figsize=(8,6))\n",
    "plt.loglog(yOG, FDvals0, label='today', c='red')\n",
    "plt.loglog(yOG, FDvalsOG, label='Fermi-Dirac', c='blue', alpha=0.4)\n",
    "plt.title('Fermi-Dirac distr. m=0.05 eV')\n",
    "plt.ylabel('f(y)')\n",
    "plt.xlabel('y=p/T_nu')\n",
    "plt.legend(loc='lower left')\n",
    "plt.savefig('check_plots/fermi_dirac_distr.pdf')\n",
    "plt.show()"
   ]
  }
 ],
 "metadata": {
  "interpreter": {
   "hash": "2fc11506ce542309680a5d7a18d7170bcceeadf7cd3c0301f21ef62d84cf3c72"
  },
  "kernelspec": {
   "display_name": "Python 3.9.7 64-bit ('neutrino_clustering': conda)",
   "name": "python3"
  },
  "language_info": {
   "codemirror_mode": {
    "name": "ipython",
    "version": 3
   },
   "file_extension": ".py",
   "mimetype": "text/x-python",
   "name": "python",
   "nbconvert_exporter": "python",
   "pygments_lexer": "ipython3",
   "version": "3.9.7"
  },
  "orig_nbformat": 4
 },
 "nbformat": 4,
 "nbformat_minor": 2
}
