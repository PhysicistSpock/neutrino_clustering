{
 "cells": [
  {
   "cell_type": "code",
   "execution_count": null,
   "metadata": {},
   "outputs": [],
   "source": [
    "from shared.preface import *\n",
    "import shared.functions as fct\n",
    "import shared.my_units as my\n",
    "import shared.control_center as CC"
   ]
  },
  {
   "cell_type": "markdown",
   "metadata": {},
   "source": [
    "# Calculating & Investigating final number density plot"
   ]
  },
  {
   "cell_type": "code",
   "execution_count": 1,
   "metadata": {},
   "outputs": [
    {
     "data": {
      "image/png": "[encoded data removed]",
      "text/plain": [
       "<Figure size 576x576 with 1 Axes>"
      ]
     },
     "metadata": {
      "needs_background": "light"
     },
     "output_type": "display_data"
    },
    {
     "name": "stdout",
     "output_type": "stream",
     "text": [
      "Max value: 1.0049123557416109 0.008972431747692954\n"
     ]
    }
   ],
   "source": [
    "from shared.preface import *\n",
    "import shared.functions as fct\n",
    "import shared.my_units as my\n",
    "import shared.control_center as CC\n",
    "\n",
    "# Load data, which function uses.\n",
    "u_all = fct.load_u_sim()\n",
    "\n",
    "def number_density_1_mass(m_eV, average=False):\n",
    "\n",
    "    n_nus = np.zeros(len(m_eV))\n",
    "    n_eff = np.zeros(len(m_eV))\n",
    "    for i, m_eV in enumerate(m_eV):\n",
    "\n",
    "        # Convert to momenta.\n",
    "        p_all, y_all = fct.u_to_p_eV(u_all, m_eV)\n",
    "        \n",
    "        # Select correct momentum range.\n",
    "        indices = np.where((CC.LOWER <= y_all[:,0]) & (y_all[:,0] <= CC.UPPER))\n",
    "        p = p_all[indices]\n",
    "\n",
    "        # Calculate number density, values are average d for z in [3.5, 4].\n",
    "        if average and m_eV.value >= 0.1:\n",
    "            idx = np.array(np.where(CC.ZEDS >= 3.5)).flatten()\n",
    "\n",
    "            temp = np.zeros(len(idx))\n",
    "            for j,k in enumerate(idx):\n",
    "                val = fct.number_density(p[:,0], p[:,k]).value\n",
    "                temp[j] = val\n",
    "\n",
    "            n_nus[i] = np.mean(temp)\n",
    "\n",
    "        else:\n",
    "            n_nus[i] = fct.number_density(p[:,0], p[:,-1]).value\n",
    "\n",
    "        # Amount of neutrinos after selection.\n",
    "        n_eff[i] = len(p)\n",
    "\n",
    "    np.save('neutrino_data/number_densities.npy', n_nus)\n",
    "\n",
    "    return int(np.mean(n_eff))\n",
    "\n",
    "\n",
    "# 10 to 300 meV like in the paper\n",
    "# mass_range_eV = np.array([0.01, 0.05, 0.1, 0.3])*unit.eV\n",
    "mLow, mUpp = CC.NU_MASS_LOW.value, CC.NU_MASS_UPP.value\n",
    "mass_range_eV = np.geomspace(mLow, mUpp, 100)*unit.eV\n",
    "\n",
    "nr_nu_eff = number_density_1_mass(mass_range_eV, average=True)\n",
    "n_nus = np.load('neutrino_data/number_densities.npy')/CC.N0\n",
    "\n",
    "# Plotting:\n",
    "fig, ax = plt.subplots(1,1, figsize=(8,8))\n",
    "\n",
    "ax.plot(mass_range_eV*1e3, (n_nus-1))\n",
    "x_ends = [1e1, 3*1e2]\n",
    "y_ends = [3*1e-3, 4]\n",
    "ax.scatter(x_ends, y_ends, s=12, marker='x', c='r')\n",
    "ax.set_xscale('log')\n",
    "ax.set_yscale('log')\n",
    "ax.set_title(f'NFW only - {nr_nu_eff} neutrinos')\n",
    "ax.set_xlabel(r'$m_{\\nu}$ [meV]')\n",
    "ax.set_ylabel(r'$n_{\\nu} / n_{\\nu, 0}$')\n",
    "ax.set_ylim(1e-3, 1e1)\n",
    "# ax.set_xlim(1e-5,1e-3)\n",
    "plt.grid(True, which=\"both\", ls=\"-\")\n",
    "\n",
    "ax.yaxis.set_major_formatter(ticker.FuncFormatter(fct.y_fmt))\n",
    "\n",
    "plt.savefig(f'check_plots/densities_{CC.NR_OF_NEUTRINOS}_nus.pdf')\n",
    "plt.show()\n",
    "\n",
    "print('Max value:', np.max(n_nus), np.max(n_nus/CC.N0))"
   ]
  },
  {
   "cell_type": "markdown",
   "metadata": {},
   "source": [
    "## Fermi-Dirac shape"
   ]
  },
  {
   "cell_type": "code",
   "execution_count": null,
   "metadata": {},
   "outputs": [],
   "source": [
    "# Load velocities of sim.\n",
    "u_all = fct.load_u_sim()"
   ]
  },
  {
   "cell_type": "code",
   "execution_count": null,
   "metadata": {},
   "outputs": [],
   "source": [
    "# Position of earth w.r.t Milky Way NFW halo center.\n",
    "x1, x2, x3 = 8.5, 0., 0.\n",
    "x0 = np.array([x1, x2, x3])\n",
    "\n",
    "fig, axs = plt.subplots(2,2, figsize=(12,10))\n",
    "fig.suptitle(\n",
    "    'Mometum Phase-Space distributions' \n",
    "    '\\n'\n",
    "    f'({CC.NR_OF_NEUTRINOS} neutrinos)',\n",
    "    fontsize=18)\n",
    "\n",
    "masses = np.array([0.01, 0.05, 0.1, 0.3])*unit.eV\n",
    "for j, m_eV in enumerate(masses):\n",
    "\n",
    "    k = j\n",
    "\n",
    "    # Convert to momenta.\n",
    "    p_all, y_all = fct.u_to_p_eV(u_all, m_eV)\n",
    "\n",
    "    # Sort.\n",
    "    order = p_all[:,0].argsort()\n",
    "    p_sort, y_sort = p_all[order], y_all[order]\n",
    "\n",
    "    # Select initial and final momenta.\n",
    "    p0, p1 = p_sort[:,0], p_sort[:,-1]\n",
    "    y0, y1 = y_sort[:,0], y_sort[:,-1]\n",
    "\n",
    "    #NOTE: Each velocity has a batch of neutrinos, so average each batch.\n",
    "    p1_blocks = p1.reshape((CC.Vs, CC.PHIs*CC.THETAs))\n",
    "    p1_smooth = np.min(p1_blocks, axis=1)\n",
    "\n",
    "    # Select correct momentum range.\n",
    "    y0_blocks = y0.reshape((CC.Vs, CC.PHIs*CC.THETAs))\n",
    "    y0_smooth = y0_blocks[:,0]\n",
    "    indices = np.where((CC.LOWER <= y0_smooth) & (y0_smooth <= CC.UPPER))\n",
    "    p = p1_smooth[indices]\n",
    "    y = y0_smooth[indices]\n",
    "\n",
    "    # Fermi Dirac of the smoothed (and in correct range) final momenta.\n",
    "    FDvals = fct.Fermi_Dirac(p)\n",
    "\n",
    "    i = 0\n",
    "    if j in (2,3):\n",
    "        i = 1\n",
    "        j -= 2\n",
    "    \n",
    "    # Escape momentum.\n",
    "    p_esc_eV, y_esc = fct.escape_momentum(x0, 0., my.rho0_NFW, my.Mvir_NFW, m_eV)\n",
    "    axs[i,j].axvline(y_esc, c='k', ls='-.', label='y_esc')\n",
    "\n",
    "    # Original Fermi-Dirac distr.\n",
    "    pOG = np.geomspace(CC.LOWER*my.T_nu_eV, CC.UPPER*my.T_nu_eV, len(FDvals))\n",
    "    FDvalsOG = fct.Fermi_Dirac(pOG)\n",
    "    yOG = (pOG/my.T_nu_eV).value\n",
    "\n",
    "    axs[i,j].loglog(yOG, FDvals, label='Simulation', c='red', alpha=0.6)\n",
    "    axs[i,j].loglog(yOG, FDvalsOG, label='Fermi-Dirac', c='blue')\n",
    "    axs[i,j].set_title(f'{m_eV.value} eV')\n",
    "    axs[i,j].set_ylabel('FD(p)')\n",
    "    axs[i,j].set_xlabel(r'$y = p / T_{\\nu,0}$')\n",
    "    axs[i,j].legend(loc='lower left')\n",
    "\n",
    "\n",
    "plt.savefig('check_plots/fermi_dirac_distr.pdf')\n",
    "plt.show()"
   ]
  },
  {
   "cell_type": "markdown",
   "metadata": {},
   "source": [
    "## Initial and final momenta."
   ]
  },
  {
   "cell_type": "code",
   "execution_count": null,
   "metadata": {},
   "outputs": [],
   "source": [
    "# Load velocities of sim.\n",
    "u_all = fct.load_u_sim()\n",
    "\n",
    "# Position of earth w.r.t Milky Way NFW halo center.\n",
    "x1, x2, x3 = 8.5, 0., 0.\n",
    "x0 = np.array([x1, x2, x3])\n",
    "\n",
    "fig, axs = plt.subplots(2,2, figsize=(12,10))\n",
    "fig.suptitle(\n",
    "    'Initial and final momenta (sorted)' \n",
    "    '\\n'\n",
    "    f'({CC.NR_OF_NEUTRINOS} neutrinos)',\n",
    "    fontsize=18)\n",
    "\n",
    "masses = np.array([0.01, 0.05, 0.1, 0.3])*unit.eV\n",
    "for j, m_eV in enumerate(masses):\n",
    "\n",
    "    # Convert to momenta.\n",
    "    p_all, y_all = fct.u_to_p_eV(u_all, m_eV)\n",
    "\n",
    "    # Select correct momentum range.\n",
    "    indices = np.where((CC.LOWER <= y_all[:,0]) & (y_all[:,0] <= CC.UPPER))\n",
    "    p = p_all[indices]\n",
    "    y = y_all[indices]\n",
    "\n",
    "    p0, p1 = p[:,0], p[:,-1]\n",
    "    y0, y1 = y[:,0], y[:,-1]\n",
    "\n",
    "    # Sort.\n",
    "    order = p0.argsort()\n",
    "    p0_sort, p1_sort = p0[order], p1[order]\n",
    "    y0_sort, y1_sort = y0[order], y1[order]\n",
    "\n",
    "    i = 0\n",
    "    if j in (2,3):\n",
    "        i = 1\n",
    "        j -= 2\n",
    "    \n",
    "    # Escape momentum.\n",
    "    p_esc_eV, y_esc = fct.escape_momentum(x0, 0., my.rho0_NFW, my.Mvir_NFW, m_eV)\n",
    "    axs[i,j].axhline(y_esc, c='k', ls='-.', label='y_esc')\n",
    "\n",
    "    # Average momenta below escape momentum.\n",
    "\n",
    "    x = np.arange(len(y0_sort))\n",
    "    axs[i,j].semilogy(x, y0_sort, label='initial momentum')\n",
    "    axs[i,j].semilogy(x, y1_sort, label='final momentum', alpha=0.6)\n",
    "    axs[i,j].set_title(f'{m_eV.value} eV')\n",
    "    axs[i,j].set_xlabel('Neutrino number')\n",
    "    axs[i,j].set_ylabel(r'$p / T_{\\nu,0}$')\n",
    "    axs[i,j].legend(loc='lower right')\n",
    "\n",
    "plt.show()"
   ]
  }
 ],
 "metadata": {
  "interpreter": {
   "hash": "2fc11506ce542309680a5d7a18d7170bcceeadf7cd3c0301f21ef62d84cf3c72"
  },
  "kernelspec": {
   "display_name": "Python 3.9.7 64-bit ('neutrino_clustering': conda)",
   "name": "python3"
  },
  "language_info": {
   "codemirror_mode": {
    "name": "ipython",
    "version": 3
   },
   "file_extension": ".py",
   "mimetype": "text/x-python",
   "name": "python",
   "nbconvert_exporter": "python",
   "pygments_lexer": "ipython3",
   "version": "3.9.7"
  },
  "orig_nbformat": 4
 },
 "nbformat": 4,
 "nbformat_minor": 2
}
