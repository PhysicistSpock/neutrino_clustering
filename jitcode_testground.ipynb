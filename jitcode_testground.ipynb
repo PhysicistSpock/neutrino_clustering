{
 "cells": [
  {
   "cell_type": "code",
   "execution_count": 1,
   "metadata": {},
   "outputs": [],
   "source": [
    "from shared.preface import *\n",
    "import shared.my_units as my\n",
    "import shared.functions as fct\n",
    "import shared.control_center as CC"
   ]
  },
  {
   "cell_type": "code",
   "execution_count": 3,
   "metadata": {},
   "outputs": [
    {
     "name": "stdout",
     "output_type": "stream",
     "text": [
      "10000 1.0241151439038814 3.095469344360593\n",
      "CPU times: user 155 ms, sys: 233 µs, total: 156 ms\n",
      "Wall time: 154 ms\n"
     ]
    }
   ],
   "source": [
    "%%time\n",
    "\n",
    "\n",
    "@nb.njit\n",
    "def c_vir(z, M_vir):\n",
    "    \"\"\"Concentration parameter defined as r_vir/r_s, i.e. the ratio of virial \n",
    "    radius to the scale radius of the halo according to eqn. 5.5 of \n",
    "    Mertsch et al. (2020). \n",
    "\n",
    "    Args:\n",
    "        z (array): redshift\n",
    "        M_vir (float): virial mass, treated as fixed in time\n",
    "\n",
    "    Returns:\n",
    "        array: concentration parameters at each given redshift [dimensionless]\n",
    "    \"\"\"\n",
    "\n",
    "    # Beta is then obtained from c_vir_avg(0, M_vir) and c_vir(0, M_vir).\n",
    "    beta = (333.5/19.9) / fct.c_vir_avg(0, M_vir)\n",
    "\n",
    "    c = beta * fct.c_vir_avg(z, M_vir)\n",
    "\n",
    "    return c\n",
    "\n",
    "\n",
    "zeds = np.linspace(1,100,10000)\n",
    "\n",
    "sols = []\n",
    "for z in zeds:\n",
    "    c_val = c_vir(z, my.Mvir_NFW)\n",
    "    sols.append(c_val)\n",
    "\n",
    "print(len(sols), sols[0], sols[-1])"
   ]
  }
 ],
 "metadata": {
  "interpreter": {
   "hash": "dacf62ba90b6f65c67adc0503daf6f27b8256a0651a0a92bdfd8a6d2d39d3b30"
  },
  "kernelspec": {
   "display_name": "Python 3.9.7 64-bit ('neutrino_clustering_pytorch': conda)",
   "language": "python",
   "name": "python3"
  },
  "language_info": {
   "codemirror_mode": {
    "name": "ipython",
    "version": 3
   },
   "file_extension": ".py",
   "mimetype": "text/x-python",
   "name": "python",
   "nbconvert_exporter": "python",
   "pygments_lexer": "ipython3",
   "version": "3.9.7"
  },
  "orig_nbformat": 4
 },
 "nbformat": 4,
 "nbformat_minor": 2
}
