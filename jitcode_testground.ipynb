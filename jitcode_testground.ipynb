{
 "cells": [
  {
   "cell_type": "code",
   "execution_count": 1,
   "metadata": {},
   "outputs": [],
   "source": [
    "from shared.preface import *\n",
    "import shared.my_units as my\n",
    "import shared.functions as fct\n",
    "import shared.control_center as CC"
   ]
  },
  {
   "cell_type": "markdown",
   "metadata": {},
   "source": [
    "## s_of_z with nb.jit"
   ]
  },
  {
   "cell_type": "code",
   "execution_count": 2,
   "metadata": {},
   "outputs": [
    {
     "ename": "TypingError",
     "evalue": "Failed in nopython mode pipeline (step: nopython frontend)\n\u001b[1mUntyped global name 'quad':\u001b[0m \u001b[1m\u001b[1mCannot determine Numba type of <class 'function'>\u001b[0m\n\u001b[1m\nFile \"shared/functions.py\", line 241:\u001b[0m\n\u001b[1m    def s_integrand(z):\n        <source elided>\n\n\u001b[1m    s_of_z, _ = quad(s_integrand, 0., z)\n\u001b[0m    \u001b[1m^\u001b[0m\u001b[0m\n\u001b[0m",
     "output_type": "error",
     "traceback": [
      "\u001b[0;31m---------------------------------------------------------------------------\u001b[0m",
      "\u001b[0;31mTypingError\u001b[0m                               Traceback (most recent call last)",
      "\u001b[0;32m/tmp/ipykernel_20449/3312197069.py\u001b[0m in \u001b[0;36m<module>\u001b[0;34m\u001b[0m\n\u001b[0;32m----> 1\u001b[0;31m \u001b[0mtime_s\u001b[0m \u001b[0;34m=\u001b[0m \u001b[0mfct\u001b[0m\u001b[0;34m.\u001b[0m\u001b[0ms_of_z\u001b[0m\u001b[0;34m(\u001b[0m\u001b[0;36m1\u001b[0m\u001b[0;34m)\u001b[0m\u001b[0;34m\u001b[0m\u001b[0;34m\u001b[0m\u001b[0m\n\u001b[0m\u001b[1;32m      2\u001b[0m \u001b[0mprint\u001b[0m\u001b[0;34m(\u001b[0m\u001b[0mtime_s\u001b[0m\u001b[0;34m)\u001b[0m\u001b[0;34m\u001b[0m\u001b[0;34m\u001b[0m\u001b[0m\n",
      "\u001b[0;32m~/anaconda3/envs/neutrino_clustering_pytorch/lib/python3.9/site-packages/numba/core/dispatcher.py\u001b[0m in \u001b[0;36m_compile_for_args\u001b[0;34m(self, *args, **kws)\u001b[0m\n\u001b[1;32m    418\u001b[0m                 \u001b[0me\u001b[0m\u001b[0;34m.\u001b[0m\u001b[0mpatch_message\u001b[0m\u001b[0;34m(\u001b[0m\u001b[0mmsg\u001b[0m\u001b[0;34m)\u001b[0m\u001b[0;34m\u001b[0m\u001b[0;34m\u001b[0m\u001b[0m\n\u001b[1;32m    419\u001b[0m \u001b[0;34m\u001b[0m\u001b[0m\n\u001b[0;32m--> 420\u001b[0;31m             \u001b[0merror_rewrite\u001b[0m\u001b[0;34m(\u001b[0m\u001b[0me\u001b[0m\u001b[0;34m,\u001b[0m \u001b[0;34m'typing'\u001b[0m\u001b[0;34m)\u001b[0m\u001b[0;34m\u001b[0m\u001b[0;34m\u001b[0m\u001b[0m\n\u001b[0m\u001b[1;32m    421\u001b[0m         \u001b[0;32mexcept\u001b[0m \u001b[0merrors\u001b[0m\u001b[0;34m.\u001b[0m\u001b[0mUnsupportedError\u001b[0m \u001b[0;32mas\u001b[0m \u001b[0me\u001b[0m\u001b[0;34m:\u001b[0m\u001b[0;34m\u001b[0m\u001b[0;34m\u001b[0m\u001b[0m\n\u001b[1;32m    422\u001b[0m             \u001b[0;31m# Something unsupported is present in the user code, add help info\u001b[0m\u001b[0;34m\u001b[0m\u001b[0;34m\u001b[0m\u001b[0m\n",
      "\u001b[0;32m~/anaconda3/envs/neutrino_clustering_pytorch/lib/python3.9/site-packages/numba/core/dispatcher.py\u001b[0m in \u001b[0;36merror_rewrite\u001b[0;34m(e, issue_type)\u001b[0m\n\u001b[1;32m    359\u001b[0m                 \u001b[0;32mraise\u001b[0m \u001b[0me\u001b[0m\u001b[0;34m\u001b[0m\u001b[0;34m\u001b[0m\u001b[0m\n\u001b[1;32m    360\u001b[0m             \u001b[0;32melse\u001b[0m\u001b[0;34m:\u001b[0m\u001b[0;34m\u001b[0m\u001b[0;34m\u001b[0m\u001b[0m\n\u001b[0;32m--> 361\u001b[0;31m                 \u001b[0;32mraise\u001b[0m \u001b[0me\u001b[0m\u001b[0;34m.\u001b[0m\u001b[0mwith_traceback\u001b[0m\u001b[0;34m(\u001b[0m\u001b[0;32mNone\u001b[0m\u001b[0;34m)\u001b[0m\u001b[0;34m\u001b[0m\u001b[0;34m\u001b[0m\u001b[0m\n\u001b[0m\u001b[1;32m    362\u001b[0m \u001b[0;34m\u001b[0m\u001b[0m\n\u001b[1;32m    363\u001b[0m         \u001b[0margtypes\u001b[0m \u001b[0;34m=\u001b[0m \u001b[0;34m[\u001b[0m\u001b[0;34m]\u001b[0m\u001b[0;34m\u001b[0m\u001b[0;34m\u001b[0m\u001b[0m\n",
      "\u001b[0;31mTypingError\u001b[0m: Failed in nopython mode pipeline (step: nopython frontend)\n\u001b[1mUntyped global name 'quad':\u001b[0m \u001b[1m\u001b[1mCannot determine Numba type of <class 'function'>\u001b[0m\n\u001b[1m\nFile \"shared/functions.py\", line 241:\u001b[0m\n\u001b[1m    def s_integrand(z):\n        <source elided>\n\n\u001b[1m    s_of_z, _ = quad(s_integrand, 0., z)\n\u001b[0m    \u001b[1m^\u001b[0m\u001b[0m\n\u001b[0m"
     ]
    }
   ],
   "source": [
    "time_s = fct.s_of_z(1)\n",
    "print(time_s)"
   ]
  },
  {
   "cell_type": "markdown",
   "metadata": {},
   "source": [
    "## Manual Conversion factors."
   ]
  },
  {
   "cell_type": "markdown",
   "metadata": {},
   "source": [
    "### -> solMass / kpc3"
   ]
  },
  {
   "cell_type": "code",
   "execution_count": null,
   "metadata": {},
   "outputs": [],
   "source": [
    "z=3\n",
    "H_squared = my.H0**2. * (my.Omega_m0*(1.+z)**3. + my.Omega_L0) \n",
    "rho_crit = 3.*H_squared / (8.*np.pi*const.G)\n",
    "\n",
    "print(rho_crit)\n",
    "\n",
    "in_units = rho_crit.to(unit.M_sun/unit.kpc**3.)\n",
    "print(in_units)\n",
    "\n",
    "cf = (rho_crit/in_units).value\n",
    "print(cf)\n",
    "\n",
    "print(rho_crit.value/cf)"
   ]
  },
  {
   "cell_type": "markdown",
   "metadata": {},
   "source": [
    "### -> kpc / s2"
   ]
  },
  {
   "cell_type": "code",
   "execution_count": null,
   "metadata": {},
   "outputs": [],
   "source": [
    "ratio1, ratio2, ratio3 = 3., 2., 1.\n",
    "x_i = 8.5*unit.kpc \n",
    "r = 8.5*unit.kpc\n",
    "prefactor = 4.*np.pi*const.G*my.rho0_NFW*(200*unit.kpc)**2.*np.abs(x_i)/r**2.\n",
    "term1 = np.log(1.+ratio1) / ratio2\n",
    "term2 = ratio3 / (1.+ratio1)\n",
    "derivative_vector = prefactor * (term1 - term2)\n",
    "\n",
    "print(derivative_vector)\n",
    "\n",
    "in_rightUnits = derivative_vector.to(unit.kpc/unit.s**2.)\n",
    "print(in_rightUnits)\n",
    "\n",
    "cf2 = (derivative_vector/in_rightUnits).value\n",
    "\n",
    "print(cf2)\n",
    "print(derivative_vector.value/cf2)"
   ]
  },
  {
   "cell_type": "code",
   "execution_count": null,
   "metadata": {},
   "outputs": [],
   "source": [
    "%%time\n",
    "\n",
    "x1, x2, x3 = 8.5, 0., 0.\n",
    "x0 = np.array([x1, x2, x3])\n",
    "fct.dPsi_dxi_NFW(x0*unit.kpc, 1, my.rho0_NFW, my.Mvir_NFW)"
   ]
  },
  {
   "cell_type": "code",
   "execution_count": null,
   "metadata": {},
   "outputs": [],
   "source": [
    "%%time\n",
    "\n",
    "\n",
    "@nb.njit\n",
    "def c_vir(z, M_vir):\n",
    "    \"\"\"Concentration parameter defined as r_vir/r_s, i.e. the ratio of virial \n",
    "    radius to the scale radius of the halo according to eqn. 5.5 of \n",
    "    Mertsch et al. (2020). \n",
    "\n",
    "    Args:\n",
    "        z (array): redshift\n",
    "        M_vir (float): virial mass, treated as fixed in time\n",
    "\n",
    "    Returns:\n",
    "        array: concentration parameters at each given redshift [dimensionless]\n",
    "    \"\"\"\n",
    "\n",
    "    # Beta is then obtained from c_vir_avg(0, M_vir) and c_vir(0, M_vir).\n",
    "    beta = (333.5/19.9) / fct.c_vir_avg(0, M_vir)\n",
    "\n",
    "    c = beta * fct.c_vir_avg(z, M_vir)\n",
    "\n",
    "    return c\n",
    "\n",
    "\n",
    "zeds = np.linspace(1,100,10000)\n",
    "\n",
    "sols = []\n",
    "for z in zeds:\n",
    "    c_val = c_vir(z, my.Mvir_NFW)\n",
    "    sols.append(c_val)\n",
    "\n",
    "print(len(sols), sols[0], sols[-1])"
   ]
  }
 ],
 "metadata": {
  "interpreter": {
   "hash": "dacf62ba90b6f65c67adc0503daf6f27b8256a0651a0a92bdfd8a6d2d39d3b30"
  },
  "kernelspec": {
   "display_name": "Python 3.9.7 64-bit ('neutrino_clustering_pytorch': conda)",
   "language": "python",
   "name": "python3"
  },
  "language_info": {
   "codemirror_mode": {
    "name": "ipython",
    "version": 3
   },
   "file_extension": ".py",
   "mimetype": "text/x-python",
   "name": "python",
   "nbconvert_exporter": "python",
   "pygments_lexer": "ipython3",
   "version": "3.9.7"
  },
  "orig_nbformat": 4
 },
 "nbformat": 4,
 "nbformat_minor": 2
}
