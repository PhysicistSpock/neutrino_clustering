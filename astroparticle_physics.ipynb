{
 "cells": [
  {
   "cell_type": "code",
   "execution_count": 7,
   "metadata": {},
   "outputs": [],
   "source": [
    "from shared.preface import *\n",
    "\n"
   ]
  },
  {
   "cell_type": "markdown",
   "metadata": {},
   "source": [
    "## Chapter 7"
   ]
  },
  {
   "cell_type": "markdown",
   "metadata": {},
   "source": [
    "### 7.2"
   ]
  },
  {
   "cell_type": "code",
   "execution_count": null,
   "metadata": {},
   "outputs": [],
   "source": []
  },
  {
   "cell_type": "markdown",
   "metadata": {},
   "source": [
    "### 7.3"
   ]
  },
  {
   "cell_type": "code",
   "execution_count": 8,
   "metadata": {},
   "outputs": [
    {
     "name": "stdout",
     "output_type": "stream",
     "text": [
      "0.45677272882130043\n",
      "0.8181818181818181\n"
     ]
    }
   ],
   "source": [
    "theta_12 = 33*unit.deg\n",
    "prob = 1/2*np.sin(2*theta_12.to(unit.rad))\n",
    "\n",
    "print(prob)\n",
    "\n",
    "print(0.45/(1-0.45))"
   ]
  },
  {
   "cell_type": "markdown",
   "metadata": {},
   "source": [
    "## Chapter 8"
   ]
  },
  {
   "cell_type": "code",
   "execution_count": 15,
   "metadata": {},
   "outputs": [
    {
     "name": "stdout",
     "output_type": "stream",
     "text": [
      "5.94E+14\n"
     ]
    }
   ],
   "source": [
    "s_in_yr = 365*24*60*60 # s\n",
    "A = 3000 # m^2\n",
    "E = 1e5 # GeV\n",
    "\n",
    "CRs = 1e-2 * A * 2*np.pi * E * s_in_yr\n",
    "print(f'{CRs:.2E}')"
   ]
  },
  {
   "cell_type": "code",
   "execution_count": 17,
   "metadata": {},
   "outputs": [
    {
     "name": "stdout",
     "output_type": "stream",
     "text": [
      "6.986148318330715e-05\n"
     ]
    }
   ],
   "source": [
    "u = 4*np.pi*1e3/const.c.value * (1e11**-0.6 - 1) / -0.6\n",
    "print(u)"
   ]
  },
  {
   "cell_type": "markdown",
   "metadata": {},
   "source": [
    "## Tutorial Problems"
   ]
  },
  {
   "cell_type": "markdown",
   "metadata": {},
   "source": [
    "### 5.2"
   ]
  },
  {
   "cell_type": "code",
   "execution_count": 35,
   "metadata": {},
   "outputs": [
    {
     "name": "stdout",
     "output_type": "stream",
     "text": [
      "9.4608\n",
      "0.31709791983764585 eV / (cm2 s)\n",
      "0.0001502348451941588\n"
     ]
    }
   ],
   "source": [
    "# a)\n",
    "\n",
    "A_eff = 1*(unit.m**2)\n",
    "E_gamma = 10*unit.GeV\n",
    "val_from_fig = 0.3*unit.eV/unit.cm**2/unit.s\n",
    "\n",
    "N_gamma = val_from_fig * s_in_yr*unit.s * A_eff / E_gamma\n",
    "\n",
    "print(N_gamma.to(unit.dimensionless_unscaled))\n",
    "\n",
    "# b)\n",
    "\n",
    "E_for_10 = 10/A_eff/(s_in_yr*unit.s)*E_gamma\n",
    "print(E_for_10.to(unit.eV/unit.cm**2/unit.s))\n",
    "\n",
    "# c)\n",
    "d_crab = 10*unit.pc\n",
    "val_crab_eflux = 30*unit.eV/unit.cm**2/unit.s\n",
    "Lum = val_crab_eflux*4*np.pi*d_crab**2\n",
    "\n",
    "L_sun = const.L_sun.to(unit.erg/unit.s)\n",
    "\n",
    "Lum_normed = Lum.to(unit.erg/unit.s) / L_sun\n",
    "print(Lum_normed)"
   ]
  },
  {
   "cell_type": "markdown",
   "metadata": {},
   "source": [
    "### 6"
   ]
  },
  {
   "cell_type": "code",
   "execution_count": 40,
   "metadata": {},
   "outputs": [
    {
     "name": "stdout",
     "output_type": "stream",
     "text": [
      "1061.6373626373627\n"
     ]
    }
   ],
   "source": [
    "print((2901/2.73)-1)"
   ]
  },
  {
   "cell_type": "code",
   "execution_count": 60,
   "metadata": {},
   "outputs": [
    {
     "name": "stdout",
     "output_type": "stream",
     "text": [
      "2.255865286542241e-06 GeV3\n",
      "7.086137444566487e-11 eV3\n",
      "***********\n",
      "2.787502164064901e+30\n"
     ]
    }
   ],
   "source": [
    "from scipy.special import zeta\n",
    "from astropy.cosmology import WMAP7 \n",
    "\n",
    "rho_crit = WMAP7.critical_density(0)\n",
    "\n",
    "rho_crit = rho_crit.value / 1e-2**3 / 806554**3 *unit.g\n",
    "rho_crit = rho_crit.to(unit.eV, unit.mass_energy()).value * unit.eV**4\n",
    "rho_crit = rho_crit.to(unit.GeV**4)\n",
    "\n",
    "g_i = 2\n",
    "n_b = zeta(3) / np.pi**2 * g_i * (1e-3*21*unit.GeV)**3\n",
    "print(n_b)\n",
    "\n",
    "n_gamma = zeta(3) / np.pi**2 * g_i * (6.626e-4*unit.eV)**3\n",
    "print(n_gamma)\n",
    "\n",
    "# n_gamma2 = 411 / \n",
    "\n",
    "\n",
    "Omega_b = 1*unit.GeV*n_b / rho_crit * (0.67**2)\n",
    "eta_b = 273.97e-10 * Omega_b\n",
    "print('***********')\n",
    "print(eta_b)"
   ]
  }
 ],
 "metadata": {
  "interpreter": {
   "hash": "2fc11506ce542309680a5d7a18d7170bcceeadf7cd3c0301f21ef62d84cf3c72"
  },
  "kernelspec": {
   "display_name": "Python 3.9.7 64-bit ('neutrino_clustering': conda)",
   "language": "python",
   "name": "python3"
  },
  "language_info": {
   "codemirror_mode": {
    "name": "ipython",
    "version": 3
   },
   "file_extension": ".py",
   "mimetype": "text/x-python",
   "name": "python",
   "nbconvert_exporter": "python",
   "pygments_lexer": "ipython3",
   "version": "3.9.7"
  },
  "orig_nbformat": 4
 },
 "nbformat": 4,
 "nbformat_minor": 2
}
