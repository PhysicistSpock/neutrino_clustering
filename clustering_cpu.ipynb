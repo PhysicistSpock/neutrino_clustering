{
 "cells": [
  {
   "cell_type": "code",
   "execution_count": 1,
   "source": [
    "from shared.preface import *\n",
    "import shared.functions as fct\n",
    "import shared.my_units as my\n",
    "import shared.control_center as CC"
   ],
   "outputs": [],
   "metadata": {}
  },
  {
   "cell_type": "markdown",
   "source": [
    "# Various tests on individual functions"
   ],
   "metadata": {}
  },
  {
   "cell_type": "markdown",
   "source": [
    "## Time Variable s"
   ],
   "metadata": {}
  },
  {
   "cell_type": "code",
   "execution_count": 2,
   "source": [
    "t = fct.s_of_z(4)\n",
    "print(type(t), t)"
   ],
   "outputs": [
    {
     "output_type": "stream",
     "name": "stdout",
     "text": [
      "<class 'numpy.float64'> -7.548019506838111e+17\n"
     ]
    }
   ],
   "metadata": {}
  },
  {
   "cell_type": "markdown",
   "source": [
    "## Critical Density"
   ],
   "metadata": {}
  },
  {
   "cell_type": "code",
   "execution_count": 3,
   "source": [
    "crit = fct.rho_crit(0)\n",
    "print('Check if this matches critical density of universe today:')\n",
    "print(crit.to(unit.kg/unit.m**3))"
   ],
   "outputs": [
    {
     "output_type": "stream",
     "name": "stdout",
     "text": [
      "Check if this matches critical density of universe today:\n",
      "8.598814256622896e-27 kg / m3\n"
     ]
    }
   ],
   "metadata": {}
  },
  {
   "cell_type": "markdown",
   "source": [
    "## Unit Conversion Tests"
   ],
   "metadata": {}
  },
  {
   "cell_type": "code",
   "execution_count": 4,
   "source": [
    "print(my.T_nu.to(unit.eV, unit.temperature_energy()))"
   ],
   "outputs": [
    {
     "output_type": "stream",
     "name": "stdout",
     "text": [
      "0.00016803799861183098 eV\n"
     ]
    }
   ],
   "metadata": {}
  },
  {
   "cell_type": "markdown",
   "source": [
    "## Derivative vector values"
   ],
   "metadata": {}
  },
  {
   "cell_type": "code",
   "execution_count": 5,
   "source": [
    "z = 0\n",
    "x_i = np.array([1.,2.,3.])*unit.km\n",
    "\n",
    "t2 = fct.dPsi_dxi_NFW(x_i, z, my.rho0_NFW, my.Mvir_NFW)\n",
    "print(type(t2), t2)"
   ],
   "outputs": [
    {
     "output_type": "stream",
     "name": "stdout",
     "text": [
      "<class 'astropy.units.quantity.Quantity'> [-14867.28345853 -29734.56691707 -44601.8503756 ] kpc / s2\n"
     ]
    }
   ],
   "metadata": {}
  },
  {
   "cell_type": "markdown",
   "source": [
    "## Fermi-Dirac plot and Initial Momentum Tests"
   ],
   "metadata": {}
  },
  {
   "cell_type": "code",
   "execution_count": 6,
   "source": [
    "# Ringwald & Wong (2004) take initial momentum values in the range\n",
    "# 0.01 <= p/T_nu_0 <= 13 , covering more than 99.9% of the distribution.\n",
    "\n",
    "# neutrino mass\n",
    "m_nu = 0.05 * unit.eV  # in natural units\n",
    "m_nu_kg = m_nu.to(unit.kg, unit.mass_energy())  # in SI units\n",
    "\n",
    "u0 = 3000.*unit.km/unit.s\n",
    "p0 = u0 * m_nu_kg\n",
    "\n",
    "to_eV = 1/(5.3442883e-28)\n",
    "p0 = p0.to(unit.kg*unit.m/unit.s).value * to_eV * unit.eV\n",
    "print(p0)"
   ],
   "outputs": [
    {
     "output_type": "stream",
     "name": "stdout",
     "text": [
      "0.0005003459267797823 eV\n"
     ]
    }
   ],
   "metadata": {}
  },
  {
   "cell_type": "markdown",
   "source": [
    "## Initial velocity limits"
   ],
   "metadata": {}
  },
  {
   "cell_type": "code",
   "execution_count": 7,
   "source": [
    "# conversion factor for limits\n",
    "cf = 5.3442883e-28 / CC.NU_MASS.to(unit.kg, unit.mass_energy()).value\n",
    "T_nu_eV = my.T_nu.to(unit.eV, unit.temperature_energy()).value\n",
    "\n",
    "cf_new = 1.602e-19 / CC.NU_MASS.to(unit.kg, unit.mass_energy()).value / const.c.value\n",
    "\n",
    "# limits on velocity\n",
    "lower = 0.01*T_nu_eV*cf\n",
    "upper = 10*T_nu_eV*cf_new\n",
    "\n",
    "lower, upper = lower*unit.m/unit.s, upper*unit.m/unit.s\n",
    "print(lower.to(unit.km/unit.s).value, upper.to(unit.km/unit.s).value)\n",
    "\n",
    "!# should be order of O(1000) km/s"
   ],
   "outputs": [
    {
     "output_type": "stream",
     "name": "stdout",
     "text": [
      "10.075309278122077 10074.194163446862\n"
     ]
    }
   ],
   "metadata": {}
  },
  {
   "cell_type": "markdown",
   "source": [
    "# Investigating the shape of the final number density curve"
   ],
   "metadata": {}
  },
  {
   "cell_type": "markdown",
   "source": [
    "## Relation of p0 to p1"
   ],
   "metadata": {}
  },
  {
   "cell_type": "code",
   "execution_count": 8,
   "source": [
    "# Amount of simulated neutrinos\n",
    "Ns = np.arange(CC.NR_OF_NEUTRINOS, dtype=int)\n",
    "\n",
    "# load initial and final velocity\n",
    "u0 = [np.load(f'neutrino_vectors/nu_{Nr+1}.npy')[0,3:6] for Nr in Ns]\n",
    "u1 = [np.load(f'neutrino_vectors/nu_{Nr+1}.npy')[-1,3:6] for Nr in Ns]\n",
    "\n",
    "\n",
    "# intermediate arrays\n",
    "a0 = np.array([np.sqrt(np.sum(u**2)) for u in np.array(u0)])\n",
    "a1 = np.array([np.sqrt(np.sum(u**2)) for u in np.array(u1)])\n",
    "\n",
    "\n",
    "# convert mass(es) from eV to kg\n",
    "m_nu_eV = 0.05 * unit.eV\n",
    "m_nu_kg = m_nu_eV.to(unit.kg, unit.mass_energy())\n",
    "\n",
    "p_unit = unit.kg*unit.kpc/unit.s\n",
    "p0, p1 = a0 * m_nu_kg.value * p_unit, a1 * m_nu_kg.value * p_unit\n",
    "\n",
    "# convert momenta from kg*kpc/s to eV\n",
    "to_eV = 1/(5.3442883e-28)\n",
    "p0 = p0.to(unit.kg*unit.m/unit.s).value * to_eV\n",
    "p1 = p1.to(unit.kg*unit.m/unit.s).value * to_eV\n",
    "\n",
    "# they are already sorted\n",
    "order = p0.argsort()\n",
    "\n",
    "\n",
    "# plt.plot(p0, p1)"
   ],
   "outputs": [],
   "metadata": {}
  },
  {
   "cell_type": "code",
   "execution_count": 9,
   "source": [
    "raw = np.load(f'neutrino_vectors/nu_6.npy')*unit.kpc/unit.s\n",
    "u_1nu = raw.to(unit.km/unit.s).value\n",
    "\n",
    "print(u_1nu.shape)\n",
    "\n",
    "ux = u_1nu[:,3]\n",
    "uy = u_1nu[:,4]\n",
    "uz = u_1nu[:,5]\n",
    "\n",
    "mags = np.array([np.sqrt(np.sum(u**2)) for u in u_1nu[:, 3:6]])\n",
    "print(mags.shape)\n",
    "\n",
    "s = np.linspace(0,4,50)\n",
    "\n",
    "print(ux[-1]-ux[0])\n",
    "print(uy[-1]-uy[0])\n",
    "print(uz[-1]-uz[0])\n",
    "plt.loglog(1+s, np.abs(ux), label='ux')\n",
    "# plt.plot(s, uy, label='uy')\n",
    "# plt.plot(s, uz, label='uz')\n",
    "plt.legend()\n",
    "\n",
    "#! Velocities do not change..."
   ],
   "outputs": [
    {
     "output_type": "stream",
     "name": "stdout",
     "text": [
      "(50, 6)\n",
      "(50,)\n",
      "-654.9357682078606\n",
      "-672.7995918779723\n",
      "-3.1294122793623833\n"
     ]
    },
    {
     "output_type": "execute_result",
     "data": {
      "text/plain": [
       "<matplotlib.legend.Legend at 0x7f6e1c1989d0>"
      ]
     },
     "metadata": {},
     "execution_count": 9
    },
    {
     "output_type": "display_data",
     "data": {
      "image/png": "[encoded data removed]",
      "text/plain": [
       "<Figure size 432x288 with 1 Axes>"
      ]
     },
     "metadata": {
      "needs_background": "light"
     }
    }
   ],
   "metadata": {}
  },
  {
   "cell_type": "code",
   "execution_count": 10,
   "source": [
    "u_1nu = raw.value\n",
    "\n",
    "x = u_1nu[:,0]\n",
    "y = u_1nu[:,1]\n",
    "z = u_1nu[:,2]\n",
    "\n",
    "plt.plot(s, x, label='x')\n",
    "# plt.plot(s, y, label='y')\n",
    "# plt.plot(s, z, label='z')\n",
    "plt.legend()\n",
    "\n",
    "#! Positions change with opposite sign to velocity, since we integrate\n",
    "#! back in time."
   ],
   "outputs": [
    {
     "output_type": "execute_result",
     "data": {
      "text/plain": [
       "<matplotlib.legend.Legend at 0x7f6e1b7cb250>"
      ]
     },
     "metadata": {},
     "execution_count": 10
    },
    {
     "output_type": "display_data",
     "data": {
      "image/png": "[encoded data removed]",
      "text/plain": [
       "<Figure size 432x288 with 1 Axes>"
      ]
     },
     "metadata": {
      "needs_background": "light"
     }
    }
   ],
   "metadata": {}
  },
  {
   "cell_type": "markdown",
   "source": [
    "## Plot for s and z relation"
   ],
   "metadata": {}
  },
  {
   "cell_type": "code",
   "execution_count": 11,
   "source": [
    "zeds = np.geomspace(1e-10, CC.Z_STOP, CC.Z_AMOUNT)\n",
    "\n",
    "ss = np.array([fct.s_of_z(z) for z in zeds]) * my.H0.to(unit.s**-1).value\n",
    "\n",
    "\n",
    "plt.semilogx(1+zeds, -ss)\n",
    "plt.xlabel('redshift')\n",
    "plt.ylabel('time variable s [1/H0]')"
   ],
   "outputs": [
    {
     "output_type": "execute_result",
     "data": {
      "text/plain": [
       "Text(0, 0.5, 'time variable s [1/H0]')"
      ]
     },
     "metadata": {},
     "execution_count": 11
    },
    {
     "output_type": "display_data",
     "data": {
      "image/png": "[encoded data removed]",
      "text/plain": [
       "<Figure size 432x288 with 1 Axes>"
      ]
     },
     "metadata": {
      "needs_background": "light"
     }
    }
   ],
   "metadata": {}
  },
  {
   "cell_type": "markdown",
   "source": [
    "# Distribution plots"
   ],
   "metadata": {}
  },
  {
   "cell_type": "code",
   "execution_count": 21,
   "source": [
    "# Original Fermi-Dirac distr.\n",
    "pOG = np.geomspace(0.01*my.T_nu_eV, 10*my.T_nu_eV, len(p0))\n",
    "FDvalsOG = fct.Fermi_Dirac(pOG)\n",
    "yOG = pOG/my.T_nu_eV.value\n",
    "\n",
    "# Fermi-Dirac distr. of initial momentum (by using p1 momenta at z_back)\n",
    "y0 = p0/my.T_nu_eV.value\n",
    "FDvals0 = fct.Fermi_Dirac(p1)\n",
    "\n",
    "# Fermi-Dirac distr. of final momentum\n",
    "y1 = p1/my.T_nu_eV.value\n",
    "FDvals1 = fct.Fermi_Dirac(p1)\n",
    "\n",
    "\n",
    "plt.loglog(y0, FDvals0, label='today, m=0.05 eV')\n",
    "plt.loglog(y1, FDvals1, label='z_back, m=0.05 eV')\n",
    "plt.loglog(yOG, FDvalsOG, label='Fermi-Dirac')\n",
    "plt.title('Fermi-Dirac distr. of initial momentum')\n",
    "plt.ylabel('f(y)')\n",
    "plt.xlabel('y=p/T_nu')\n",
    "plt.legend(loc='lower left')"
   ],
   "outputs": [
    {
     "output_type": "execute_result",
     "data": {
      "text/plain": [
       "<matplotlib.legend.Legend at 0x7f6e1a198f40>"
      ]
     },
     "metadata": {},
     "execution_count": 21
    },
    {
     "output_type": "display_data",
     "data": {
      "image/png": "[encoded data removed]",
      "text/plain": [
       "<Figure size 432x288 with 1 Axes>"
      ]
     },
     "metadata": {
      "needs_background": "light"
     }
    }
   ],
   "metadata": {}
  },
  {
   "cell_type": "code",
   "execution_count": 13,
   "source": [
    "from backtracing import draw_ui\n",
    "\n",
    "# Draw initial velocities.\n",
    "ui = draw_ui(CC.PHIs, CC.THETAs, CC.Vs)\n",
    "\n",
    "print(ui.shape)\n",
    "\n",
    "ux = ui[:,0]\n",
    "uy = ui[:,1]\n",
    "uz = ui[:,2]\n",
    "print(ux.shape)\n",
    "\n",
    "x = np.arange(len(ux))\n",
    "y = np.arange(len(uy))\n",
    "z = np.arange(len(uz))\n",
    "plt.plot(x, ux, )\n",
    "plt.plot(y, uy, )\n",
    "# plt.plot(z, uz, )"
   ],
   "outputs": [
    {
     "output_type": "stream",
     "name": "stdout",
     "text": [
      "(1000, 3)\n",
      "(1000,)\n"
     ]
    },
    {
     "output_type": "execute_result",
     "data": {
      "text/plain": [
       "[<matplotlib.lines.Line2D at 0x7f6e1b326dc0>]"
      ]
     },
     "metadata": {},
     "execution_count": 13
    },
    {
     "output_type": "display_data",
     "data": {
      "image/png": "[encoded data removed]",
      "text/plain": [
       "<Figure size 432x288 with 1 Axes>"
      ]
     },
     "metadata": {
      "needs_background": "light"
     }
    }
   ],
   "metadata": {}
  }
 ],
 "metadata": {
  "orig_nbformat": 4,
  "language_info": {
   "name": "python",
   "version": "3.9.7",
   "mimetype": "text/x-python",
   "codemirror_mode": {
    "name": "ipython",
    "version": 3
   },
   "pygments_lexer": "ipython3",
   "nbconvert_exporter": "python",
   "file_extension": ".py"
  },
  "kernelspec": {
   "name": "python3",
   "display_name": "Python 3.9.7 64-bit ('neutrino_clustering': conda)"
  },
  "interpreter": {
   "hash": "26dad908839851da3b3d4a35934b2073ef407efc52e6975da86f3e2ae72f3956"
  }
 },
 "nbformat": 4,
 "nbformat_minor": 2
}