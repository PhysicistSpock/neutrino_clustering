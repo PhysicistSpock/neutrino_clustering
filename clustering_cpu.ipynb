{
 "cells": [
  {
   "cell_type": "code",
   "execution_count": 1,
   "source": [
    "from shared.preface import *\n",
    "import shared.functions as fct\n",
    "import shared.my_units as my\n",
    "import shared.control_center as CC"
   ],
   "outputs": [],
   "metadata": {}
  },
  {
   "cell_type": "markdown",
   "source": [
    "# Various tests on individual functions"
   ],
   "metadata": {}
  },
  {
   "cell_type": "markdown",
   "source": [
    "## Time Variable s"
   ],
   "metadata": {}
  },
  {
   "cell_type": "code",
   "execution_count": 2,
   "source": [
    "t = fct.s_of_z(4)\n",
    "print(type(t), t)"
   ],
   "outputs": [
    {
     "output_type": "stream",
     "name": "stdout",
     "text": [
      "<class 'numpy.float64'> -1.7989872714122289e+18\n"
     ]
    }
   ],
   "metadata": {}
  },
  {
   "cell_type": "markdown",
   "source": [
    "## Critical Density"
   ],
   "metadata": {}
  },
  {
   "cell_type": "code",
   "execution_count": 3,
   "source": [
    "crit = fct.rho_crit(0)\n",
    "print('Check if this matches critical density of universe today:')\n",
    "print(crit.to(unit.kg/unit.m**3))"
   ],
   "outputs": [
    {
     "output_type": "stream",
     "name": "stdout",
     "text": [
      "Check if this matches critical density of universe today:\n",
      "8.598814256622896e-27 kg / m3\n"
     ]
    }
   ],
   "metadata": {}
  },
  {
   "cell_type": "markdown",
   "source": [
    "## Unit Conversion Tests"
   ],
   "metadata": {}
  },
  {
   "cell_type": "code",
   "execution_count": 4,
   "source": [
    "print(my.T_nu.to(unit.eV, unit.temperature_energy()))"
   ],
   "outputs": [
    {
     "output_type": "stream",
     "name": "stdout",
     "text": [
      "0.00016803799861183098 eV\n"
     ]
    }
   ],
   "metadata": {}
  },
  {
   "cell_type": "markdown",
   "source": [
    "## Derivative vector values"
   ],
   "metadata": {}
  },
  {
   "cell_type": "code",
   "execution_count": 5,
   "source": [
    "z = 0\n",
    "x_i = np.array([1.,2.,3.])*unit.km\n",
    "\n",
    "t2 = fct.dPsi_dxi_NFW(x_i, z, my.rho0_NFW, my.Mvir_NFW)\n",
    "print(type(t2), t2)"
   ],
   "outputs": [
    {
     "output_type": "stream",
     "name": "stdout",
     "text": [
      "<class 'astropy.units.quantity.Quantity'> [-14867.28345853 -29734.56691707 -44601.8503756 ] kpc / s2\n"
     ]
    }
   ],
   "metadata": {}
  },
  {
   "cell_type": "markdown",
   "source": [
    "## Fermi-Dirac plot and Initial Momentum Tests"
   ],
   "metadata": {}
  },
  {
   "cell_type": "code",
   "execution_count": 6,
   "source": [
    "# Ringwald & Wong (2004) take initial momentum values in the range\n",
    "# 0.01 <= p/T_nu_0 <= 13 , covering more than 99.9% of the distribution.\n",
    "\n",
    "# neutrino mass\n",
    "m_nu = 0.05 * unit.eV  # in natural units\n",
    "m_nu_kg = m_nu.to(unit.kg, unit.mass_energy())  # in SI units\n",
    "\n",
    "u0 = 3000.*unit.km/unit.s\n",
    "p0 = u0 * m_nu_kg\n",
    "\n",
    "to_eV = 1/(5.3442883e-28)\n",
    "p0 = p0.to(unit.kg*unit.m/unit.s).value * to_eV * unit.eV\n",
    "print(p0)"
   ],
   "outputs": [
    {
     "output_type": "stream",
     "name": "stdout",
     "text": [
      "0.0005003459267797823 eV\n"
     ]
    }
   ],
   "metadata": {}
  },
  {
   "cell_type": "code",
   "execution_count": 7,
   "source": [
    "def convert_ratio(pT_ratio):\n",
    "\n",
    "    T_in_eV = my.T_nu.to(unit.eV, unit.temperature_energy())\n",
    "    conversion_unit = (1/5.3442883e-28) * const.k_B.value * T_in_eV.value\n",
    "\n",
    "    return 1/(pT_ratio / conversion_unit)\n",
    "\n",
    "print(convert_ratio(0.01))\n",
    "print(convert_ratio(13.))\n",
    "\n",
    "lower = 13*const.c\n",
    "print(lower.to(unit.km/unit.s))"
   ],
   "outputs": [
    {
     "output_type": "stream",
     "name": "stdout",
     "text": [
      "434.1111140007657\n",
      "0.3339316261544352\n",
      "3897301.954 km / s\n"
     ]
    }
   ],
   "metadata": {}
  },
  {
   "cell_type": "code",
   "execution_count": 8,
   "source": [
    "def FDplot(p_by_T):\n",
    "\n",
    "    return 1 / (np.exp(p_by_T) + 1)\n",
    "\n",
    "ratio_range = np.linspace(0.01,13,100)\n",
    "\n",
    "plt.plot(ratio_range, FDplot(ratio_range))"
   ],
   "outputs": [
    {
     "output_type": "execute_result",
     "data": {
      "text/plain": [
       "[<matplotlib.lines.Line2D at 0x7fa077869fd0>]"
      ]
     },
     "metadata": {},
     "execution_count": 8
    },
    {
     "output_type": "display_data",
     "data": {
      "image/png": "[encoded data removed]",
      "text/plain": [
       "<Figure size 432x288 with 1 Axes>"
      ]
     },
     "metadata": {
      "needs_background": "light"
     }
    }
   ],
   "metadata": {}
  },
  {
   "cell_type": "markdown",
   "source": [
    "## Initial velocity limits"
   ],
   "metadata": {}
  },
  {
   "cell_type": "code",
   "execution_count": 9,
   "source": [
    "# conversion factor for limits\n",
    "cf = 5.3442883e-28 / CC.NU_MASS.to(unit.kg, unit.mass_energy()).value\n",
    "T_nu_eV = my.T_nu.to(unit.eV, unit.temperature_energy()).value\n",
    "\n",
    "# limits on velocity\n",
    "lower = 0.01*T_nu_eV*cf\n",
    "upper = 10*T_nu_eV*cf\n",
    "\n",
    "print(lower, upper/const.c.value)\n",
    "\n",
    "!# should be order of O(1000) km/s"
   ],
   "outputs": [
    {
     "output_type": "stream",
     "name": "stdout",
     "text": [
      "10075.309278122077 0.03360761423198337\n"
     ]
    }
   ],
   "metadata": {}
  },
  {
   "cell_type": "markdown",
   "source": [
    "# Investigating the shape of the final number density curve"
   ],
   "metadata": {}
  },
  {
   "cell_type": "markdown",
   "source": [
    "## Relation of p0 to p1"
   ],
   "metadata": {}
  },
  {
   "cell_type": "code",
   "execution_count": 10,
   "source": [
    "# Amount of simulated neutrinos\n",
    "Ns = np.arange(CC.NR_OF_NEUTRINOS, dtype=int)\n",
    "\n",
    "# load initial and final velocity\n",
    "u0 = [np.load(f'neutrino_vectors/nu_{Nr+1}.npy')[0,3:6] for Nr in Ns]\n",
    "u1 = [np.load(f'neutrino_vectors/nu_{Nr+1}.npy')[-1,3:6] for Nr in Ns]\n",
    "\n",
    "print(np.array(u1))\n",
    "\n",
    "\n",
    "# intermediate arrays\n",
    "a0 = np.array([np.sqrt(np.sum(u**2)) for u in np.array(u0)])\n",
    "a1 = np.array([np.sqrt(np.sum(u**2)) for u in np.array(u1)])\n",
    "\n",
    "print(np.array(a1)-np.array(a0))\n",
    "\n",
    "# convert mass(es) from eV to kg\n",
    "m_nu_eV = 0.05 * unit.eV\n",
    "m_nu_kg = m_nu_eV.to(unit.kg, unit.mass_energy())\n",
    "\n",
    "p_unit = unit.kg*unit.kpc/unit.s\n",
    "p0, p1 = a0 * m_nu_kg.value * p_unit, a1 * m_nu_kg.value * p_unit\n",
    "\n",
    "# convert momenta from kg*kpc/s to eV\n",
    "to_eV = 1/(5.3442883e-28)\n",
    "p0 = p0.to(unit.kg*unit.m/unit.s).value * to_eV\n",
    "p1 = p1.to(unit.kg*unit.m/unit.s).value * to_eV\n",
    "\n",
    "# they are already sorted\n",
    "order = p0.argsort()\n",
    "\n",
    "\n",
    "plt.plot(p0, p1)"
   ],
   "outputs": [
    {
     "output_type": "stream",
     "name": "stdout",
     "text": [
      "[[ 2.70128024e-15 -5.78235055e-16  3.27940598e-13]\n",
      " [ 2.84322136e-13 -1.09515177e-15  1.63519659e-13]\n",
      " [ 2.84322136e-13 -1.09515177e-15 -1.63519659e-13]\n",
      " [ 2.70128024e-15 -5.78235055e-16 -3.27940598e-13]\n",
      " [-2.21614449e-15  2.26370570e-15  3.27936863e-13]\n",
      " [-1.43066464e-13  2.45915954e-13  1.63140163e-13]\n",
      " [-1.43066464e-13  2.45915954e-13 -1.63140163e-13]\n",
      " [-2.21614449e-15  2.26370570e-15 -3.27936863e-13]\n",
      " [-2.21116828e-15 -3.41150471e-15  3.27927080e-13]\n",
      " [-1.42464497e-13 -2.46486486e-13  1.62818451e-13]\n",
      " [-1.42464497e-13 -2.46486486e-13 -1.62818451e-13]\n",
      " [-2.21116828e-15 -3.41150471e-15 -3.27927080e-13]\n",
      " [ 2.70128024e-15 -5.78235055e-16  3.27940598e-13]\n",
      " [ 2.84322136e-13 -1.09515177e-15  1.63519659e-13]\n",
      " [ 2.84322136e-13 -1.09515177e-15 -1.63519659e-13]\n",
      " [ 2.70128024e-15 -5.78235055e-16 -3.27940598e-13]\n",
      " [ 3.25945493e-14 -5.82193298e-17  3.26516802e-12]\n",
      " [ 2.83326205e-12 -1.06716528e-16  1.62327761e-12]\n",
      " [ 2.83326205e-12 -1.06716528e-16 -1.62327761e-12]\n",
      " [ 3.25945493e-14 -5.82193298e-17 -3.26516802e-12]\n",
      " [-1.63844247e-14  2.82200830e-14  3.26516774e-12]\n",
      " [-1.41672232e-12  2.45364580e-12  1.62324171e-12]\n",
      " [-1.41672232e-12  2.45364580e-12 -1.62324171e-12]\n",
      " [-1.63844247e-14  2.82200830e-14 -3.26516774e-12]\n",
      " [-1.63839378e-14 -2.83356763e-14  3.26516683e-12]\n",
      " [-1.41666259e-12 -2.45370410e-12  1.62320962e-12]\n",
      " [-1.41666259e-12 -2.45370410e-12 -1.62320962e-12]\n",
      " [-1.63839378e-14 -2.83356763e-14 -3.26516683e-12]\n",
      " [ 3.25945493e-14 -5.82193298e-17  3.26516802e-12]\n",
      " [ 2.83326205e-12 -1.06716528e-16  1.62327761e-12]\n",
      " [ 2.83326205e-12 -1.06716528e-16 -1.62327761e-12]\n",
      " [ 3.25945493e-14 -5.82193298e-17 -3.26516802e-12]\n",
      " [ 3.26506996e-13 -6.25062274e-18  3.26502362e-11]\n",
      " [ 2.83316083e-11 -1.09331445e-17  1.62315911e-11]\n",
      " [ 2.83316083e-11 -1.09331445e-17 -1.62315911e-11]\n",
      " [ 3.26506996e-13 -6.25062274e-18 -3.26502362e-11]\n",
      " [-1.63262852e-13  2.82762536e-13  3.26502362e-11]\n",
      " [-1.41658134e-11  2.45358892e-11  1.62315873e-11]\n",
      " [-1.41658134e-11  2.45358892e-11 -1.62315873e-11]\n",
      " [-1.63262852e-13  2.82762536e-13 -3.26502362e-11]\n",
      " [-1.63262793e-13 -2.82774936e-13  3.26502361e-11]\n",
      " [-1.41658071e-11 -2.45358949e-11  1.62315839e-11]\n",
      " [-1.41658071e-11 -2.45358949e-11 -1.62315839e-11]\n",
      " [-1.63262793e-13 -2.82774936e-13 -3.26502361e-11]\n",
      " [ 3.26506996e-13 -6.25062274e-18  3.26502362e-11]\n",
      " [ 2.83316083e-11 -1.09331445e-17  1.62315911e-11]\n",
      " [ 2.83316083e-11 -1.09331445e-17 -1.62315911e-11]\n",
      " [ 3.26506996e-13 -6.25062274e-18 -3.26502362e-11]\n",
      " [ 3.26513034e-12 -6.18931655e-19  3.26502212e-10]\n",
      " [ 2.83315974e-10 -1.28570284e-18  1.62315786e-10]\n",
      " [ 2.83315974e-10 -1.28570284e-18 -1.62315786e-10]\n",
      " [ 3.26513034e-12 -6.18931655e-19 -3.26502212e-10]\n",
      " [-1.63256610e-12  2.82768574e-12  3.26502212e-10]\n",
      " [-1.41657988e-10  2.45358830e-10  1.62315786e-10]\n",
      " [-1.41657988e-10  2.45358830e-10 -1.62315786e-10]\n",
      " [-1.63256610e-12  2.82768574e-12 -3.26502212e-10]\n",
      " [-1.63256609e-12 -2.82768697e-12  3.26502212e-10]\n",
      " [-1.41657987e-10 -2.45358831e-10  1.62315786e-10]\n",
      " [-1.41657987e-10 -2.45358831e-10 -1.62315786e-10]\n",
      " [-1.63256609e-12 -2.82768697e-12 -3.26502212e-10]\n",
      " [ 3.26513034e-12 -6.18931655e-19  3.26502212e-10]\n",
      " [ 2.83315974e-10 -1.28570291e-18  1.62315786e-10]\n",
      " [ 2.83315974e-10 -1.28570291e-18 -1.62315786e-10]\n",
      " [ 3.26513034e-12 -6.18931655e-19 -3.26502212e-10]]\n",
      "[1.43369670e-15 1.47377341e-15 1.47377341e-15 1.43369670e-15\n",
      " 1.43362741e-15 1.44088517e-15 1.44088517e-15 1.43362741e-15\n",
      " 1.43374235e-15 1.44726773e-15 1.44726773e-15 1.43374235e-15\n",
      " 1.43369670e-15 1.47377341e-15 1.47377341e-15 1.43369670e-15\n",
      " 1.45334998e-16 1.48320803e-16 1.48320803e-16 1.45334998e-16\n",
      " 1.45431284e-16 1.46698383e-16 1.46698383e-16 1.45431284e-16\n",
      " 1.45522230e-16 1.48639421e-16 1.48639421e-16 1.45522230e-16\n",
      " 1.45334998e-16 1.48320803e-16 1.48320803e-16 1.45334998e-16\n",
      " 1.51042282e-17 1.58065428e-17 1.58065428e-17 1.51042282e-17\n",
      " 1.51104660e-17 1.54235699e-17 1.54235699e-17 1.51104660e-17\n",
      " 1.51227995e-17 1.52814218e-17 1.52814218e-17 1.51227995e-17\n",
      " 1.51042282e-17 1.58065428e-17 1.58065428e-17 1.51042282e-17\n",
      " 1.50658779e-18 1.46102601e-18 1.46102601e-18 1.50658779e-18\n",
      " 1.50680482e-18 1.49977813e-18 1.49977807e-18 1.50680482e-18\n",
      " 1.50738483e-18 1.52128570e-18 1.52128570e-18 1.50738483e-18\n",
      " 1.50658779e-18 1.46102601e-18 1.46102601e-18 1.50658779e-18]\n"
     ]
    },
    {
     "output_type": "execute_result",
     "data": {
      "text/plain": [
       "[<matplotlib.lines.Line2D at 0x7fa076f71ac0>]"
      ]
     },
     "metadata": {},
     "execution_count": 10
    },
    {
     "output_type": "display_data",
     "data": {
      "image/png": "[encoded data removed]",
      "text/plain": [
       "<Figure size 432x288 with 1 Axes>"
      ]
     },
     "metadata": {
      "needs_background": "light"
     }
    }
   ],
   "metadata": {}
  },
  {
   "cell_type": "code",
   "execution_count": 14,
   "source": [
    "raw = np.load(f'neutrino_vectors/nu_6.npy')*unit.kpc/unit.s\n",
    "u_1nu = raw.to(unit.km/unit.s).value\n",
    "\n",
    "print(u_1nu.shape)\n",
    "\n",
    "ux = u_1nu[:,3]\n",
    "uy = u_1nu[:,4]\n",
    "uz = u_1nu[:,5]\n",
    "\n",
    "mags = np.array([np.sqrt(np.sum(u**2)) for u in u_1nu[:, 3:6]])\n",
    "print(mags.shape)\n",
    "\n",
    "s = np.linspace(1,50,50)\n",
    "\n",
    "print(ux[-1]-ux[0])\n",
    "print(uy[-1]-uy[0])\n",
    "print(uz[-1]-uz[0])\n",
    "# plt.plot(s, ux, label='ux')\n",
    "plt.plot(s, uy, label='uy')\n",
    "# plt.plot(s, uz, label='uz')\n",
    "plt.legend()\n",
    "\n",
    "#! Velocities do not change..."
   ],
   "outputs": [
    {
     "output_type": "stream",
     "name": "stdout",
     "text": [
      "(50, 6)\n",
      "(50,)\n",
      "-43.46107577900602\n",
      "17.19104466535282\n",
      "25.43764543211455\n"
     ]
    },
    {
     "output_type": "execute_result",
     "data": {
      "text/plain": [
       "<matplotlib.legend.Legend at 0x7fa076e03f70>"
      ]
     },
     "metadata": {},
     "execution_count": 14
    },
    {
     "output_type": "display_data",
     "data": {
      "image/png": "[encoded data removed]",
      "text/plain": [
       "<Figure size 432x288 with 1 Axes>"
      ]
     },
     "metadata": {
      "needs_background": "light"
     }
    }
   ],
   "metadata": {}
  }
 ],
 "metadata": {
  "orig_nbformat": 4,
  "language_info": {
   "name": "python",
   "version": "3.9.6",
   "mimetype": "text/x-python",
   "codemirror_mode": {
    "name": "ipython",
    "version": 3
   },
   "pygments_lexer": "ipython3",
   "nbconvert_exporter": "python",
   "file_extension": ".py"
  },
  "kernelspec": {
   "name": "python3",
   "display_name": "Python 3.9.6 64-bit ('neutrino_clustering': conda)"
  },
  "interpreter": {
   "hash": "8c0def98e6b0bb9f826d57e847492ca76b753d991a53b1939cd592f1cdabf009"
  }
 },
 "nbformat": 4,
 "nbformat_minor": 2
}