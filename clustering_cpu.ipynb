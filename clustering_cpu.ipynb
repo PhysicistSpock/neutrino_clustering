{
 "cells": [
  {
   "cell_type": "code",
   "execution_count": 1,
   "source": [
    "from shared.preface import *\n",
    "import shared.my_units as myUnits"
   ],
   "outputs": [],
   "metadata": {}
  },
  {
   "cell_type": "code",
   "execution_count": 6,
   "source": [
    "r_vir = 1\n",
    "rho_0 = 1\n",
    "r_s = 1\n",
    "\n",
    "# m = np.minimum(r, r_vir)\n",
    "# M = np.maximum(r, r_vir)\n",
    "\n",
    "m = 1\n",
    "M = 1\n",
    "\n",
    "r = sympy.Symbol('r')\n",
    "\n",
    "prefactor = -4*np.pi*myUnits.G_Newton*rho_0*r_s**2\n",
    "term1 = np.log(1 + m/r_s) / (r/r_s)\n",
    "term2 = r_vir/M / (1 + r_vir/r_s)\n",
    "\n",
    "Psi = prefactor * (term1 - term2)\n",
    "\n",
    "# derivative w.r.t any axis x_i with chain rule\n",
    "dPsi_dxi = sympy.diff(Psi, r)\n",
    "print(dPsi_dxi)\n",
    "\n",
    "fill_in_r_vals = sympy.lambdify(r, dPsi_dxi, 'numpy')\n",
    "vals = fill_in_r_vals(np.ones(5))"
   ],
   "outputs": [
    {
     "output_type": "stream",
     "name": "stdout",
     "text": [
      "8.71034436121441/r**2\n",
      "<class 'numpy.ndarray'>\n"
     ]
    }
   ],
   "metadata": {}
  }
 ],
 "metadata": {
  "orig_nbformat": 4,
  "language_info": {
   "name": "python",
   "version": "3.9.6",
   "mimetype": "text/x-python",
   "codemirror_mode": {
    "name": "ipython",
    "version": 3
   },
   "pygments_lexer": "ipython3",
   "nbconvert_exporter": "python",
   "file_extension": ".py"
  },
  "kernelspec": {
   "name": "python3",
   "display_name": "Python 3.9.6 64-bit ('neutrino_clustering': conda)"
  },
  "interpreter": {
   "hash": "8c0def98e6b0bb9f826d57e847492ca76b753d991a53b1939cd592f1cdabf009"
  }
 },
 "nbformat": 4,
 "nbformat_minor": 2
}