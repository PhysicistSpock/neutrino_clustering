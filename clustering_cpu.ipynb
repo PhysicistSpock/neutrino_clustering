{
 "cells": [
  {
   "cell_type": "code",
   "execution_count": 1,
   "source": [
    "from shared.preface import *\n",
    "import shared.functions as fct\n",
    "import shared.my_units as my\n",
    "import shared.control_center as CC"
   ],
   "outputs": [],
   "metadata": {}
  },
  {
   "cell_type": "markdown",
   "source": [
    "# Various tests on individual functions"
   ],
   "metadata": {}
  },
  {
   "cell_type": "markdown",
   "source": [
    "## Time Variable s"
   ],
   "metadata": {}
  },
  {
   "cell_type": "code",
   "execution_count": 2,
   "source": [
    "t = fct.s_of_z(4)\n",
    "print(type(t), t)"
   ],
   "outputs": [
    {
     "output_type": "stream",
     "name": "stdout",
     "text": [
      "<class 'numpy.float64'> -3.9446596596434427\n"
     ]
    }
   ],
   "metadata": {}
  },
  {
   "cell_type": "markdown",
   "source": [
    "## Critical Density"
   ],
   "metadata": {}
  },
  {
   "cell_type": "code",
   "execution_count": 3,
   "source": [
    "crit = fct.rho_crit(0)\n",
    "print('Check if this matches critical density of universe today:')\n",
    "print(crit.to(unit.kg/unit.m**3))"
   ],
   "outputs": [
    {
     "output_type": "stream",
     "name": "stdout",
     "text": [
      "Check if this matches critical density of universe today:\n",
      "8.598814256622896e-27 kg / m3\n"
     ]
    }
   ],
   "metadata": {}
  },
  {
   "cell_type": "markdown",
   "source": [
    "## Unit Conversion Tests"
   ],
   "metadata": {}
  },
  {
   "cell_type": "code",
   "execution_count": 4,
   "source": [
    "print(my.T_nu.to(unit.eV, unit.temperature_energy()))"
   ],
   "outputs": [
    {
     "output_type": "stream",
     "name": "stdout",
     "text": [
      "0.00016803799861183098 eV\n"
     ]
    }
   ],
   "metadata": {}
  },
  {
   "cell_type": "markdown",
   "source": [
    "## Derivative vector values"
   ],
   "metadata": {}
  },
  {
   "cell_type": "code",
   "execution_count": 5,
   "source": [
    "z = 0\n",
    "x_i = np.array([1.,2.,3.])*unit.km\n",
    "\n",
    "t2 = fct.dPsi_dxi_NFW(x_i, z, my.rho0_NFW, my.Mvir_NFW)\n",
    "print(type(t2), t2)"
   ],
   "outputs": [
    {
     "output_type": "stream",
     "name": "stdout",
     "text": [
      "<class 'astropy.units.quantity.Quantity'> [-14867.28345853 -29734.56691707 -44601.8503756 ] kpc / s2\n"
     ]
    }
   ],
   "metadata": {}
  },
  {
   "cell_type": "markdown",
   "source": [
    "## Fermi-Dirac plot and Initial Momentum Tests"
   ],
   "metadata": {}
  },
  {
   "cell_type": "code",
   "execution_count": 6,
   "source": [
    "# Ringwald & Wong (2004) take initial momentum values in the range\n",
    "# 0.01 <= p/T_nu_0 <= 13 , covering more than 99.9% of the distribution.\n",
    "\n",
    "# neutrino mass\n",
    "m_nu = 0.05 * unit.eV  # in natural units\n",
    "m_nu_kg = m_nu.to(unit.kg, unit.mass_energy())  # in SI units\n",
    "\n",
    "u0 = 3000.*unit.km/unit.s\n",
    "p0 = u0 * m_nu_kg\n",
    "\n",
    "to_eV = 1/(5.3442883e-28)\n",
    "p0 = p0.to(unit.kg*unit.m/unit.s).value * to_eV * unit.eV\n",
    "print(p0)"
   ],
   "outputs": [
    {
     "output_type": "stream",
     "name": "stdout",
     "text": [
      "0.0005003459267797823 eV\n"
     ]
    }
   ],
   "metadata": {}
  },
  {
   "cell_type": "code",
   "execution_count": 7,
   "source": [
    "def convert_ratio(pT_ratio):\n",
    "\n",
    "    T_in_eV = my.T_nu.to(unit.eV, unit.temperature_energy())\n",
    "    conversion_unit = (1/5.3442883e-28) * const.k_B.value * T_in_eV.value\n",
    "\n",
    "    return 1/(pT_ratio / conversion_unit)\n",
    "\n",
    "print(convert_ratio(0.01))\n",
    "print(convert_ratio(13.))\n",
    "\n",
    "lower = 13*const.c\n",
    "print(lower.to(unit.km/unit.s))"
   ],
   "outputs": [
    {
     "output_type": "stream",
     "name": "stdout",
     "text": [
      "434.1111140007657\n",
      "0.3339316261544352\n",
      "3897301.954 km / s\n"
     ]
    }
   ],
   "metadata": {}
  },
  {
   "cell_type": "code",
   "execution_count": 8,
   "source": [
    "def FDplot(p_by_T):\n",
    "\n",
    "    return 1 / (np.exp(p_by_T) + 1)\n",
    "\n",
    "ratio_range = np.linspace(0.01,13,100)\n",
    "\n",
    "plt.plot(ratio_range, FDplot(ratio_range))"
   ],
   "outputs": [
    {
     "output_type": "execute_result",
     "data": {
      "text/plain": [
       "[<matplotlib.lines.Line2D at 0x7f08dbab5bb0>]"
      ]
     },
     "metadata": {},
     "execution_count": 8
    },
    {
     "output_type": "display_data",
     "data": {
      "image/png": "[encoded data removed]",
      "text/plain": [
       "<Figure size 432x288 with 1 Axes>"
      ]
     },
     "metadata": {
      "needs_background": "light"
     }
    }
   ],
   "metadata": {}
  },
  {
   "cell_type": "markdown",
   "source": [
    "## Initial velocity limits"
   ],
   "metadata": {}
  },
  {
   "cell_type": "code",
   "execution_count": 9,
   "source": [
    "# conversion factor for limits\n",
    "cf = 5.3442883e-28 / CC.NU_MASS.to(unit.kg, unit.mass_energy()).value\n",
    "T_nu_eV = my.T_nu.to(unit.eV, unit.temperature_energy()).value\n",
    "\n",
    "# limits on velocity\n",
    "lower = 0.01*T_nu_eV*cf\n",
    "upper = 10*T_nu_eV*cf\n",
    "\n",
    "print(lower, upper/const.c.value)\n",
    "\n",
    "!# should be order of O(1000) km/s"
   ],
   "outputs": [
    {
     "output_type": "stream",
     "name": "stdout",
     "text": [
      "10075.309278122077 0.03360761423198337\n"
     ]
    }
   ],
   "metadata": {}
  },
  {
   "cell_type": "markdown",
   "source": [
    "# Investigating the shape of the final number density curve"
   ],
   "metadata": {}
  },
  {
   "cell_type": "markdown",
   "source": [
    "## Relation of p0 to p1"
   ],
   "metadata": {}
  },
  {
   "cell_type": "code",
   "execution_count": 16,
   "source": [
    "# Amount of simulated neutrinos\n",
    "Ns = np.arange(CC.NR_OF_NEUTRINOS, dtype=int)\n",
    "\n",
    "# load initial and final velocity\n",
    "u0 = [np.load(f'neutrino_vectors/nu_{Nr+1}.npy')[0,3:6] for Nr in Ns]\n",
    "u1 = [np.load(f'neutrino_vectors/nu_{Nr+1}.npy')[-1,3:6] for Nr in Ns]\n",
    "\n",
    "print(np.array(u0), np.array(u1))\n",
    "\n",
    "# intermediate arrays\n",
    "a0 = np.array([np.sqrt(np.sum(u**2)) for u in np.array(u0)])\n",
    "a1 = np.array([np.sqrt(np.sum(u**2)) for u in np.array(u1)])\n",
    "\n",
    "# convert mass(es) from eV to kg\n",
    "m_nu_eV = 0.05 * unit.eV\n",
    "m_nu_kg = m_nu_eV.to(unit.kg, unit.mass_energy())\n",
    "\n",
    "p_unit = unit.kg*unit.kpc/unit.s\n",
    "p0, p1 = a0 * m_nu_kg.value * p_unit, a1 * m_nu_kg.value * p_unit\n",
    "\n",
    "# convert momenta from kg*kpc/s to eV\n",
    "to_eV = 1/(5.3442883e-28)\n",
    "p0 = p0.to(unit.kg*unit.m/unit.s).value * to_eV\n",
    "p1 = p1.to(unit.kg*unit.m/unit.s).value * to_eV\n",
    "\n",
    "# they are already sorted\n",
    "order = p0.argsort()\n",
    "\n",
    "\n",
    "plt.plot(p0, p1)"
   ],
   "outputs": [
    {
     "output_type": "stream",
     "name": "stdout",
     "text": [
      "[[ 3.26513094e-15  0.00000000e+00  3.26502211e-13]\n",
      " [ 3.26513094e-15  0.00000000e+00 -3.26502211e-13]\n",
      " [ 3.26513094e-15 -7.99726432e-31  3.26502211e-13]\n",
      " [ 3.26513094e-15 -7.99726432e-31 -3.26502211e-13]\n",
      " [ 3.26513094e-12  0.00000000e+00  3.26502211e-10]\n",
      " [ 3.26513094e-12  0.00000000e+00 -3.26502211e-10]\n",
      " [ 3.26513094e-12 -7.99726432e-28  3.26502211e-10]\n",
      " [ 3.26513094e-12 -7.99726432e-28 -3.26502211e-10]] [[ 3.26513094e-15 -3.94046201e-30  3.26502211e-13]\n",
      " [ 3.26513094e-15 -3.94046201e-30 -3.26502211e-13]\n",
      " [ 3.26513094e-15 -4.74018844e-30  3.26502211e-13]\n",
      " [ 3.26513094e-15 -4.74018844e-30 -3.26502211e-13]\n",
      " [ 3.26513094e-12 -3.94046201e-30  3.26502211e-10]\n",
      " [ 3.26513094e-12 -3.94046201e-30 -3.26502211e-10]\n",
      " [ 3.26513094e-12 -8.03666894e-28  3.26502211e-10]\n",
      " [ 3.26513094e-12 -8.03666894e-28 -3.26502211e-10]]\n"
     ]
    },
    {
     "output_type": "execute_result",
     "data": {
      "text/plain": [
       "[<matplotlib.lines.Line2D at 0x7f08da5e32e0>]"
      ]
     },
     "metadata": {},
     "execution_count": 16
    },
    {
     "output_type": "display_data",
     "data": {
      "image/png": "[encoded data removed]",
      "text/plain": [
       "<Figure size 432x288 with 1 Axes>"
      ]
     },
     "metadata": {
      "needs_background": "light"
     }
    }
   ],
   "metadata": {}
  },
  {
   "cell_type": "code",
   "execution_count": 14,
   "source": [
    "print(p1)"
   ],
   "outputs": [
    {
     "output_type": "stream",
     "name": "stdout",
     "text": [
      "[1.68037999e-03 1.68037999e-03 1.68037999e-03 1.68037999e-03\n",
      " 1.68037999e+00 1.68037999e+00 1.68037999e+00 1.68037999e+00]\n"
     ]
    }
   ],
   "metadata": {}
  },
  {
   "cell_type": "markdown",
   "source": [
    "## Fermi-Dirac distr. shape"
   ],
   "metadata": {}
  },
  {
   "cell_type": "code",
   "execution_count": 12,
   "source": [
    "FDvals = fct.Fermi_Dirac(p0)\n",
    "\n",
    "plt.plot(p0, FDvals)"
   ],
   "outputs": [
    {
     "output_type": "stream",
     "name": "stderr",
     "text": [
      "/home/fabian/my_github_projects/neutrino_clustering/shared/functions.py:243: RuntimeWarning: overflow encountered in exp\n",
      "  f_of_p = 1 / (np.exp(arg_of_exp.value) + 1)\n"
     ]
    },
    {
     "output_type": "execute_result",
     "data": {
      "text/plain": [
       "[<matplotlib.lines.Line2D at 0x7f08db199f10>]"
      ]
     },
     "metadata": {},
     "execution_count": 12
    },
    {
     "output_type": "display_data",
     "data": {
      "image/png": "[encoded data removed]",
      "text/plain": [
       "<Figure size 432x288 with 1 Axes>"
      ]
     },
     "metadata": {
      "needs_background": "light"
     }
    }
   ],
   "metadata": {}
  }
 ],
 "metadata": {
  "orig_nbformat": 4,
  "language_info": {
   "name": "python",
   "version": "3.9.6",
   "mimetype": "text/x-python",
   "codemirror_mode": {
    "name": "ipython",
    "version": 3
   },
   "pygments_lexer": "ipython3",
   "nbconvert_exporter": "python",
   "file_extension": ".py"
  },
  "kernelspec": {
   "name": "python3",
   "display_name": "Python 3.9.6 64-bit ('neutrino_clustering': conda)"
  },
  "interpreter": {
   "hash": "8c0def98e6b0bb9f826d57e847492ca76b753d991a53b1939cd592f1cdabf009"
  }
 },
 "nbformat": 4,
 "nbformat_minor": 2
}