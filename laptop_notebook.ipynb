{
 "cells": [
  {
   "cell_type": "code",
   "execution_count": 1,
   "source": [
    "from shared.preface import *"
   ],
   "outputs": [],
   "metadata": {}
  },
  {
   "cell_type": "code",
   "execution_count": 14,
   "source": [
    "# E_kin = 1/2 m v**2\n",
    "\n",
    "m_nu = 0.05 * 1.782e-36 * unit.kg\n",
    "E_kin = 1e-4 * unit.eV\n",
    "\n",
    "v = np.sqrt(2*E_kin.to(unit.J)/m_nu)\n",
    "v_km = v.to(unit.km/unit.s)\n",
    "v_m = v.to(unit.m/unit.s)\n",
    "print(v_km)\n",
    "\n",
    "print(v_m/const.c)"
   ],
   "outputs": [
    {
     "output_type": "stream",
     "name": "stdout",
     "text": [
      "18964.06095963647 km / s\n",
      "0.06325729835283737\n"
     ]
    }
   ],
   "metadata": {}
  },
  {
   "cell_type": "code",
   "execution_count": 18,
   "source": [
    "z = 0\n",
    "\n",
    "v_mean = 160*(1+z)/(0.05) \n",
    "\n",
    "print(v_mean)"
   ],
   "outputs": [
    {
     "output_type": "stream",
     "name": "stdout",
     "text": [
      "3200.0\n"
     ]
    }
   ],
   "metadata": {}
  }
 ],
 "metadata": {
  "interpreter": {
   "hash": "26dad908839851da3b3d4a35934b2073ef407efc52e6975da86f3e2ae72f3956"
  },
  "kernelspec": {
   "name": "python3",
   "display_name": "Python 3.9.7 64-bit ('neutrino_clustering': conda)"
  },
  "language_info": {
   "name": "python",
   "version": "3.9.7",
   "mimetype": "text/x-python",
   "codemirror_mode": {
    "name": "ipython",
    "version": 3
   },
   "pygments_lexer": "ipython3",
   "nbconvert_exporter": "python",
   "file_extension": ".py"
  },
  "orig_nbformat": 4
 },
 "nbformat": 4,
 "nbformat_minor": 2
}