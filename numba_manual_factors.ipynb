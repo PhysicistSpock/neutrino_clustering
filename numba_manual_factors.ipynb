{
 "cells": [
  {
   "cell_type": "code",
   "execution_count": 1,
   "metadata": {},
   "outputs": [],
   "source": [
    "from shared.preface import *\n",
    "import shared.my_units as my\n",
    "import shared.functions as fct\n",
    "import shared.control_center as CC"
   ]
  },
  {
   "cell_type": "markdown",
   "metadata": {},
   "source": [
    "## Manual Conversion factors."
   ]
  },
  {
   "cell_type": "markdown",
   "metadata": {},
   "source": [
    "### -> solMass / kpc3"
   ]
  },
  {
   "cell_type": "code",
   "execution_count": null,
   "metadata": {},
   "outputs": [],
   "source": [
    "z=3\n",
    "H_squared = my.H0**2. * (my.Omega_m0*(1.+z)**3. + my.Omega_L0) \n",
    "rho_crit = 3.*H_squared / (8.*np.pi*const.G)\n",
    "\n",
    "print(rho_crit)\n",
    "\n",
    "in_units = rho_crit.to(unit.M_sun/unit.kpc**3.)\n",
    "print(in_units)\n",
    "\n",
    "cf = (rho_crit/in_units).value\n",
    "print(cf)\n",
    "\n",
    "print(rho_crit.value/cf)"
   ]
  },
  {
   "cell_type": "markdown",
   "metadata": {},
   "source": [
    "### -> kpc / s2"
   ]
  },
  {
   "cell_type": "code",
   "execution_count": null,
   "metadata": {},
   "outputs": [],
   "source": [
    "ratio1, ratio2, ratio3 = 3., 2., 1.\n",
    "x_i = 8.5*unit.kpc \n",
    "r = 8.5*unit.kpc\n",
    "prefactor = 4.*np.pi*const.G*my.rho0_NFW*(200*unit.kpc)**2.*np.abs(x_i)/r**2.\n",
    "term1 = np.log(1.+ratio1) / ratio2\n",
    "term2 = ratio3 / (1.+ratio1)\n",
    "derivative_vector = prefactor * (term1 - term2)\n",
    "\n",
    "print(derivative_vector)\n",
    "\n",
    "in_rightUnits = derivative_vector.to(unit.kpc/unit.s**2.)\n",
    "print(in_rightUnits)\n",
    "\n",
    "cf2 = (derivative_vector/in_rightUnits).value\n",
    "\n",
    "print(cf2)\n",
    "print(derivative_vector.value/cf2)"
   ]
  }
 ],
 "metadata": {
  "interpreter": {
   "hash": "dacf62ba90b6f65c67adc0503daf6f27b8256a0651a0a92bdfd8a6d2d39d3b30"
  },
  "kernelspec": {
   "display_name": "Python 3.9.7 64-bit ('neutrino_clustering_pytorch': conda)",
   "language": "python",
   "name": "python3"
  },
  "language_info": {
   "codemirror_mode": {
    "name": "ipython",
    "version": 3
   },
   "file_extension": ".py",
   "mimetype": "text/x-python",
   "name": "python",
   "nbconvert_exporter": "python",
   "pygments_lexer": "ipython3",
   "version": "3.9.7"
  },
  "orig_nbformat": 4
 },
 "nbformat": 4,
 "nbformat_minor": 2
}
