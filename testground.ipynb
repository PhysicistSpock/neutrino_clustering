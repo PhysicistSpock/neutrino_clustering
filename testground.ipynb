{
 "cells": [
  {
   "cell_type": "code",
   "execution_count": 1,
   "metadata": {},
   "outputs": [],
   "source": [
    "from shared.preface import *\n",
    "import shared.functions as fct\n",
    "import shared.my_units as my\n",
    "import shared.control_center as CC\n"
   ]
  },
  {
   "cell_type": "markdown",
   "metadata": {},
   "source": [
    "## Convert from momentum to velocity limits and back"
   ]
  },
  {
   "cell_type": "code",
   "execution_count": 2,
   "metadata": {},
   "outputs": [
    {
     "name": "stdout",
     "output_type": "stream",
     "text": [
      "10.075304928248277 km / s 10075.304928248277 km / s\n",
      "0.002 2.0\n",
      "10.075304928248277 km / s 10075.304928248277 km / s\n",
      "0.01 10.0\n",
      "10.075304928248277 km / s 10075.304928248277 km / s\n",
      "0.02 20.0\n",
      "10.075304928248277 km / s 10075.304928248277 km / s\n",
      "0.06 60.0\n"
     ]
    }
   ],
   "source": [
    "masses_eV = np.array([0.01,0.05,0.1,0.3])*unit.eV\n",
    "masses_kg = masses_eV.to(unit.kg, unit.mass_energy())\n",
    "for m_kg, m_eV in zip(masses_kg, masses_eV):\n",
    "\n",
    "    ### Convert forwards\n",
    "\n",
    "    # Conversion factor for limits.\n",
    "    cf = my.T_nu_eV.to(unit.J) / CC.NU_MASS_KG / const.c\n",
    "\n",
    "    # Limits on velocity.\n",
    "    lower = CC.LOWER * cf.to(my.Uunit)\n",
    "    upper = CC.UPPER * cf.to(my.Uunit)\n",
    "\n",
    "    Uunit = unit.km/unit.s\n",
    "    km_low, km_up = lower.to(Uunit), upper.to(Uunit) \n",
    "    print(km_low, km_up)\n",
    "\n",
    "\n",
    "    ### Convert backwards\n",
    "\n",
    "    p_low, y_low = fct.u_to_p_eV(lower.value, m_eV)\n",
    "    p_upp, y_upp = fct.u_to_p_eV(upper.value, m_eV)\n",
    "\n",
    "    print(np.round(y_low, 4), np.round(y_upp, 1))"
   ]
  },
  {
   "cell_type": "code",
   "execution_count": 3,
   "metadata": {},
   "outputs": [
    {
     "name": "stdout",
     "output_type": "stream",
     "text": [
      "10.0 eV 0.1 eV 100.0 eV\n",
      "(10000, 300) (10000, 300)\n",
      "0.010000000000000002 10.000000000000004\n",
      "0.025381983030971077 9.999162488547155\n"
     ]
    },
    {
     "data": {
      "image/png": "[encoded data removed]",
      "text/plain": [
       "<Figure size 432x288 with 1 Axes>"
      ]
     },
     "metadata": {
      "needs_background": "light"
     },
     "output_type": "display_data"
    }
   ],
   "source": [
    "masses_eV = np.array([0.01,0.05,0.1,0.3])*unit.eV\n",
    "\n",
    "u_all = fct.load_u_sim()\n",
    "\n",
    "choice = masses_eV[2]\n",
    "ratio = choice/CC.NU_MASS.value\n",
    "print(ratio, ratio*CC.LOWER, ratio*CC.UPPER)\n",
    "p, y = fct.u_to_p_eV(u_all, choice)\n",
    "x = np.arange(CC.NR_OF_NEUTRINOS)\n",
    "print(p.shape, y.shape)\n",
    "all_p0 = p[:,0]\n",
    "ind = all_p0.argsort()\n",
    "all_p0_sort = all_p0[ind]\n",
    "\n",
    "y0 = y[:,0][ind]\n",
    "y1 = y[:,-1][ind]\n",
    "print(y0[0], y0[-1])\n",
    "print(y1[0], y1[-1])\n",
    "\n",
    "plt.semilogy(x, y0)\n",
    "plt.semilogy(x, y1, alpha=0.6)\n",
    "plt.axhline(1e0, c='r', ls=':')\n",
    "# plt.axhline(3.15, c='r', ls='-')\n",
    "plt.show()\n",
    "\n",
    "\n",
    "# print(all_p0_sort.shape)\n",
    "# plt.semilogy(x,all_p0_sort)\n",
    "# plt.show()"
   ]
  },
  {
   "cell_type": "code",
   "execution_count": null,
   "metadata": {},
   "outputs": [],
   "source": [
    "zeds = CC.ZEDS\n",
    "print(len(zeds))\n",
    "ss = np.array([fct.s_of_z(z) for z in zeds])# * my.H0.to(unit.s**-1).value\n",
    "\n",
    "s_new = (ss[0] + ss[1])/2\n",
    "\n",
    "f = interp1d(ss, zeds, kind='linear', assume_sorted=True)\n",
    "\n",
    "z_new = f(s_new)\n",
    "if zeds[0] < z_new < zeds[1]:\n",
    "    print(z_new)\n"
   ]
  },
  {
   "cell_type": "markdown",
   "metadata": {},
   "source": [
    "## Sorting logic for ndim arrays"
   ]
  },
  {
   "cell_type": "code",
   "execution_count": null,
   "metadata": {},
   "outputs": [],
   "source": [
    "x = np.array([[4, 6, 5], [2, 1, 0], [1,6,5]])\n",
    "y = np.array([[0, 1, 5], [2, 4, 0], [7,6,5]])\n",
    "\n",
    "ind = x[:, 0].argsort()\n",
    "\n",
    "x_sort = x[ind]\n",
    "y_sort = y[ind]\n",
    "\n",
    "print(x_sort)\n",
    "print(y_sort)\n",
    "\n"
   ]
  },
  {
   "cell_type": "markdown",
   "metadata": {},
   "source": [
    "# Various tests on individual functions"
   ]
  },
  {
   "cell_type": "markdown",
   "metadata": {},
   "source": [
    "## Number integral"
   ]
  },
  {
   "cell_type": "code",
   "execution_count": null,
   "metadata": {},
   "outputs": [],
   "source": [
    "FDarr = np.array([0.3,0.4,0.1,0.01])\n",
    "p_arr = np.array([0.2, 0.1, 5., 8.]) * my.T_nu_eV.value\n",
    "\n",
    "order = p_arr.argsort()\n",
    "p_sort, FD_sort = p_arr[order], FDarr[order]\n",
    "# print(p_sort, FD_sort)\n",
    "\n",
    "n_int = np.trapz(p_sort**2 * FD_sort, p_sort)\n",
    "print(n_int)\n",
    "\n",
    "n_sum = np.sum(p_sort**2 * FD_sort)\n",
    "print(n_sum)"
   ]
  },
  {
   "cell_type": "markdown",
   "metadata": {},
   "source": [
    "## Integral for cosmic time"
   ]
  },
  {
   "cell_type": "code",
   "execution_count": null,
   "metadata": {},
   "outputs": [],
   "source": [
    "def t_integrand_a(a):\n",
    "\n",
    "    # original H0 in units ~[1/s], we only need the value\n",
    "    H0 = my.H0.to(unit.s**-1).value\n",
    "\n",
    "    a_dot = np.sqrt(my.Omega_m0/a**3 + my.Omega_L0)*H0*a\n",
    "    t_int = 1/a_dot\n",
    "\n",
    "    return t_int\n",
    "\n",
    "t, err = quad(t_integrand_a, 0, 1)\n",
    "t_uni, err_uni = (t*unit.s).to(unit.Gyr), (err*unit.s).to(unit.Gyr)\n",
    "print(t_uni, err_uni)"
   ]
  },
  {
   "cell_type": "code",
   "execution_count": null,
   "metadata": {},
   "outputs": [],
   "source": [
    "def t_integrand_z(z):\n",
    "\n",
    "    # original H0 in units ~[1/s], we only need the value\n",
    "    H0 = my.H0.to(unit.s**-1).value\n",
    "\n",
    "    a_dot = np.sqrt(my.Omega_m0*(1+z)**3 + my.Omega_L0)*H0*(1+z)\n",
    "    t_int = 1/a_dot\n",
    "\n",
    "    return t_int\n",
    "\n",
    "t, err = quad(t_integrand_z, 0, np.inf)\n",
    "t_uni, err_uni = (t*unit.s).to(unit.Gyr), (err*unit.s).to(unit.Gyr)\n",
    "print(t_uni, err_uni)"
   ]
  },
  {
   "cell_type": "markdown",
   "metadata": {},
   "source": [
    "## Initial velocity limits"
   ]
  },
  {
   "cell_type": "code",
   "execution_count": null,
   "metadata": {},
   "outputs": [],
   "source": [
    "m_sim_eV = 0.05*unit.eV\n",
    "low_kpc, upp_kpc = fct.velocity_limits_of_m_nu(0.01, 10., m_sim_eV, mode='kpc/s')\n",
    "print(low_kpc,upp_kpc)\n",
    "\n",
    "m_sim_eV = 0.05*unit.eV\n",
    "low_km, upp_km = fct.velocity_limits_of_m_nu(0.01, 10., m_sim_eV, mode='km/s')\n",
    "print(low_km,upp_km)"
   ]
  },
  {
   "cell_type": "markdown",
   "metadata": {},
   "source": [
    "## Simulated velocities in [kpc/s] to momenta in [eV] for any (neutrino) mass"
   ]
  },
  {
   "cell_type": "code",
   "execution_count": null,
   "metadata": {},
   "outputs": [],
   "source": [
    "u_sim = np.load(f'neutrino_vectors/nu_2.npy')[-1,3:6]\n",
    "m_sim_eV = 0.05*unit.eV\n",
    "m_target_eV = 0.05*unit.eV\n",
    "\n",
    "p, y = fct.u_to_p_eV(u_sim, m_sim_eV, m_target_eV)\n",
    "print(p, y)"
   ]
  },
  {
   "cell_type": "markdown",
   "metadata": {},
   "source": [
    "## 1/hc to cm^-1/eV"
   ]
  },
  {
   "cell_type": "code",
   "execution_count": null,
   "metadata": {},
   "outputs": [],
   "source": [
    "hc_neg1 = (1/const.h/const.c).to(1/unit.cm/unit.eV)\n",
    "print(hc_neg1)\n",
    "\n",
    "n_cm3 = 1*unit.eV**3 * hc_neg1**3\n",
    "print(n_cm3)"
   ]
  },
  {
   "cell_type": "markdown",
   "metadata": {},
   "source": [
    "## Beta factor"
   ]
  },
  {
   "cell_type": "code",
   "execution_count": null,
   "metadata": {},
   "outputs": [],
   "source": [
    "def c_vir_avg(z, M_vir):\n",
    "    # Functions from Mertsch et al. (2020), eqns. (12) and (13) in ref. [40].\n",
    "    a_of_z = 0.537 + (0.488)*np.exp(-0.718*np.power(z, 1.08))\n",
    "    b_of_z = -0.097 + 0.024*z\n",
    "\n",
    "    # Argument in log has to be dimensionless\n",
    "    arg_in_log = (M_vir / (1.e12 / my.h * unit.M_sun)).value\n",
    "\n",
    "    # Calculate avergae c_vir\n",
    "    c_vir_avg = np.power(a_of_z + b_of_z*np.log10(arg_in_log), 10.)\n",
    "\n",
    "    return c_vir_avg\n",
    "\n",
    "# Beta is then obtained from c_vir_avg(0, M_vir) and c_vir(0, M_vir).\n",
    "beta = (333.5/19.9) / c_vir_avg(0, my.Mvir_NFW)\n",
    "print(beta)"
   ]
  },
  {
   "cell_type": "markdown",
   "metadata": {},
   "source": [
    "## Table 1"
   ]
  },
  {
   "cell_type": "code",
   "execution_count": null,
   "metadata": {},
   "outputs": [],
   "source": [
    "# Tests for c_vir and the beta coefficient\n",
    "\n",
    "cis = fct.c_vir(0, my.Mvir_NFW)\n",
    "cis1 = fct.c_vir(4, my.Mvir_NFW)\n",
    "print(cis, cis1)"
   ]
  },
  {
   "cell_type": "code",
   "execution_count": null,
   "metadata": {},
   "outputs": [],
   "source": [
    "z_test = 4\n",
    "print('R_vir:', fct.R_vir(z_test, my.Mvir_NFW))\n",
    "print('scale_radius:', fct.scale_radius(z_test, my.Mvir_NFW))"
   ]
  },
  {
   "cell_type": "markdown",
   "metadata": {},
   "source": [
    "## Critical Density"
   ]
  },
  {
   "cell_type": "code",
   "execution_count": null,
   "metadata": {},
   "outputs": [],
   "source": [
    "crit = fct.rho_crit(0)\n",
    "print('Check if this matches critical density of universe today:')\n",
    "print(crit)"
   ]
  },
  {
   "cell_type": "markdown",
   "metadata": {},
   "source": [
    "## Unit Conversion Tests"
   ]
  },
  {
   "cell_type": "code",
   "execution_count": null,
   "metadata": {},
   "outputs": [],
   "source": [
    "print(my.T_nu.to(unit.eV, unit.temperature_energy()))"
   ]
  },
  {
   "cell_type": "markdown",
   "metadata": {},
   "source": [
    "## Derivative vector values"
   ]
  },
  {
   "cell_type": "code",
   "execution_count": null,
   "metadata": {},
   "outputs": [],
   "source": [
    "z = 0\n",
    "x_i = np.array([8.5,0.,0.])*unit.kpc\n",
    "\n",
    "t2 = fct.dPsi_dxi_NFW(x_i, z, my.rho0_NFW, my.Mvir_NFW)\n",
    "print(type(t2), t2)"
   ]
  },
  {
   "cell_type": "markdown",
   "metadata": {},
   "source": [
    "## Time Variable s"
   ]
  },
  {
   "cell_type": "code",
   "execution_count": null,
   "metadata": {},
   "outputs": [],
   "source": [
    "s = fct.s_of_z(4)\n",
    "print('Value of time variable s in seconds at redhshift 4','\\n', s)\n",
    "\n",
    "h_s = my.H0.to(1/unit.s)\n",
    "print('Age of universe in seconds:','\\n', 1/h_s)"
   ]
  },
  {
   "cell_type": "code",
   "execution_count": null,
   "metadata": {},
   "outputs": [],
   "source": [
    "s = fct.s_of_z(4)\n",
    "print('Value of time variable s in seconds at redhshift 4','\\n', s)\n",
    "\n",
    "h_s = my.H0.to(1/unit.s)\n",
    "print('Age of universe in seconds:','\\n', 1/h_s)"
   ]
  },
  {
   "cell_type": "markdown",
   "metadata": {},
   "source": [
    "## Initial Velocities"
   ]
  },
  {
   "cell_type": "code",
   "execution_count": null,
   "metadata": {},
   "outputs": [],
   "source": [
    "from backtracing_numba import draw_ui\n",
    "\n",
    "# Draw initial velocities.\n",
    "ui = draw_ui(CC.PHIs, CC.THETAs, CC.Vs)*my.Uunit\n",
    "ui = ui.to(unit.km/unit.s).value\n",
    "\n",
    "ux = ui[:,0]\n",
    "uy = ui[:,1]\n",
    "uz = ui[:,2]\n",
    "\n",
    "x = np.arange(len(ux))\n",
    "y = np.arange(len(uy))\n",
    "z = np.arange(len(uz))\n",
    "\n",
    "plt.plot(x, ux, label='x-axis', )\n",
    "plt.plot(y, uy, label='y-axis', )\n",
    "plt.plot(z, uz, label='z-axis', alpha=0.5)\n",
    "plt.title(f'Initial Velocities - {CC.NR_OF_NEUTRINOS} neutrinos')\n",
    "plt.xlabel('Neutrino number')\n",
    "plt.ylabel('Velocity w.r.t. axis in [km/s]')\n",
    "plt.legend()\n",
    "plt.savefig('check_plots/initial_velocities.pdf')"
   ]
  },
  {
   "cell_type": "markdown",
   "metadata": {},
   "source": [
    "## Simpy derivative"
   ]
  },
  {
   "cell_type": "markdown",
   "metadata": {},
   "source": [
    "## Redshift array for integration steps"
   ]
  },
  {
   "cell_type": "code",
   "execution_count": null,
   "metadata": {},
   "outputs": [],
   "source": [
    "# OLD\n",
    "'''\n",
    "zeds_test = CC.ZEDS\n",
    "print(len(zeds_test))\n",
    "print(zeds_test[0], zeds_test[-1])\n",
    "\n",
    "plt.scatter(zeds_test, zeds_test, s=1)\n",
    "plt.show()\n",
    "'''\n",
    "\n",
    "Z_START, Z_STOP, Z_AMOUNT = 0., 4., 199\n",
    "Z_START_LOG = 1e-1\n",
    "zeds_pre = np.geomspace(Z_START_LOG, Z_STOP, Z_AMOUNT) - Z_START_LOG\n",
    "ZEDS = np.insert(zeds_pre, len(zeds_pre), 4.)\n",
    "\n",
    "z_early = np.linspace(0,2,200)\n",
    "z_late = np.linspace(2.01,4,100)\n",
    "\n",
    "zeds_test = np.concatenate((z_early, z_late))\n",
    "print(len(zeds_test), zeds_test.shape)\n",
    "print(zeds_test[0], zeds_test[-1])\n",
    "\n",
    "plt.scatter(zeds_test, zeds_test, s=1)\n",
    "plt.show()"
   ]
  },
  {
   "cell_type": "markdown",
   "metadata": {},
   "source": [
    "## Faking double amount of particles to test integral"
   ]
  },
  {
   "cell_type": "code",
   "execution_count": null,
   "metadata": {},
   "outputs": [],
   "source": [
    "# Read in neutrino vectors.\n",
    "Ns = np.arange(CC.NR_OF_NEUTRINOS, dtype=int)  # Nr. of neutrinos\n",
    "sim = np.array([np.load(f'neutrino_vectors/nu_{Nr+1}.npy') for Nr in Ns])\n",
    "\n",
    "sim_fake = np.copy(sim)\n",
    "\n",
    "for i, fake_arr in enumerate(sim_fake):\n",
    "    np.save(f'neutrino_vectors/nu_{i+1+CC.NR_OF_NEUTRINOS}.npy', fake_arr)"
   ]
  },
  {
   "cell_type": "markdown",
   "metadata": {},
   "source": [
    "## Shape of derivative for different redshifts"
   ]
  },
  {
   "cell_type": "code",
   "execution_count": null,
   "metadata": {},
   "outputs": [],
   "source": [
    "z_arr = np.array([0.1,0.5,2,4.])\n",
    "r = np.linspace(1,1000,100)*unit.kpc\n",
    "\n",
    "fig, axs = plt.subplots(2,2, figsize=(12,10))\n",
    "fig.suptitle('Shape of derivative', fontsize=18)\n",
    "\n",
    "for j, z in enumerate(z_arr):\n",
    "\n",
    "    # Compute values dependent on redshift.\n",
    "    r_vir = fct.R_vir(z, my.Mvir_NFW)\n",
    "    r_s = r_vir / fct.c_vir(z, my.Mvir_NFW)\n",
    "\n",
    "    m = np.minimum(r, r_vir)\n",
    "    M = np.maximum(r, r_vir)\n",
    "\n",
    "    #! Ratios has to be unitless (e.g. else np.log yields 0.).\n",
    "    ratio1 = (m/r_s).value\n",
    "    ratio2 = (r/r_s).value\n",
    "    ratio3 = (r_vir/M).value\n",
    "\n",
    "    # Derivative in compact notation with m and M (without x_i).\n",
    "    prefactor = 4.*np.pi*const.G*my.rho0_NFW*r_s**2./r**2.*(1*unit.kpc)\n",
    "    term1 = np.log(1.+ratio1) / ratio2\n",
    "    term2 = ratio3 / (1.+ratio1)\n",
    "    derivative_vector = (prefactor * (term1 - term2)).to(unit.kpc/unit.s**2.)\n",
    "\n",
    "    if np.any(derivative_vector.value) < 0.:\n",
    "        print('neg. derivative!')\n",
    "\n",
    "    i = 0\n",
    "    if j in (2,3):\n",
    "        i = 1\n",
    "        j -= 2\n",
    "\n",
    "    axs[i,j].plot(r, derivative_vector)\n",
    "    axs[i,j].set_title(f'Redshift {z}')\n",
    "    axs[i,j].set_xlabel('r')\n",
    "    axs[i,j].set_ylabel('derivative')\n"
   ]
  },
  {
   "cell_type": "markdown",
   "metadata": {},
   "source": [
    "## Fermi-Dirac distr. in Ringwald & Wong (2004)"
   ]
  },
  {
   "cell_type": "code",
   "execution_count": null,
   "metadata": {},
   "outputs": [],
   "source": [
    "def Fermi_Dirac_Ringwald_and_Wong(p):\n",
    "    # Plug into Fermi-Dirac distribution \n",
    "    arg_of_exp = (p/my.T_nu_eV).value\n",
    "    f_of_p = expit(-arg_of_exp)\n",
    "\n",
    "    return f_of_p\n",
    "\n",
    "# Original Fermi-Dirac distr.\n",
    "pOG = np.geomspace(0.01*my.T_nu_eV, 13*my.T_nu_eV, CC.NR_OF_NEUTRINOS)\n",
    "FDvalsOG = Fermi_Dirac_Ringwald_and_Wong(pOG)\n",
    "yOG = pOG/my.T_nu_eV.value\n",
    "\n",
    "plt.loglog(yOG, FDvalsOG, label='Fermi-Dirac')\n",
    "plt.title('Fermi-Dirac distr. of initial momentum')\n",
    "plt.ylabel('f(y)')\n",
    "plt.xlabel('y=p/T_nu')\n",
    "plt.legend(loc='lower left')\n",
    "plt.savefig('check_plots/FDdistr_RingwaldWong.pdf')"
   ]
  }
 ],
 "metadata": {
  "interpreter": {
   "hash": "dacf62ba90b6f65c67adc0503daf6f27b8256a0651a0a92bdfd8a6d2d39d3b30"
  },
  "kernelspec": {
   "display_name": "Python 3.9.7 64-bit ('neutrino_clustering_pytorch': conda)",
   "name": "python3"
  },
  "language_info": {
   "codemirror_mode": {
    "name": "ipython",
    "version": 3
   },
   "file_extension": ".py",
   "mimetype": "text/x-python",
   "name": "python",
   "nbconvert_exporter": "python",
   "pygments_lexer": "ipython3",
   "version": "3.9.7"
  },
  "orig_nbformat": 4
 },
 "nbformat": 4,
 "nbformat_minor": 2
}
