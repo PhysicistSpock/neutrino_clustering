{
 "cells": [
  {
   "cell_type": "code",
   "execution_count": 1,
   "metadata": {},
   "outputs": [],
   "source": [
    "from shared.preface import *\n",
    "import shared.functions as fct\n",
    "import shared.my_units as my\n",
    "import shared.control_center as CC"
   ]
  },
  {
   "cell_type": "code",
   "execution_count": 2,
   "metadata": {},
   "outputs": [
    {
     "name": "stdout",
     "output_type": "stream",
     "text": [
      "14.928729169804287\n",
      "14.928729169804287\n",
      "16.758793969849247 0.04258828167400367\n"
     ]
    }
   ],
   "source": [
    "cis = fct.c_vir(0, my.Mvir_NFW)\n",
    "cis1 = fct.c_vir(4, my.Mvir_NFW)\n",
    "print(cis, cis1)"
   ]
  },
  {
   "cell_type": "markdown",
   "metadata": {},
   "source": [
    "# Various tests on individual functions"
   ]
  },
  {
   "cell_type": "markdown",
   "metadata": {},
   "source": [
    "## Number integral"
   ]
  },
  {
   "cell_type": "code",
   "execution_count": null,
   "metadata": {},
   "outputs": [],
   "source": [
    "FDarr = np.array([0.3,0.4,0.1,0.01])\n",
    "p_arr = np.array([0.2, 0.1, 5., 8.]) * my.T_nu_eV.value\n",
    "\n",
    "order = p_arr.argsort()\n",
    "p_sort, FD_sort = p_arr[order], FDarr[order]\n",
    "# print(p_sort, FD_sort)\n",
    "\n",
    "n_int = np.trapz(p_sort**2 * FD_sort, p_sort)\n",
    "print(n_int)\n",
    "\n",
    "n_sum = np.sum(p_sort**2 * FD_sort)\n",
    "print(n_sum)"
   ]
  },
  {
   "cell_type": "markdown",
   "metadata": {},
   "source": [
    "## Integral for cosmic time"
   ]
  },
  {
   "cell_type": "code",
   "execution_count": null,
   "metadata": {},
   "outputs": [],
   "source": [
    "def t_integrand_a(a):\n",
    "\n",
    "    # original H0 in units ~[1/s], we only need the value\n",
    "    H0 = my.H0.to(unit.s**-1).value\n",
    "\n",
    "    a_dot = np.sqrt(my.Omega_m0/a**3 + my.Omega_L0)*H0*a\n",
    "    t_int = 1/a_dot\n",
    "\n",
    "    return t_int\n",
    "\n",
    "t, err = quad(t_integrand_a, 0, 1)\n",
    "t_uni, err_uni = (t*unit.s).to(unit.Gyr), (err*unit.s).to(unit.Gyr)\n",
    "print(t_uni, err_uni)"
   ]
  },
  {
   "cell_type": "code",
   "execution_count": null,
   "metadata": {},
   "outputs": [],
   "source": [
    "def t_integrand_z(z):\n",
    "\n",
    "    # original H0 in units ~[1/s], we only need the value\n",
    "    H0 = my.H0.to(unit.s**-1).value\n",
    "\n",
    "    a_dot = np.sqrt(my.Omega_m0*(1+z)**3 + my.Omega_L0)*H0*(1+z)\n",
    "    t_int = 1/a_dot\n",
    "\n",
    "    return t_int\n",
    "\n",
    "t, err = quad(t_integrand_z, 0, np.inf)\n",
    "t_uni, err_uni = (t*unit.s).to(unit.Gyr), (err*unit.s).to(unit.Gyr)\n",
    "print(t_uni, err_uni)"
   ]
  },
  {
   "cell_type": "markdown",
   "metadata": {},
   "source": [
    "## Initial velocity limits"
   ]
  },
  {
   "cell_type": "code",
   "execution_count": null,
   "metadata": {},
   "outputs": [],
   "source": [
    "m_sim_eV = 0.05*unit.eV\n",
    "low_kpc, upp_kpc = fct.velocity_limits_of_m_nu(0.01, 10., m_sim_eV, mode='kpc/s')\n",
    "print(low_kpc,upp_kpc)\n",
    "\n",
    "m_sim_eV = 0.05*unit.eV\n",
    "low_km, upp_km = fct.velocity_limits_of_m_nu(0.01, 10., m_sim_eV, mode='km/s')\n",
    "print(low_km,upp_km)"
   ]
  },
  {
   "cell_type": "markdown",
   "metadata": {},
   "source": [
    "## Simulated velocities in [kpc/s] to momenta in [eV] for any (neutrino) mass"
   ]
  },
  {
   "cell_type": "code",
   "execution_count": null,
   "metadata": {},
   "outputs": [],
   "source": [
    "u_sim = np.load(f'neutrino_vectors/nu_4586.npy')[-1,3:6]\n",
    "m_sim_eV = 0.05*unit.eV\n",
    "m_target_eV = 0.05*unit.eV\n",
    "\n",
    "p, y = fct.u_to_p_eV(u_sim, m_sim_eV, m_target_eV)\n",
    "print(p, y)"
   ]
  },
  {
   "cell_type": "markdown",
   "metadata": {},
   "source": [
    "## 1/hc to cm^-1/eV"
   ]
  },
  {
   "cell_type": "code",
   "execution_count": null,
   "metadata": {},
   "outputs": [],
   "source": [
    "hc_neg1 = (1/const.h/const.c).to(1/unit.cm/unit.eV)\n",
    "print(hc_neg1)"
   ]
  },
  {
   "cell_type": "markdown",
   "metadata": {},
   "source": [
    "## Table 1"
   ]
  },
  {
   "cell_type": "code",
   "execution_count": 6,
   "metadata": {},
   "outputs": [
    {
     "name": "stdout",
     "output_type": "stream",
     "text": [
      "R_vir: 81.78036756845792 kpc\n",
      "14.928729169804287\n",
      "scale_radius: 1920.255158319231 kpc\n"
     ]
    }
   ],
   "source": [
    "z_test = 4\n",
    "print('R_vir:', fct.R_vir(z_test, my.Mvir_NFW))\n",
    "print('scale_radius:', fct.scale_radius(z_test, my.Mvir_NFW))"
   ]
  },
  {
   "cell_type": "markdown",
   "metadata": {},
   "source": [
    "## Critical Density"
   ]
  },
  {
   "cell_type": "code",
   "execution_count": null,
   "metadata": {},
   "outputs": [],
   "source": [
    "crit = fct.rho_crit(0)\n",
    "print('Check if this matches critical density of universe today:')\n",
    "print(crit.to(unit.kg/unit.m**3))"
   ]
  },
  {
   "cell_type": "markdown",
   "metadata": {},
   "source": [
    "## Unit Conversion Tests"
   ]
  },
  {
   "cell_type": "code",
   "execution_count": null,
   "metadata": {},
   "outputs": [],
   "source": [
    "print(my.T_nu.to(unit.eV, unit.temperature_energy()))"
   ]
  },
  {
   "cell_type": "markdown",
   "metadata": {},
   "source": [
    "## Derivative vector values"
   ]
  },
  {
   "cell_type": "code",
   "execution_count": null,
   "metadata": {},
   "outputs": [],
   "source": [
    "z = 0\n",
    "x_i = np.array([8.5,0.,0.])*unit.kpc\n",
    "\n",
    "t2 = fct.dPsi_dxi_NFW(x_i, z, my.rho0_NFW, my.Mvir_NFW)\n",
    "print(type(t2), t2)"
   ]
  },
  {
   "cell_type": "markdown",
   "metadata": {},
   "source": [
    "## Time Variable s"
   ]
  },
  {
   "cell_type": "code",
   "execution_count": null,
   "metadata": {},
   "outputs": [],
   "source": [
    "s = fct.s_of_z(4)\n",
    "print('Value of time variable s in seconds at redhshift 4','\\n', s)\n",
    "\n",
    "h_s = my.H0.to(1/unit.s)\n",
    "print('Age of universe in seconds:','\\n', 1/h_s)"
   ]
  },
  {
   "cell_type": "code",
   "execution_count": null,
   "metadata": {},
   "outputs": [],
   "source": [
    "s = fct.s_of_z(4)\n",
    "print('Value of time variable s in seconds at redhshift 4','\\n', s)\n",
    "\n",
    "h_s = my.H0.to(1/unit.s)\n",
    "print('Age of universe in seconds:','\\n', 1/h_s)"
   ]
  },
  {
   "cell_type": "markdown",
   "metadata": {},
   "source": [
    "## Plot for s and z relation"
   ]
  },
  {
   "cell_type": "code",
   "execution_count": null,
   "metadata": {},
   "outputs": [],
   "source": [
    "zeds = np.geomspace(1e-10, CC.Z_STOP, CC.Z_AMOUNT)\n",
    "\n",
    "ss = np.array([fct.s_of_z(z) for z in zeds]) * my.H0.to(unit.s**-1).value\n",
    "\n",
    "\n",
    "plt.semilogx(1+zeds, ss)\n",
    "plt.title('Shape of integral for s(z)')\n",
    "plt.xlabel('redshift')\n",
    "plt.ylabel('time variable s [1/H0]')\n",
    "plt.savefig('check_plots/s_of_z_integral.pdf')"
   ]
  },
  {
   "cell_type": "markdown",
   "metadata": {},
   "source": [
    "## Initial Velocities"
   ]
  },
  {
   "cell_type": "code",
   "execution_count": null,
   "metadata": {},
   "outputs": [],
   "source": [
    "from backtracing import draw_ui\n",
    "\n",
    "# Draw initial velocities.\n",
    "ui = draw_ui(CC.PHIs, CC.THETAs, CC.Vs)*my.Uunit\n",
    "ui = ui.to(unit.km/unit.s).value\n",
    "\n",
    "ux = ui[:,0]\n",
    "uy = ui[:,1]\n",
    "uz = ui[:,2]\n",
    "\n",
    "x = np.arange(len(ux))\n",
    "y = np.arange(len(uy))\n",
    "z = np.arange(len(uz))\n",
    "\n",
    "plt.plot(x, ux, label='x-axis', )\n",
    "plt.plot(y, uy, label='y-axis', )\n",
    "plt.plot(z, uz, label='z-axis', alpha=0.5)\n",
    "plt.title(f'Initial Velocities - {CC.NR_OF_NEUTRINOS} neutrinos')\n",
    "plt.xlabel('Neutrino number')\n",
    "plt.ylabel('Velocity w.r.t. axis in [km/s]')\n",
    "plt.legend()\n",
    "plt.savefig('check_plots/initial_velocities.pdf')"
   ]
  },
  {
   "cell_type": "markdown",
   "metadata": {},
   "source": [
    "## Simpy derivative"
   ]
  },
  {
   "cell_type": "code",
   "execution_count": null,
   "metadata": {},
   "outputs": [],
   "source": [
    "### This is for the whole expression as in eqn. (A.5) and using sympy\n",
    "\n",
    "# m = np.minimum(r0, r_vir)\n",
    "# M = np.maximum(r0, r_vir)\n",
    "\n",
    "# r = sympy.Symbol('r')\n",
    "\n",
    "# prefactor = -4*np.pi*unit.G*rho_0*r_s**2\n",
    "# term1 = np.log(1 + m/r_s) / (r/r_s)\n",
    "# term2 = r_vir/M / (1 + r_vir/r_s)\n",
    "# Psi = prefactor * (term1 - term2)\n",
    "\n",
    "## derivative w.r.t any axis x_i with chain rule\n",
    "# dPsi_dxi = sympy.diff(Psi, r) * x_i / r0\n",
    "\n",
    "## fill in r values\n",
    "# fill_in_r = sympy.lambdify(r, dPsi_dxi, 'numpy')\n",
    "# derivative_vector = fill_in_r(r0)"
   ]
  }
 ],
 "metadata": {
  "interpreter": {
   "hash": "8a0d5d0f2e48edd2cdf812a3eedd1dc78c628b894b9ae93ffd6b09cf9a60bf81"
  },
  "kernelspec": {
   "display_name": "Python 3.9.7 64-bit ('neutrino_clustering': conda)",
   "name": "python3"
  },
  "language_info": {
   "codemirror_mode": {
    "name": "ipython",
    "version": 3
   },
   "file_extension": ".py",
   "mimetype": "text/x-python",
   "name": "python",
   "nbconvert_exporter": "python",
   "pygments_lexer": "ipython3",
   "version": "3.9.7"
  },
  "orig_nbformat": 4
 },
 "nbformat": 4,
 "nbformat_minor": 2
}
