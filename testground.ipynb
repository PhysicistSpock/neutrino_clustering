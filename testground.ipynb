{
 "cells": [
  {
   "cell_type": "code",
   "execution_count": 1,
   "metadata": {},
   "outputs": [],
   "source": [
    "from shared.preface import *\n",
    "import shared.functions as fct\n",
    "import shared.my_units as my\n",
    "import shared.control_center as CC"
   ]
  },
  {
   "cell_type": "markdown",
   "metadata": {},
   "source": [
    "# Various tests on individual functions"
   ]
  },
  {
   "cell_type": "markdown",
   "metadata": {},
   "source": [
    "## Number integral"
   ]
  },
  {
   "cell_type": "code",
   "execution_count": 7,
   "metadata": {},
   "outputs": [
    {
     "name": "stdout",
     "output_type": "stream",
     "text": [
      "5.0957792630544584e-11\n",
      "8.911524289289443e-08\n"
     ]
    }
   ],
   "source": [
    "FDarr = np.array([0.3,0.4,0.1,0.01])\n",
    "p_arr = np.array([0.2, 0.1, 5., 8.]) * my.T_nu_eV.value\n",
    "\n",
    "order = p_arr.argsort()\n",
    "p_sort, FD_sort = p_arr[order], FDarr[order]\n",
    "# print(p_sort, FD_sort)\n",
    "\n",
    "n_int = np.trapz(p_sort**2 * FD_sort, p_sort)\n",
    "print(n_int)\n",
    "\n",
    "n_sum = np.sum(p_sort**2 * FD_sort)\n",
    "print(n_sum)"
   ]
  },
  {
   "cell_type": "markdown",
   "metadata": {},
   "source": [
    "## Integral for cosmic time"
   ]
  },
  {
   "cell_type": "code",
   "execution_count": 7,
   "metadata": {},
   "outputs": [
    {
     "name": "stdout",
     "output_type": "stream",
     "text": [
      "13.79150102640378 Gyr 2.0300656577179505e-12 Gyr\n"
     ]
    }
   ],
   "source": [
    "def t_integrand_a(a):\n",
    "\n",
    "    # original H0 in units ~[1/s], we only need the value\n",
    "    H0 = my.H0.to(unit.s**-1).value\n",
    "\n",
    "    a_dot = np.sqrt(my.Omega_m0/a**3 + my.Omega_L0)*H0*a\n",
    "    t_int = 1/a_dot\n",
    "\n",
    "    return t_int\n",
    "\n",
    "t, err = quad(t_integrand_a, 0, 1)\n",
    "t_uni, err_uni = (t*unit.s).to(unit.Gyr), (err*unit.s).to(unit.Gyr)\n",
    "print(t_uni, err_uni)"
   ]
  },
  {
   "cell_type": "code",
   "execution_count": 6,
   "metadata": {},
   "outputs": [
    {
     "name": "stdout",
     "output_type": "stream",
     "text": [
      "13.791501026403786 Gyr 3.86300605876239e-11 Gyr\n"
     ]
    }
   ],
   "source": [
    "def t_integrand_z(z):\n",
    "\n",
    "    # original H0 in units ~[1/s], we only need the value\n",
    "    H0 = my.H0.to(unit.s**-1).value\n",
    "\n",
    "    a_dot = np.sqrt(my.Omega_m0*(1+z)**3 + my.Omega_L0)*H0*(1+z)\n",
    "    t_int = 1/a_dot\n",
    "\n",
    "    return t_int\n",
    "\n",
    "t, err = quad(t_integrand_z, 0, np.inf)\n",
    "t_uni, err_uni = (t*unit.s).to(unit.Gyr), (err*unit.s).to(unit.Gyr)\n",
    "print(t_uni, err_uni)"
   ]
  },
  {
   "cell_type": "markdown",
   "metadata": {},
   "source": [
    "## Initial velocity limits"
   ]
  },
  {
   "cell_type": "markdown",
   "metadata": {},
   "source": [
    "### Forwards trafo"
   ]
  },
  {
   "cell_type": "code",
   "execution_count": 8,
   "metadata": {},
   "outputs": [
    {
     "name": "stdout",
     "output_type": "stream",
     "text": [
      "10.075304928248277 km / s 10075.304928248277 km / s\n",
      "3.265183954630376e-16 kpc / s 3.265183954630376e-13 kpc / s\n"
     ]
    }
   ],
   "source": [
    "# conversion factor for limits\n",
    "m = 0.05*unit.eV\n",
    "m_kg = m.to(unit.kg, unit.mass_energy())\n",
    "cf = my.T_nu_eV.to(unit.J) / m_kg / const.c\n",
    "\n",
    "# limits on velocity\n",
    "lower = 0.01 * cf.to(unit.km/unit.s)\n",
    "upper = 10 * cf.to(unit.km/unit.s)\n",
    "\n",
    "print(lower, upper)\n",
    "\n",
    "low_kpc = lower.to(my.Uunit)\n",
    "upp_kpc = upper.to(my.Uunit)\n",
    "\n",
    "print(low_kpc, upp_kpc)"
   ]
  },
  {
   "cell_type": "markdown",
   "metadata": {},
   "source": [
    "### Backwards trafo"
   ]
  },
  {
   "cell_type": "code",
   "execution_count": 9,
   "metadata": {},
   "outputs": [
    {
     "name": "stdout",
     "output_type": "stream",
     "text": [
      "10075.304928248277 m / s 10075304.928248277 m / s\n",
      "2.69226555e-25 J 2.6922655499999997e-22 J\n",
      "1.6803799861183098e-06 eV 0.0016803799861183095 eV\n",
      "0.01 9.999999999999998\n"
     ]
    }
   ],
   "source": [
    "re_low = low_kpc.to(unit.m/unit.s)\n",
    "re_upp = upp_kpc.to(unit.m/unit.s)\n",
    "print(re_low, re_upp)\n",
    "\n",
    "m_ratio = 0.3/0.05\n",
    "\n",
    "cf =  const.c * m_kg #* m_ratio\n",
    "\n",
    "low_J = (re_low*cf).to(unit.J)\n",
    "upp_J = (re_upp*cf).to(unit.J)\n",
    "print(low_J, upp_J)\n",
    "\n",
    "low_eV = low_J.to(unit.eV)\n",
    "upp_eV = upp_J.to(unit.eV)\n",
    "print(low_eV, upp_eV)\n",
    "\n",
    "y_low = low_eV / my.T_nu_eV\n",
    "y_upp = upp_eV / my.T_nu_eV\n",
    "print(y_low, y_upp)"
   ]
  },
  {
   "cell_type": "markdown",
   "metadata": {},
   "source": [
    "## Simulated momenta to eV"
   ]
  },
  {
   "cell_type": "code",
   "execution_count": null,
   "metadata": {},
   "outputs": [],
   "source": [
    "m_nu = 0.05*unit.eV\n",
    "u0_raw = np.load(f'neutrino_vectors/nu_100.npy')\n",
    "print(u0_raw.shape)\n",
    "u0 = np.abs(np.load(f'neutrino_vectors/nu_100.npy')[0][3])*unit.kpc/unit.s\n",
    "print(u0)\n",
    "\n",
    "p0 = u0 * m_nu.to(unit.kg, unit.mass_energy())\n",
    "p0 = p0.to(unit.kg*unit.m/unit.s)\n",
    "print(p0)\n",
    "\n",
    "cf = (1/5.344286e-19)*const.c.value\n",
    "p0_GeV = p0.value * cf * unit.GeV\n",
    "print(p0_GeV)\n",
    "\n",
    "p0_eV = p0_GeV.to(unit.eV)\n",
    "print(p0_eV)\n",
    "\n",
    "y = p0_eV / my.T_nu_eV\n",
    "print(y)"
   ]
  },
  {
   "cell_type": "markdown",
   "metadata": {},
   "source": [
    "## 1/hc to cm^-1/eV"
   ]
  },
  {
   "cell_type": "code",
   "execution_count": null,
   "metadata": {},
   "outputs": [],
   "source": [
    "hc_neg1 = (1/const.h/const.c).to(1/unit.cm/unit.eV)\n",
    "print(hc_neg1)"
   ]
  },
  {
   "cell_type": "markdown",
   "metadata": {},
   "source": [
    "## Table 1"
   ]
  },
  {
   "cell_type": "code",
   "execution_count": null,
   "metadata": {},
   "outputs": [],
   "source": [
    "print('R_vir:', fct.R_vir(0, my.Mvir_NFW))\n",
    "print('scale_radius:', fct.scale_radius(0, my.Mvir_NFW))"
   ]
  },
  {
   "cell_type": "markdown",
   "metadata": {},
   "source": [
    "## Critical Density"
   ]
  },
  {
   "cell_type": "code",
   "execution_count": null,
   "metadata": {},
   "outputs": [],
   "source": [
    "crit = fct.rho_crit(0)\n",
    "print('Check if this matches critical density of universe today:')\n",
    "print(crit.to(unit.kg/unit.m**3))"
   ]
  },
  {
   "cell_type": "markdown",
   "metadata": {},
   "source": [
    "## Unit Conversion Tests"
   ]
  },
  {
   "cell_type": "code",
   "execution_count": null,
   "metadata": {},
   "outputs": [],
   "source": [
    "print(my.T_nu.to(unit.eV, unit.temperature_energy()))"
   ]
  },
  {
   "cell_type": "markdown",
   "metadata": {},
   "source": [
    "## Derivative vector values"
   ]
  },
  {
   "cell_type": "code",
   "execution_count": null,
   "metadata": {},
   "outputs": [],
   "source": [
    "z = 0\n",
    "x_i = np.array([8.5,0.,0.])*unit.kpc\n",
    "\n",
    "t2 = fct.dPsi_dxi_NFW(x_i, z, my.rho0_NFW, my.Mvir_NFW)\n",
    "print(type(t2), t2)"
   ]
  },
  {
   "cell_type": "markdown",
   "metadata": {},
   "source": [
    "## Time Variable s"
   ]
  },
  {
   "cell_type": "code",
   "execution_count": 8,
   "metadata": {},
   "outputs": [
    {
     "name": "stdout",
     "output_type": "stream",
     "text": [
      "Value of time variable s in seconds at redhshift 4 \n",
      " 7.548019506838111e+17\n",
      "Age of universe in seconds: \n",
      " 4.560563969097499e+17 s\n"
     ]
    }
   ],
   "source": [
    "s = fct.s_of_z(4)\n",
    "print('Value of time variable s in seconds at redhshift 4','\\n', s)\n",
    "\n",
    "h_s = my.H0.to(1/unit.s)\n",
    "print('Age of universe in seconds:','\\n', 1/h_s)"
   ]
  },
  {
   "cell_type": "code",
   "execution_count": 2,
   "metadata": {},
   "outputs": [
    {
     "name": "stdout",
     "output_type": "stream",
     "text": [
      "Value of time variable s in seconds at redhshift 4 \n",
      " 1.7989872714122294e+18\n",
      "Age of universe in seconds: \n",
      " 4.560563969097499e+17 s\n"
     ]
    }
   ],
   "source": [
    "s = fct.s_of_z(4)\n",
    "print('Value of time variable s in seconds at redhshift 4','\\n', s)\n",
    "\n",
    "h_s = my.H0.to(1/unit.s)\n",
    "print('Age of universe in seconds:','\\n', 1/h_s)"
   ]
  },
  {
   "cell_type": "markdown",
   "metadata": {},
   "source": [
    "## Plot for s and z relation"
   ]
  },
  {
   "cell_type": "code",
   "execution_count": null,
   "metadata": {},
   "outputs": [],
   "source": [
    "zeds = np.geomspace(1e-10, CC.Z_STOP, CC.Z_AMOUNT)\n",
    "\n",
    "ss = np.array([fct.s_of_z(z) for z in zeds]) * my.H0.to(unit.s**-1).value\n",
    "\n",
    "\n",
    "plt.semilogx(1+zeds, ss)\n",
    "plt.title('Shape of integral for s(z)')\n",
    "plt.xlabel('redshift')\n",
    "plt.ylabel('time variable s [1/H0]')\n",
    "plt.savefig('check_plots/s_of_z_integral.pdf')"
   ]
  },
  {
   "cell_type": "markdown",
   "metadata": {},
   "source": [
    "## Initial Velocities"
   ]
  },
  {
   "cell_type": "code",
   "execution_count": null,
   "metadata": {},
   "outputs": [],
   "source": [
    "from backtracing import draw_ui\n",
    "\n",
    "# Draw initial velocities.\n",
    "ui = draw_ui(CC.PHIs, CC.THETAs, CC.Vs)*my.Uunit\n",
    "ui = ui.to(unit.km/unit.s).value\n",
    "\n",
    "ux = ui[:,0]\n",
    "uy = ui[:,1]\n",
    "uz = ui[:,2]\n",
    "\n",
    "x = np.arange(len(ux))\n",
    "y = np.arange(len(uy))\n",
    "z = np.arange(len(uz))\n",
    "\n",
    "plt.plot(x, ux, label='x-axis', )\n",
    "plt.plot(y, uy, label='y-axis', )\n",
    "plt.plot(z, uz, label='z-axis', alpha=0.5)\n",
    "plt.title(f'Initial Velocities - {CC.NR_OF_NEUTRINOS} neutrinos')\n",
    "plt.xlabel('Neutrino number')\n",
    "plt.ylabel('Velocity w.r.t. axis in [km/s]')\n",
    "plt.legend()\n",
    "plt.savefig('check_plots/initial_velocities.pdf')"
   ]
  }
 ],
 "metadata": {
  "interpreter": {
   "hash": "8a0d5d0f2e48edd2cdf812a3eedd1dc78c628b894b9ae93ffd6b09cf9a60bf81"
  },
  "kernelspec": {
   "display_name": "Python 3.9.7 64-bit ('neutrino_clustering': conda)",
   "name": "python3"
  },
  "language_info": {
   "codemirror_mode": {
    "name": "ipython",
    "version": 3
   },
   "file_extension": ".py",
   "mimetype": "text/x-python",
   "name": "python",
   "nbconvert_exporter": "python",
   "pygments_lexer": "ipython3",
   "version": "3.9.7"
  },
  "orig_nbformat": 4
 },
 "nbformat": 4,
 "nbformat_minor": 2
}
