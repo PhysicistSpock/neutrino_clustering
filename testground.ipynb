{
 "cells": [
  {
   "cell_type": "code",
   "execution_count": 34,
   "metadata": {},
   "outputs": [],
   "source": [
    "from shared.preface import *\n",
    "import shared.functions as fct\n",
    "import shared.my_units as my\n",
    "import shared.control_center as CC\n"
   ]
  },
  {
   "cell_type": "markdown",
   "metadata": {},
   "source": [
    "## Goal: Dynamic momentum ranges for all masses in sim."
   ]
  },
  {
   "cell_type": "code",
   "execution_count": null,
   "metadata": {},
   "outputs": [],
   "source": []
  },
  {
   "cell_type": "code",
   "execution_count": 35,
   "metadata": {},
   "outputs": [
    {
     "name": "stdout",
     "output_type": "stream",
     "text": [
      "200\n",
      "0.0009402669360055946\n"
     ]
    }
   ],
   "source": [
    "zeds = CC.ZEDS\n",
    "print(len(zeds))\n",
    "ss = np.array([fct.s_of_z(z) for z in zeds])# * my.H0.to(unit.s**-1).value\n",
    "\n",
    "s_new = (ss[0] + ss[1])/2\n",
    "\n",
    "f = interp1d(ss, zeds, kind='linear', assume_sorted=True)\n",
    "\n",
    "z_new = f(s_new)\n",
    "if zeds[0] < z_new < zeds[1]:\n",
    "    print(z_new)\n"
   ]
  },
  {
   "cell_type": "markdown",
   "metadata": {},
   "source": [
    "## Sorting logic for ndim arrays"
   ]
  },
  {
   "cell_type": "code",
   "execution_count": 36,
   "metadata": {},
   "outputs": [
    {
     "name": "stdout",
     "output_type": "stream",
     "text": [
      "[[1 6 5]\n",
      " [2 1 0]\n",
      " [4 6 5]]\n",
      "[[7 6 5]\n",
      " [2 4 0]\n",
      " [0 1 5]]\n"
     ]
    }
   ],
   "source": [
    "x = np.array([[4, 6, 5], [2, 1, 0], [1,6,5]])\n",
    "y = np.array([[0, 1, 5], [2, 4, 0], [7,6,5]])\n",
    "\n",
    "ind = x[:, 0].argsort()\n",
    "\n",
    "x_sort = x[ind]\n",
    "y_sort = y[ind]\n",
    "\n",
    "print(x_sort)\n",
    "print(y_sort)\n",
    "\n"
   ]
  },
  {
   "cell_type": "markdown",
   "metadata": {},
   "source": [
    "# Various tests on individual functions"
   ]
  },
  {
   "cell_type": "markdown",
   "metadata": {},
   "source": [
    "## Number integral"
   ]
  },
  {
   "cell_type": "code",
   "execution_count": 37,
   "metadata": {},
   "outputs": [
    {
     "name": "stdout",
     "output_type": "stream",
     "text": [
      "5.0957792630544584e-11\n",
      "8.911524289289443e-08\n"
     ]
    }
   ],
   "source": [
    "FDarr = np.array([0.3,0.4,0.1,0.01])\n",
    "p_arr = np.array([0.2, 0.1, 5., 8.]) * my.T_nu_eV.value\n",
    "\n",
    "order = p_arr.argsort()\n",
    "p_sort, FD_sort = p_arr[order], FDarr[order]\n",
    "# print(p_sort, FD_sort)\n",
    "\n",
    "n_int = np.trapz(p_sort**2 * FD_sort, p_sort)\n",
    "print(n_int)\n",
    "\n",
    "n_sum = np.sum(p_sort**2 * FD_sort)\n",
    "print(n_sum)"
   ]
  },
  {
   "cell_type": "markdown",
   "metadata": {},
   "source": [
    "## Integral for cosmic time"
   ]
  },
  {
   "cell_type": "code",
   "execution_count": 38,
   "metadata": {},
   "outputs": [
    {
     "name": "stdout",
     "output_type": "stream",
     "text": [
      "13.79150102640378 Gyr 2.0300656577179505e-12 Gyr\n"
     ]
    }
   ],
   "source": [
    "def t_integrand_a(a):\n",
    "\n",
    "    # original H0 in units ~[1/s], we only need the value\n",
    "    H0 = my.H0.to(unit.s**-1).value\n",
    "\n",
    "    a_dot = np.sqrt(my.Omega_m0/a**3 + my.Omega_L0)*H0*a\n",
    "    t_int = 1/a_dot\n",
    "\n",
    "    return t_int\n",
    "\n",
    "t, err = quad(t_integrand_a, 0, 1)\n",
    "t_uni, err_uni = (t*unit.s).to(unit.Gyr), (err*unit.s).to(unit.Gyr)\n",
    "print(t_uni, err_uni)"
   ]
  },
  {
   "cell_type": "code",
   "execution_count": 39,
   "metadata": {},
   "outputs": [
    {
     "name": "stdout",
     "output_type": "stream",
     "text": [
      "13.791501026403786 Gyr 3.86300605876239e-11 Gyr\n"
     ]
    }
   ],
   "source": [
    "def t_integrand_z(z):\n",
    "\n",
    "    # original H0 in units ~[1/s], we only need the value\n",
    "    H0 = my.H0.to(unit.s**-1).value\n",
    "\n",
    "    a_dot = np.sqrt(my.Omega_m0*(1+z)**3 + my.Omega_L0)*H0*(1+z)\n",
    "    t_int = 1/a_dot\n",
    "\n",
    "    return t_int\n",
    "\n",
    "t, err = quad(t_integrand_z, 0, np.inf)\n",
    "t_uni, err_uni = (t*unit.s).to(unit.Gyr), (err*unit.s).to(unit.Gyr)\n",
    "print(t_uni, err_uni)"
   ]
  },
  {
   "cell_type": "markdown",
   "metadata": {},
   "source": [
    "## Initial velocity limits"
   ]
  },
  {
   "cell_type": "code",
   "execution_count": 40,
   "metadata": {},
   "outputs": [
    {
     "name": "stdout",
     "output_type": "stream",
     "text": [
      "3.265183954630376e-16 kpc / s 3.265183954630376e-13 kpc / s\n",
      "10.075304928248277 km / s 10075.304928248277 km / s\n"
     ]
    }
   ],
   "source": [
    "m_sim_eV = 0.05*unit.eV\n",
    "low_kpc, upp_kpc = fct.velocity_limits_of_m_nu(0.01, 10., m_sim_eV, mode='kpc/s')\n",
    "print(low_kpc,upp_kpc)\n",
    "\n",
    "m_sim_eV = 0.05*unit.eV\n",
    "low_km, upp_km = fct.velocity_limits_of_m_nu(0.01, 10., m_sim_eV, mode='km/s')\n",
    "print(low_km,upp_km)"
   ]
  },
  {
   "cell_type": "markdown",
   "metadata": {},
   "source": [
    "## Simulated velocities in [kpc/s] to momenta in [eV] for any (neutrino) mass"
   ]
  },
  {
   "cell_type": "code",
   "execution_count": 41,
   "metadata": {},
   "outputs": [
    {
     "name": "stdout",
     "output_type": "stream",
     "text": [
      "7.159362770588494e-05 eV 0.42605617953869324\n"
     ]
    }
   ],
   "source": [
    "u_sim = np.load(f'neutrino_vectors/nu_2.npy')[-1,3:6]\n",
    "m_sim_eV = 0.05*unit.eV\n",
    "m_target_eV = 0.05*unit.eV\n",
    "\n",
    "p, y = fct.u_to_p_eV(u_sim, m_sim_eV, m_target_eV)\n",
    "print(p, y)"
   ]
  },
  {
   "cell_type": "markdown",
   "metadata": {},
   "source": [
    "## 1/hc to cm^-1/eV"
   ]
  },
  {
   "cell_type": "code",
   "execution_count": 42,
   "metadata": {},
   "outputs": [
    {
     "name": "stdout",
     "output_type": "stream",
     "text": [
      "8065.543937349209 1 / (cm eV)\n",
      "524687821733.6669 1 / cm3\n"
     ]
    }
   ],
   "source": [
    "hc_neg1 = (1/const.h/const.c).to(1/unit.cm/unit.eV)\n",
    "print(hc_neg1)\n",
    "\n",
    "n_cm3 = 1*unit.eV**3 * hc_neg1**3\n",
    "print(n_cm3)"
   ]
  },
  {
   "cell_type": "markdown",
   "metadata": {},
   "source": [
    "## Beta factor"
   ]
  },
  {
   "cell_type": "code",
   "execution_count": 43,
   "metadata": {},
   "outputs": [
    {
     "name": "stdout",
     "output_type": "stream",
     "text": [
      "14.928729169804287\n"
     ]
    }
   ],
   "source": [
    "def c_vir_avg(z, M_vir):\n",
    "    # Functions from Mertsch et al. (2020), eqns. (12) and (13) in ref. [40].\n",
    "    a_of_z = 0.537 + (0.488)*np.exp(-0.718*np.power(z, 1.08))\n",
    "    b_of_z = -0.097 + 0.024*z\n",
    "\n",
    "    # Argument in log has to be dimensionless\n",
    "    arg_in_log = (M_vir / (1.e12 / my.h * unit.M_sun)).value\n",
    "\n",
    "    # Calculate avergae c_vir\n",
    "    c_vir_avg = np.power(a_of_z + b_of_z*np.log10(arg_in_log), 10.)\n",
    "\n",
    "    return c_vir_avg\n",
    "\n",
    "# Beta is then obtained from c_vir_avg(0, M_vir) and c_vir(0, M_vir).\n",
    "beta = (333.5/19.9) / c_vir_avg(0, my.Mvir_NFW)\n",
    "print(beta)"
   ]
  },
  {
   "cell_type": "markdown",
   "metadata": {},
   "source": [
    "## Table 1"
   ]
  },
  {
   "cell_type": "code",
   "execution_count": 44,
   "metadata": {},
   "outputs": [
    {
     "name": "stdout",
     "output_type": "stream",
     "text": [
      "16.758793969849247 0.04258828167400367\n"
     ]
    }
   ],
   "source": [
    "# Tests for c_vir and the beta coefficient\n",
    "\n",
    "cis = fct.c_vir(0, my.Mvir_NFW)\n",
    "cis1 = fct.c_vir(4, my.Mvir_NFW)\n",
    "print(cis, cis1)"
   ]
  },
  {
   "cell_type": "code",
   "execution_count": 45,
   "metadata": {},
   "outputs": [
    {
     "name": "stdout",
     "output_type": "stream",
     "text": [
      "R_vir: 81.78036756845792\n",
      "scale_radius: 1920.255158319231\n"
     ]
    }
   ],
   "source": [
    "z_test = 4\n",
    "print('R_vir:', fct.R_vir(z_test, my.Mvir_NFW))\n",
    "print('scale_radius:', fct.scale_radius(z_test, my.Mvir_NFW))"
   ]
  },
  {
   "cell_type": "markdown",
   "metadata": {},
   "source": [
    "## Critical Density"
   ]
  },
  {
   "cell_type": "code",
   "execution_count": 46,
   "metadata": {},
   "outputs": [
    {
     "name": "stdout",
     "output_type": "stream",
     "text": [
      "Check if this matches critical density of universe today:\n",
      "127.05281539749838\n"
     ]
    }
   ],
   "source": [
    "crit = fct.rho_crit(0)\n",
    "print('Check if this matches critical density of universe today:')\n",
    "print(crit)"
   ]
  },
  {
   "cell_type": "markdown",
   "metadata": {},
   "source": [
    "## Unit Conversion Tests"
   ]
  },
  {
   "cell_type": "code",
   "execution_count": 47,
   "metadata": {},
   "outputs": [
    {
     "name": "stdout",
     "output_type": "stream",
     "text": [
      "0.00016803799861183098 eV\n"
     ]
    }
   ],
   "source": [
    "print(my.T_nu.to(unit.eV, unit.temperature_energy()))"
   ]
  },
  {
   "cell_type": "markdown",
   "metadata": {},
   "source": [
    "## Derivative vector values"
   ]
  },
  {
   "cell_type": "code",
   "execution_count": 48,
   "metadata": {},
   "outputs": [
    {
     "name": "stdout",
     "output_type": "stream",
     "text": [
      "<class 'numpy.ndarray'> [3.70279628e-30 0.00000000e+00 0.00000000e+00]\n"
     ]
    }
   ],
   "source": [
    "z = 0\n",
    "x_i = np.array([8.5,0.,0.])*unit.kpc\n",
    "\n",
    "t2 = fct.dPsi_dxi_NFW(x_i, z, my.rho0_NFW, my.Mvir_NFW)\n",
    "print(type(t2), t2)"
   ]
  },
  {
   "cell_type": "markdown",
   "metadata": {},
   "source": [
    "## Time Variable s"
   ]
  },
  {
   "cell_type": "code",
   "execution_count": 49,
   "metadata": {},
   "outputs": [
    {
     "name": "stdout",
     "output_type": "stream",
     "text": [
      "Value of time variable s in seconds at redhshift 4 \n",
      " 1.7989872714122294e+18\n",
      "Age of universe in seconds: \n",
      " 4.560563969097499e+17 s\n"
     ]
    }
   ],
   "source": [
    "s = fct.s_of_z(4)\n",
    "print('Value of time variable s in seconds at redhshift 4','\\n', s)\n",
    "\n",
    "h_s = my.H0.to(1/unit.s)\n",
    "print('Age of universe in seconds:','\\n', 1/h_s)"
   ]
  },
  {
   "cell_type": "code",
   "execution_count": 50,
   "metadata": {},
   "outputs": [
    {
     "name": "stdout",
     "output_type": "stream",
     "text": [
      "Value of time variable s in seconds at redhshift 4 \n",
      " 1.7989872714122294e+18\n",
      "Age of universe in seconds: \n",
      " 4.560563969097499e+17 s\n"
     ]
    }
   ],
   "source": [
    "s = fct.s_of_z(4)\n",
    "print('Value of time variable s in seconds at redhshift 4','\\n', s)\n",
    "\n",
    "h_s = my.H0.to(1/unit.s)\n",
    "print('Age of universe in seconds:','\\n', 1/h_s)"
   ]
  },
  {
   "cell_type": "markdown",
   "metadata": {},
   "source": [
    "## Initial Velocities"
   ]
  },
  {
   "cell_type": "code",
   "execution_count": 51,
   "metadata": {},
   "outputs": [
    {
     "data": {
      "image/png": "[encoded data removed]",
      "text/plain": [
       "<Figure size 432x288 with 1 Axes>"
      ]
     },
     "metadata": {
      "needs_background": "light"
     },
     "output_type": "display_data"
    }
   ],
   "source": [
    "from backtracing_numba import draw_ui\n",
    "\n",
    "# Draw initial velocities.\n",
    "ui = draw_ui(CC.PHIs, CC.THETAs, CC.Vs)*my.Uunit\n",
    "ui = ui.to(unit.km/unit.s).value\n",
    "\n",
    "ux = ui[:,0]\n",
    "uy = ui[:,1]\n",
    "uz = ui[:,2]\n",
    "\n",
    "x = np.arange(len(ux))\n",
    "y = np.arange(len(uy))\n",
    "z = np.arange(len(uz))\n",
    "\n",
    "plt.plot(x, ux, label='x-axis', )\n",
    "plt.plot(y, uy, label='y-axis', )\n",
    "plt.plot(z, uz, label='z-axis', alpha=0.5)\n",
    "plt.title(f'Initial Velocities - {CC.NR_OF_NEUTRINOS} neutrinos')\n",
    "plt.xlabel('Neutrino number')\n",
    "plt.ylabel('Velocity w.r.t. axis in [km/s]')\n",
    "plt.legend()\n",
    "plt.savefig('check_plots/initial_velocities.pdf')"
   ]
  },
  {
   "cell_type": "markdown",
   "metadata": {},
   "source": [
    "## Simpy derivative"
   ]
  },
  {
   "cell_type": "markdown",
   "metadata": {},
   "source": [
    "## Redshift array for integration steps"
   ]
  },
  {
   "cell_type": "code",
   "execution_count": 64,
   "metadata": {},
   "outputs": [
    {
     "name": "stdout",
     "output_type": "stream",
     "text": [
      "300 (300,)\n",
      "0.0 4.0\n"
     ]
    },
    {
     "data": {
      "image/png": "[encoded data removed]",
      "text/plain": [
       "<Figure size 432x288 with 1 Axes>"
      ]
     },
     "metadata": {
      "needs_background": "light"
     },
     "output_type": "display_data"
    }
   ],
   "source": [
    "# OLD\n",
    "'''\n",
    "zeds_test = CC.ZEDS\n",
    "print(len(zeds_test))\n",
    "print(zeds_test[0], zeds_test[-1])\n",
    "\n",
    "plt.scatter(zeds_test, zeds_test, s=1)\n",
    "plt.show()\n",
    "'''\n",
    "\n",
    "Z_START, Z_STOP, Z_AMOUNT = 0., 4., 199\n",
    "Z_START_LOG = 1e-1\n",
    "zeds_pre = np.geomspace(Z_START_LOG, Z_STOP, Z_AMOUNT) - Z_START_LOG\n",
    "ZEDS = np.insert(zeds_pre, len(zeds_pre), 4.)\n",
    "\n",
    "z_early = np.linspace(0,2,200)\n",
    "z_late = np.linspace(2.01,4,100)\n",
    "\n",
    "zeds_test = np.concatenate((z_early, z_late))\n",
    "print(len(zeds_test), zeds_test.shape)\n",
    "print(zeds_test[0], zeds_test[-1])\n",
    "\n",
    "plt.scatter(zeds_test, zeds_test, s=1)\n",
    "plt.show()"
   ]
  },
  {
   "cell_type": "markdown",
   "metadata": {},
   "source": [
    "## Faking double amount of particles to test integral"
   ]
  },
  {
   "cell_type": "code",
   "execution_count": 54,
   "metadata": {},
   "outputs": [],
   "source": [
    "# Read in neutrino vectors.\n",
    "Ns = np.arange(CC.NR_OF_NEUTRINOS, dtype=int)  # Nr. of neutrinos\n",
    "sim = np.array([np.load(f'neutrino_vectors/nu_{Nr+1}.npy') for Nr in Ns])\n",
    "\n",
    "sim_fake = np.copy(sim)\n",
    "\n",
    "for i, fake_arr in enumerate(sim_fake):\n",
    "    np.save(f'neutrino_vectors/nu_{i+1+CC.NR_OF_NEUTRINOS}.npy', fake_arr)"
   ]
  },
  {
   "cell_type": "markdown",
   "metadata": {},
   "source": [
    "## Shape of derivative for different redshifts"
   ]
  },
  {
   "cell_type": "code",
   "execution_count": 55,
   "metadata": {},
   "outputs": [
    {
     "ename": "UnitConversionError",
     "evalue": "Can only apply 'minimum' function to dimensionless quantities when other argument is not a quantity (unless the latter is all zero/infinity/nan)",
     "output_type": "error",
     "traceback": [
      "\u001b[0;31m---------------------------------------------------------------------------\u001b[0m",
      "\u001b[0;31mUnitConversionError\u001b[0m                       Traceback (most recent call last)",
      "\u001b[0;32m/tmp/ipykernel_45729/1744326441.py\u001b[0m in \u001b[0;36m<module>\u001b[0;34m\u001b[0m\n\u001b[1;32m     11\u001b[0m     \u001b[0mr_s\u001b[0m \u001b[0;34m=\u001b[0m \u001b[0mr_vir\u001b[0m \u001b[0;34m/\u001b[0m \u001b[0mfct\u001b[0m\u001b[0;34m.\u001b[0m\u001b[0mc_vir\u001b[0m\u001b[0;34m(\u001b[0m\u001b[0mz\u001b[0m\u001b[0;34m,\u001b[0m \u001b[0mmy\u001b[0m\u001b[0;34m.\u001b[0m\u001b[0mMvir_NFW\u001b[0m\u001b[0;34m)\u001b[0m\u001b[0;34m\u001b[0m\u001b[0;34m\u001b[0m\u001b[0m\n\u001b[1;32m     12\u001b[0m \u001b[0;34m\u001b[0m\u001b[0m\n\u001b[0;32m---> 13\u001b[0;31m     \u001b[0mm\u001b[0m \u001b[0;34m=\u001b[0m \u001b[0mnp\u001b[0m\u001b[0;34m.\u001b[0m\u001b[0mminimum\u001b[0m\u001b[0;34m(\u001b[0m\u001b[0mr\u001b[0m\u001b[0;34m,\u001b[0m \u001b[0mr_vir\u001b[0m\u001b[0;34m)\u001b[0m\u001b[0;34m\u001b[0m\u001b[0;34m\u001b[0m\u001b[0m\n\u001b[0m\u001b[1;32m     14\u001b[0m     \u001b[0mM\u001b[0m \u001b[0;34m=\u001b[0m \u001b[0mnp\u001b[0m\u001b[0;34m.\u001b[0m\u001b[0mmaximum\u001b[0m\u001b[0;34m(\u001b[0m\u001b[0mr\u001b[0m\u001b[0;34m,\u001b[0m \u001b[0mr_vir\u001b[0m\u001b[0;34m)\u001b[0m\u001b[0;34m\u001b[0m\u001b[0;34m\u001b[0m\u001b[0m\n\u001b[1;32m     15\u001b[0m \u001b[0;34m\u001b[0m\u001b[0m\n",
      "\u001b[0;32m~/anaconda3/envs/neutrino_clustering_pytorch/lib/python3.9/site-packages/astropy/units/quantity.py\u001b[0m in \u001b[0;36m__array_ufunc__\u001b[0;34m(self, function, method, *inputs, **kwargs)\u001b[0m\n\u001b[1;32m    464\u001b[0m         \u001b[0;31m# consistent units between two inputs (e.g., in np.add) --\u001b[0m\u001b[0;34m\u001b[0m\u001b[0;34m\u001b[0m\u001b[0m\n\u001b[1;32m    465\u001b[0m         \u001b[0;31m# and the unit of the result (or tuple of units for nout > 1).\u001b[0m\u001b[0;34m\u001b[0m\u001b[0;34m\u001b[0m\u001b[0m\n\u001b[0;32m--> 466\u001b[0;31m         \u001b[0mconverters\u001b[0m\u001b[0;34m,\u001b[0m \u001b[0munit\u001b[0m \u001b[0;34m=\u001b[0m \u001b[0mconverters_and_unit\u001b[0m\u001b[0;34m(\u001b[0m\u001b[0mfunction\u001b[0m\u001b[0;34m,\u001b[0m \u001b[0mmethod\u001b[0m\u001b[0;34m,\u001b[0m \u001b[0;34m*\u001b[0m\u001b[0minputs\u001b[0m\u001b[0;34m)\u001b[0m\u001b[0;34m\u001b[0m\u001b[0;34m\u001b[0m\u001b[0m\n\u001b[0m\u001b[1;32m    467\u001b[0m \u001b[0;34m\u001b[0m\u001b[0m\n\u001b[1;32m    468\u001b[0m         \u001b[0mout\u001b[0m \u001b[0;34m=\u001b[0m \u001b[0mkwargs\u001b[0m\u001b[0;34m.\u001b[0m\u001b[0mget\u001b[0m\u001b[0;34m(\u001b[0m\u001b[0;34m'out'\u001b[0m\u001b[0;34m,\u001b[0m \u001b[0;32mNone\u001b[0m\u001b[0;34m)\u001b[0m\u001b[0;34m\u001b[0m\u001b[0;34m\u001b[0m\u001b[0m\n",
      "\u001b[0;32m~/anaconda3/envs/neutrino_clustering_pytorch/lib/python3.9/site-packages/astropy/units/quantity_helper/converters.py\u001b[0m in \u001b[0;36mconverters_and_unit\u001b[0;34m(function, method, *args)\u001b[0m\n\u001b[1;32m    190\u001b[0m                         \u001b[0mconverters\u001b[0m\u001b[0;34m[\u001b[0m\u001b[0mi\u001b[0m\u001b[0;34m]\u001b[0m \u001b[0;34m=\u001b[0m \u001b[0;32mNone\u001b[0m\u001b[0;34m\u001b[0m\u001b[0;34m\u001b[0m\u001b[0m\n\u001b[1;32m    191\u001b[0m                     \u001b[0;32melse\u001b[0m\u001b[0;34m:\u001b[0m\u001b[0;34m\u001b[0m\u001b[0;34m\u001b[0m\u001b[0m\n\u001b[0;32m--> 192\u001b[0;31m                         raise UnitConversionError(\n\u001b[0m\u001b[1;32m    193\u001b[0m                             \u001b[0;34m\"Can only apply '{}' function to \"\u001b[0m\u001b[0;34m\u001b[0m\u001b[0;34m\u001b[0m\u001b[0m\n\u001b[1;32m    194\u001b[0m                             \u001b[0;34m\"dimensionless quantities when other \"\u001b[0m\u001b[0;34m\u001b[0m\u001b[0;34m\u001b[0m\u001b[0m\n",
      "\u001b[0;31mUnitConversionError\u001b[0m: Can only apply 'minimum' function to dimensionless quantities when other argument is not a quantity (unless the latter is all zero/infinity/nan)"
     ]
    },
    {
     "data": {
      "image/png": "[encoded data removed]",
      "text/plain": [
       "<Figure size 864x720 with 4 Axes>"
      ]
     },
     "metadata": {
      "needs_background": "light"
     },
     "output_type": "display_data"
    }
   ],
   "source": [
    "z_arr = np.array([0.1,0.5,2,4.])\n",
    "r = np.linspace(1,1000,100)*unit.kpc\n",
    "\n",
    "fig, axs = plt.subplots(2,2, figsize=(12,10))\n",
    "fig.suptitle('Shape of derivative', fontsize=18)\n",
    "\n",
    "for j, z in enumerate(z_arr):\n",
    "\n",
    "    # Compute values dependent on redshift.\n",
    "    r_vir = fct.R_vir(z, my.Mvir_NFW)\n",
    "    r_s = r_vir / fct.c_vir(z, my.Mvir_NFW)\n",
    "\n",
    "    m = np.minimum(r, r_vir)\n",
    "    M = np.maximum(r, r_vir)\n",
    "\n",
    "    #! Ratios has to be unitless (e.g. else np.log yields 0.).\n",
    "    ratio1 = (m/r_s).value\n",
    "    ratio2 = (r/r_s).value\n",
    "    ratio3 = (r_vir/M).value\n",
    "\n",
    "    # Derivative in compact notation with m and M (without x_i).\n",
    "    prefactor = 4.*np.pi*const.G*my.rho0_NFW*r_s**2./r**2.*(1*unit.kpc)\n",
    "    term1 = np.log(1.+ratio1) / ratio2\n",
    "    term2 = ratio3 / (1.+ratio1)\n",
    "    derivative_vector = (prefactor * (term1 - term2)).to(unit.kpc/unit.s**2.)\n",
    "\n",
    "    if np.any(derivative_vector.value) < 0.:\n",
    "        print('neg. derivative!')\n",
    "\n",
    "    i = 0\n",
    "    if j in (2,3):\n",
    "        i = 1\n",
    "        j -= 2\n",
    "\n",
    "    axs[i,j].plot(r, derivative_vector)\n",
    "    axs[i,j].set_title(f'Redshift {z}')\n",
    "    axs[i,j].set_xlabel('r')\n",
    "    axs[i,j].set_ylabel('derivative')\n"
   ]
  }
 ],
 "metadata": {
  "interpreter": {
   "hash": "dacf62ba90b6f65c67adc0503daf6f27b8256a0651a0a92bdfd8a6d2d39d3b30"
  },
  "kernelspec": {
   "display_name": "Python 3.9.7 64-bit ('neutrino_clustering_pytorch': conda)",
   "name": "python3"
  },
  "language_info": {
   "codemirror_mode": {
    "name": "ipython",
    "version": 3
   },
   "file_extension": ".py",
   "mimetype": "text/x-python",
   "name": "python",
   "nbconvert_exporter": "python",
   "pygments_lexer": "ipython3",
   "version": "3.9.7"
  },
  "orig_nbformat": 4
 },
 "nbformat": 4,
 "nbformat_minor": 2
}
