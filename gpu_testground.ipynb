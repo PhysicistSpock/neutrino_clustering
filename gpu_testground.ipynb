{
 "cells": [
  {
   "cell_type": "code",
   "execution_count": 1,
   "metadata": {},
   "outputs": [],
   "source": [
    "from shared.preface import *\n",
    "import shared.functions as fct\n",
    "import shared.my_units as my\n",
    "import shared.control_center as CC"
   ]
  },
  {
   "cell_type": "markdown",
   "metadata": {},
   "source": [
    "## Toy-Model for gpu learning"
   ]
  },
  {
   "cell_type": "code",
   "execution_count": null,
   "metadata": {},
   "outputs": [],
   "source": [
    "%%time\n",
    "torch.device('cpu'), torch.device('cuda'), torch.device('cuda:1')\n",
    "torch.cuda.device_count()"
   ]
  },
  {
   "cell_type": "code",
   "execution_count": null,
   "metadata": {},
   "outputs": [],
   "source": [
    "%%time\n",
    "T = torch.rand(2,2).cuda()\n",
    "print(T, type(T))"
   ]
  },
  {
   "cell_type": "markdown",
   "metadata": {},
   "source": [
    "Create tensors directly on gpu if possible. \n",
    "\n",
    "\"Avoid .cpu() .itme() .numpy()\n",
    "Use .detach()\" <- Not sure how to understand yet"
   ]
  },
  {
   "cell_type": "code",
   "execution_count": null,
   "metadata": {},
   "outputs": [],
   "source": [
    "%%time\n",
    "T2 = torch.rand(2,2, device=torch.device('cuda:0'))"
   ]
  },
  {
   "cell_type": "code",
   "execution_count": 13,
   "metadata": {},
   "outputs": [
    {
     "ename": "TypeError",
     "evalue": "unsupported operand type(s) for *: 'Tensor' and 'Unit'",
     "output_type": "error",
     "traceback": [
      "\u001b[0;31m---------------------------------------------------------------------------\u001b[0m",
      "\u001b[0;31mTypeError\u001b[0m                                 Traceback (most recent call last)",
      "\u001b[0;32m<timed exec>\u001b[0m in \u001b[0;36m<module>\u001b[0;34m\u001b[0m\n",
      "\u001b[0;31mTypeError\u001b[0m: unsupported operand type(s) for *: 'Tensor' and 'Unit'"
     ]
    }
   ],
   "source": [
    "%%time\n",
    "y_in = np.array([8.5,0.,0.,1e-13,1e-14,1e-15, 1.])*unit.eV\n",
    "\n",
    "yT = torch.from_numpy(y_in).cuda()\n",
    "\n",
    "print(4*yT[0]*unit.eV, yT[0:3].cpu().numpy())"
   ]
  },
  {
   "cell_type": "markdown",
   "metadata": {},
   "source": [
    "## Scipy solve_ivp"
   ]
  },
  {
   "cell_type": "code",
   "execution_count": null,
   "metadata": {},
   "outputs": [],
   "source": [
    "def ode_sys(t, XY):\n",
    "\tx=XY[0]\n",
    "\ty=XY[1]\n",
    "\tdx_dt= - x + y\n",
    "\tdy_dt= 4. * x - y\n",
    "\treturn [dx_dt, dy_dt]\n",
    "\n",
    "t_begin=0.\n",
    "t_end=5.\n",
    "t_nsamples=100\n",
    "t_space = np.linspace(t_begin, t_end, t_nsamples)\n",
    "x_init = 2.\n",
    "y_init = 0.\n",
    "\n",
    "method = 'RK45' #available methods: 'RK45', 'RK23', 'DOP853', 'Radau', 'BDF', 'LSODA'\n",
    "\n",
    "t0 = time.time()\n",
    "num_sol = solve_ivp(ode_sys, [t_begin, t_end], [x_init, y_init], method=method, dense_output=True)\n",
    "seconds = time.time()-t0\n",
    "print(seconds)\n",
    "\n",
    "XY_num_sol = num_sol.sol(t_space)\n",
    "x_num_sol = XY_num_sol[0].T\n",
    "y_num_sol = XY_num_sol[1].T\n",
    "\n",
    "plt.figure()\n",
    "plt.plot(t_space, x_num_sol, linewidth=1, label='numerical x')\n",
    "plt.plot(t_space, y_num_sol, linewidth=1, label='numerical y')\n",
    "plt.title('System of 2 ODEs 1st order IVP solved by SciPy with method=' + method)\n",
    "plt.xlabel('t')\n",
    "plt.legend()\n",
    "plt.show()"
   ]
  },
  {
   "cell_type": "markdown",
   "metadata": {},
   "source": [
    "## TorchDiffEq"
   ]
  },
  {
   "cell_type": "code",
   "execution_count": null,
   "metadata": {},
   "outputs": [],
   "source": [
    "# Check if pytorch was correctly installed with CUDA.\n",
    "import torch\n",
    "\n",
    "print(torch.cuda.is_available())\n",
    "print(type(torch.cuda.current_device()))\n",
    "print(torch.cuda.device(0))\n",
    "print(torch.cuda.device_count())\n",
    "print(torch.cuda.get_device_name(0))"
   ]
  },
  {
   "cell_type": "code",
   "execution_count": null,
   "metadata": {},
   "outputs": [],
   "source": [
    "import torch\n",
    "from torchdiffeq import odeint\n",
    "\n",
    "def ode_sys(t, XY):\n",
    "\tx=XY[0]\n",
    "\ty=XY[1]\n",
    "\tdx_dt= torch.Tensor([- x + y])\n",
    "\tdy_dt= torch.Tensor([4. * x - y])\n",
    "\treturn torch.cat([dx_dt, dy_dt])\n",
    "\n",
    "\n",
    "t_begin=0.\n",
    "t_end=5.\n",
    "t_nsamples=100\n",
    "t_space = np.linspace(t_begin, t_end, t_nsamples)\n",
    "x_init = torch.Tensor([2.])\n",
    "y_init = torch.Tensor([0.])\n",
    "\n",
    "t0 = time.time()\n",
    "num_sol = odeint(ode_sys, torch.cat([x_init, y_init]), torch.Tensor(t_space)).numpy()\n",
    "seconds = time.time()-t0\n",
    "print(seconds)\n",
    "\n",
    "plt.figure()\n",
    "plt.plot(t_space, num_sol[:,0], linewidth=1, label='numerical x')\n",
    "plt.plot(t_space, num_sol[:,1], linewidth=1, label='numerical y')\n",
    "plt.title('System of two ODEs 1st order IVP solved by TorchDiffEq')\n",
    "plt.xlabel('t')\n",
    "plt.legend()\n",
    "plt.show()"
   ]
  },
  {
   "cell_type": "markdown",
   "metadata": {},
   "source": [
    "## Numba/Cuda Example"
   ]
  },
  {
   "cell_type": "code",
   "execution_count": null,
   "metadata": {},
   "outputs": [],
   "source": [
    "from numba import cuda # for parallel gpu computations\n",
    "import numpy as np # for random samples and array management\n",
    "import time # for timing\n",
    "import math # for sinus\n",
    "import matplotlib.pyplot as plt # for scatter plot\n",
    "\n",
    "\n",
    "@cuda.jit\n",
    "def solve_ode(x, time):\n",
    "    \"\"\"\n",
    "    Solve 2DoF ode on gpu, given\n",
    "    the initial conditions. The\n",
    "    result will be stored in the\n",
    "    input array.\n",
    "    \n",
    "\n",
    "    Parameters\n",
    "    ----------\n",
    "    x : np.array\n",
    "        Contains initial conditions for the simulations.\n",
    "        The elements are arranged in pairs:\n",
    "        [x1_sim1, x2_sim1, x1_sim2, x2_sim2, ...]\n",
    "    time : np.array\n",
    "        Three-element list with time details.\n",
    "\n",
    "    Returns\n",
    "    -------\n",
    "    None.\n",
    "\n",
    "    \"\"\"\n",
    "    # time variables\n",
    "    t = time[0]\n",
    "    t_end = time[1]\n",
    "    dt = time[2]\n",
    "    \n",
    "    # index of thread on GPU\n",
    "    pos = cuda.grid(1)\n",
    "    # mappping index to access every\n",
    "    # second element of the array\n",
    "    pos = pos * 2\n",
    "    \n",
    "    # condidion to avoid threads\n",
    "    # accessing indices out of array\n",
    "    if pos < x.size:\n",
    "        # execute until the time reaches t_end\n",
    "        while t < t_end:\n",
    "            # compute derivatives\n",
    "            dxdt0 = x[pos+1]\n",
    "            dxdt1 = np.float32(10.0)*math.sin(t) - np.float32(0.1)*x[pos+1] - x[pos]**3\n",
    "            \n",
    "            # update state vecotr\n",
    "            x[pos] += dxdt0 * dt\n",
    "            x[pos+1] += dxdt1 * dt\n",
    "            \n",
    "            # update time\n",
    "            t += dt\n",
    "            \n",
    "        \n",
    "        \n",
    "# number of independent oscillators\n",
    "# to simulate\n",
    "trials = 10_000\n",
    "\n",
    "# time variables\n",
    "t0 = 0\n",
    "t_end = 100\n",
    "dt = 0.01\n",
    "t = np.array([t0, t_end, dt], dtype='float32')\n",
    "\n",
    "# generate random initial condiotions\n",
    "init_states = np.random.random_sample(2 * trials).astype('float32')\n",
    "\n",
    "# manage nr of threads (threads)\n",
    "threads_per_block = 32\n",
    "blocks_per_grid = \\\n",
    "    (init_states.size + (threads_per_block - 1)) // threads_per_block\n",
    "\n",
    "# start timer\n",
    "start = time.perf_counter()\n",
    "\n",
    "# start parallel simulations\n",
    "solve_ode[blocks_per_grid, threads_per_block](init_states, t)\n",
    "\n",
    "# measure time elapsed\n",
    "end = time.perf_counter()\n",
    "print(f'The result was computed in {end-start} s')\n",
    "\n",
    "# reshape the array into 2D\n",
    "x = init_states.reshape((trials, 2))\n",
    "\n",
    "# plot the phase space\n",
    "plt.scatter(x[:, 0], x[:, 1], s=1)"
   ]
  },
  {
   "cell_type": "markdown",
   "metadata": {},
   "source": [
    "## TensorFlow Probability"
   ]
  },
  {
   "cell_type": "code",
   "execution_count": null,
   "metadata": {},
   "outputs": [],
   "source": [
    "import tensorflow as tf\n",
    "import tensorflow_probability as tfp\n",
    "\n",
    "t0 = time.time()\n",
    "\n",
    "def ode_sys(t, XY):\n",
    "\tx=XY[0]\n",
    "\ty=XY[1]\n",
    "\tdx_dt= - x + y\n",
    "\tdy_dt= 4. * x - y\n",
    "\treturn [dx_dt, dy_dt]\n",
    "\n",
    "an_sol_x = lambda t : np.exp(t) + np.exp(-3. * t)\n",
    "an_sol_y = lambda t : 2. * np.exp(t) - 2. * np.exp(-3. * t)\n",
    "\n",
    "t_begin=0.\n",
    "t_end=5.\n",
    "t_nsamples=100\n",
    "t_space = np.linspace(t_begin, t_end, t_nsamples)\n",
    "t_init = tf.constant(t_begin)\n",
    "x_init = tf.constant(2.)\n",
    "y_init = tf.constant(0.)\n",
    "\n",
    "x_an_sol = an_sol_x(t_space)\n",
    "y_an_sol = an_sol_y(t_space)\n",
    "\n",
    "num_sol = tfp.math.ode.BDF().solve(ode_sys, t_init, [x_init, y_init],\n",
    "\tsolution_times=tfp.math.ode.ChosenBySolver(tf.constant(t_end)) )\n",
    "\n",
    "plt.figure()\n",
    "plt.plot(t_space, x_an_sol, '--', linewidth=2, label='analytical x')\n",
    "plt.plot(t_space, y_an_sol, '--', linewidth=2, label='analytical y')\n",
    "plt.plot(num_sol.times, num_sol.states[0], linewidth=1, label='numerical x')\n",
    "plt.plot(num_sol.times, num_sol.states[1], linewidth=1, label='numerical y')\n",
    "plt.title('System of two ODEs 1st order IVP solved by TFP with BDF')\n",
    "plt.xlabel('t')\n",
    "plt.legend()\n",
    "plt.show()\n",
    "\n",
    "seconds = time.time()-t0\n",
    "print(seconds)"
   ]
  }
 ],
 "metadata": {
  "interpreter": {
   "hash": "dacf62ba90b6f65c67adc0503daf6f27b8256a0651a0a92bdfd8a6d2d39d3b30"
  },
  "kernelspec": {
   "display_name": "Python 3.9.7 64-bit ('neutrino_clustering_pytorch': conda)",
   "name": "python3"
  },
  "language_info": {
   "codemirror_mode": {
    "name": "ipython",
    "version": 3
   },
   "file_extension": ".py",
   "mimetype": "text/x-python",
   "name": "python",
   "nbconvert_exporter": "python",
   "pygments_lexer": "ipython3",
   "version": "3.9.7"
  },
  "orig_nbformat": 4
 },
 "nbformat": 4,
 "nbformat_minor": 2
}
